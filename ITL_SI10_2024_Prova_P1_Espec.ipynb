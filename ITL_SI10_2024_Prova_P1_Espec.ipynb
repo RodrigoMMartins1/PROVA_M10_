{
  "cells": [
    {
      "cell_type": "markdown",
      "metadata": {
        "id": "V2N9h-9_J-pH"
      },
      "source": [
        "<center>\n",
        "  <img src=\"https://www.inteli.edu.br/wp-content/uploads/2022/04/28103439/Logo-Container.png\" />\n",
        "</center>"
      ]
    },
    {
      "cell_type": "markdown",
      "metadata": {
        "id": "17CxrA-0KNVC"
      },
      "source": [
        "# `[SI10-2024-P1]` - Prova Prática"
      ]
    },
    {
      "cell_type": "markdown",
      "metadata": {
        "id": "rUdo4gdLMUQO"
      },
      "source": [
        "Sistemas de Informação - Módulo 10 - Turma 4\n",
        "\n"
      ]
    },
    {
      "cell_type": "markdown",
      "metadata": {
        "id": "fOUrvQIkEuaj"
      },
      "source": [
        "**Nome**: *Escreva seu nome aqui.*"
      ]
    },
    {
      "cell_type": "markdown",
      "metadata": {
        "id": "0zjnr3Mq2Pqb"
      },
      "source": [
        "**ANTES DE PROSSEGUIR FAÇA UMA CÓPIA DESTE NOTEBOOK**"
      ]
    },
    {
      "cell_type": "markdown",
      "metadata": {
        "id": "yLqgpidSE1jb"
      },
      "source": [
        "----"
      ]
    },
    {
      "cell_type": "markdown",
      "metadata": {
        "id": "hAI4WVs6E2vi"
      },
      "source": [
        "## Contexto"
      ]
    },
    {
      "cell_type": "markdown",
      "metadata": {
        "id": "MxHRN2DpE_B6"
      },
      "source": [
        "Uma plataforma online, que atua na venda de produtos, deseja otimizar sua interface para melhorar a experiência do usuário e aumentar as taxas de conversão. Recentemente, a empresa implementou um redesign de sua página web, e os registros dessa mudança estão detalhados nos dados coletados desde então. As variáveis registradas diariamente incluem o número de visitantes únicos, sessões, taxa de rejeição, páginas por sessão, principais origens do tráfego, tipos de dispositivos usados, eventos ocorridos, taxa de conversão e o tempo médio de sessão.\n",
        "\n",
        "Com base nesses dados, a empresa considera realizar uma mudança similar para otimizar ainda mais sua plataforma. Antes de proceder, a equipe deseja empregar simulações de Monte Carlo para avaliar os possíveis impactos de um novo redesign na taxa de conversão, tempo médio de sessão e taxa de rejeição, utilizando análises estatísticas para prever tendências futuras e ajustar estratégias de maneira informada. Essa abordagem visa garantir que as decisões tomadas maximizem as taxas de conversões, fundamentais para o sucesso contínuo da plataforma."
      ]
    },
    {
      "cell_type": "markdown",
      "metadata": {
        "id": "f_y3dG-wFAy1"
      },
      "source": [
        "## Importação do dataset e das bibliotecas"
      ]
    },
    {
      "cell_type": "code",
      "execution_count": 5,
      "metadata": {
        "colab": {
          "base_uri": "https://localhost:8080/"
        },
        "id": "qenoiQovFDmA",
        "outputId": "2c273e79-6440-40d9-9130-30c2f08af9ef"
      },
      "outputs": [],
      "source": [
        "# Importação do dataset\n",
        "# https://drive.google.com/file/d/1K_2ZDsrhheRDKoHN2ynfLCPGPFiS2CZr/view?usp=drive_link"
      ]
    },
    {
      "cell_type": "code",
      "execution_count": 103,
      "metadata": {
        "colab": {
          "base_uri": "https://localhost:8080/"
        },
        "id": "EKRMnxrgFOFF",
        "outputId": "f2b2de46-14df-46ee-f1f4-c5d52db4653f"
      },
      "outputs": [
        {
          "name": "stdout",
          "output_type": "stream",
          "text": [
            "         Data  Visitantes Únicos  Sessões  Taxa de Rejeição (%)  \\\n",
            "0  2023-01-01              113.0    126.0             50.496714   \n",
            "1  2023-01-02               90.0    157.0             49.438007   \n",
            "2  2023-01-03               92.0    185.0             49.800231   \n",
            "3  2023-01-04              130.0    206.0             50.251843   \n",
            "4  2023-01-05              123.0    155.0             48.070931   \n",
            "\n",
            "   Páginas por Sessão Principais Origens do Tráfego Dispositivos  Eventos  \\\n",
            "0            1.834201                        Direto      Desktop        8   \n",
            "1            1.955760                        Social      Desktop        5   \n",
            "2            2.285052                        Direto      Desktop        9   \n",
            "3            2.325464                          Pago       Mobile        6   \n",
            "4            2.267006                        Direto      Desktop        6   \n",
            "\n",
            "   Taxa de Conversão (%)  Tempo Médio de Sessão (minutos)  \n",
            "0               1.952083                         5.395516  \n",
            "1               2.066180                         4.680899  \n",
            "2               2.058858                         5.972584  \n",
            "3               2.134617                         4.705854  \n",
            "4               2.420236                         5.835801  \n"
          ]
        }
      ],
      "source": [
        "# Importação das bibliotecas\n",
        "import pandas as pd\n",
        "\n",
        "# Transforma o dataset em DataFrame Pandas\n",
        "df = pd.read_csv('ITL-SI10-2024-P1-dataset.csv')\n",
        "print(df.head())"
      ]
    },
    {
      "cell_type": "markdown",
      "metadata": {
        "id": "3KN7GhBo1hk0"
      },
      "source": [
        "## Questões"
      ]
    },
    {
      "cell_type": "markdown",
      "metadata": {
        "id": "0vydKbqQ17_d"
      },
      "source": [
        "### Questão 1"
      ]
    },
    {
      "cell_type": "markdown",
      "metadata": {
        "id": "zLhCUOz_1vyj"
      },
      "source": [
        "**Análise Exploratória de Dados**: Faça a exploração dos dados, utilizando gráficos interativos. Identifique correlações entre as variáveis e apresente essas relações em uma matriz de correlação focada nas variáveis mais relevantes para a conversão de vendas."
      ]
    },
    {
      "cell_type": "code",
      "execution_count": 8,
      "metadata": {
        "id": "iWukqoJ_2XAn"
      },
      "outputs": [
        {
          "name": "stdout",
          "output_type": "stream",
          "text": [
            "<class 'pandas.core.frame.DataFrame'>\n",
            "RangeIndex: 60 entries, 0 to 59\n",
            "Data columns (total 10 columns):\n",
            " #   Column                           Non-Null Count  Dtype  \n",
            "---  ------                           --------------  -----  \n",
            " 0   Data                             60 non-null     object \n",
            " 1   Visitantes Únicos                60 non-null     float64\n",
            " 2   Sessões                          60 non-null     float64\n",
            " 3   Taxa de Rejeição (%)             60 non-null     float64\n",
            " 4   Páginas por Sessão               60 non-null     float64\n",
            " 5   Principais Origens do Tráfego    60 non-null     object \n",
            " 6   Dispositivos                     60 non-null     object \n",
            " 7   Eventos                          60 non-null     int64  \n",
            " 8   Taxa de Conversão (%)            60 non-null     float64\n",
            " 9   Tempo Médio de Sessão (minutos)  60 non-null     float64\n",
            "dtypes: float64(6), int64(1), object(3)\n",
            "memory usage: 4.8+ KB\n"
          ]
        }
      ],
      "source": [
        "# Escreva sua resposta nesta seção (Você pode criar quantas células de texto e de código forem necessárias)\n",
        "df.info()"
      ]
    },
    {
      "cell_type": "code",
      "execution_count": 27,
      "metadata": {},
      "outputs": [
        {
          "data": {
            "text/html": [
              "<div>\n",
              "<style scoped>\n",
              "    .dataframe tbody tr th:only-of-type {\n",
              "        vertical-align: middle;\n",
              "    }\n",
              "\n",
              "    .dataframe tbody tr th {\n",
              "        vertical-align: top;\n",
              "    }\n",
              "\n",
              "    .dataframe thead th {\n",
              "        text-align: right;\n",
              "    }\n",
              "</style>\n",
              "<table border=\"1\" class=\"dataframe\">\n",
              "  <thead>\n",
              "    <tr style=\"text-align: right;\">\n",
              "      <th></th>\n",
              "      <th>Data</th>\n",
              "      <th>Visitantes Únicos</th>\n",
              "      <th>Sessões</th>\n",
              "      <th>Taxa de Rejeição (%)</th>\n",
              "      <th>Páginas por Sessão</th>\n",
              "      <th>Eventos</th>\n",
              "      <th>Taxa de Conversão (%)</th>\n",
              "      <th>Tempo Médio de Sessão (minutos)</th>\n",
              "    </tr>\n",
              "  </thead>\n",
              "  <tbody>\n",
              "    <tr>\n",
              "      <th>count</th>\n",
              "      <td>60</td>\n",
              "      <td>60.000000</td>\n",
              "      <td>60.000000</td>\n",
              "      <td>60.000000</td>\n",
              "      <td>60.000000</td>\n",
              "      <td>60.000000</td>\n",
              "      <td>60.000000</td>\n",
              "      <td>60.000000</td>\n",
              "    </tr>\n",
              "    <tr>\n",
              "      <th>mean</th>\n",
              "      <td>2023-01-30 12:00:00</td>\n",
              "      <td>301.133333</td>\n",
              "      <td>449.450000</td>\n",
              "      <td>34.230939</td>\n",
              "      <td>4.007533</td>\n",
              "      <td>5.300000</td>\n",
              "      <td>4.499632</td>\n",
              "      <td>10.045957</td>\n",
              "    </tr>\n",
              "    <tr>\n",
              "      <th>min</th>\n",
              "      <td>2023-01-01 00:00:00</td>\n",
              "      <td>90.000000</td>\n",
              "      <td>126.000000</td>\n",
              "      <td>20.177732</td>\n",
              "      <td>1.834201</td>\n",
              "      <td>1.000000</td>\n",
              "      <td>1.952083</td>\n",
              "      <td>4.680899</td>\n",
              "    </tr>\n",
              "    <tr>\n",
              "      <th>25%</th>\n",
              "      <td>2023-01-15 18:00:00</td>\n",
              "      <td>196.500000</td>\n",
              "      <td>298.750000</td>\n",
              "      <td>24.860077</td>\n",
              "      <td>3.078881</td>\n",
              "      <td>3.750000</td>\n",
              "      <td>3.329572</td>\n",
              "      <td>6.915095</td>\n",
              "    </tr>\n",
              "    <tr>\n",
              "      <th>50%</th>\n",
              "      <td>2023-01-30 12:00:00</td>\n",
              "      <td>319.500000</td>\n",
              "      <td>456.000000</td>\n",
              "      <td>34.381987</td>\n",
              "      <td>4.027289</td>\n",
              "      <td>5.000000</td>\n",
              "      <td>4.530517</td>\n",
              "      <td>10.039833</td>\n",
              "    </tr>\n",
              "    <tr>\n",
              "      <th>75%</th>\n",
              "      <td>2023-02-14 06:00:00</td>\n",
              "      <td>401.250000</td>\n",
              "      <td>616.000000</td>\n",
              "      <td>43.013749</td>\n",
              "      <td>4.890745</td>\n",
              "      <td>6.250000</td>\n",
              "      <td>5.748005</td>\n",
              "      <td>13.282681</td>\n",
              "    </tr>\n",
              "    <tr>\n",
              "      <th>max</th>\n",
              "      <td>2023-03-01 00:00:00</td>\n",
              "      <td>517.000000</td>\n",
              "      <td>769.000000</td>\n",
              "      <td>50.496714</td>\n",
              "      <td>5.996747</td>\n",
              "      <td>10.000000</td>\n",
              "      <td>7.075193</td>\n",
              "      <td>16.360085</td>\n",
              "    </tr>\n",
              "    <tr>\n",
              "      <th>std</th>\n",
              "      <td>NaN</td>\n",
              "      <td>120.896295</td>\n",
              "      <td>182.619121</td>\n",
              "      <td>10.164913</td>\n",
              "      <td>1.156751</td>\n",
              "      <td>2.109703</td>\n",
              "      <td>1.486718</td>\n",
              "      <td>3.413248</td>\n",
              "    </tr>\n",
              "  </tbody>\n",
              "</table>\n",
              "</div>"
            ],
            "text/plain": [
              "                      Data  Visitantes Únicos     Sessões  \\\n",
              "count                   60          60.000000   60.000000   \n",
              "mean   2023-01-30 12:00:00         301.133333  449.450000   \n",
              "min    2023-01-01 00:00:00          90.000000  126.000000   \n",
              "25%    2023-01-15 18:00:00         196.500000  298.750000   \n",
              "50%    2023-01-30 12:00:00         319.500000  456.000000   \n",
              "75%    2023-02-14 06:00:00         401.250000  616.000000   \n",
              "max    2023-03-01 00:00:00         517.000000  769.000000   \n",
              "std                    NaN         120.896295  182.619121   \n",
              "\n",
              "       Taxa de Rejeição (%)  Páginas por Sessão    Eventos  \\\n",
              "count             60.000000           60.000000  60.000000   \n",
              "mean              34.230939            4.007533   5.300000   \n",
              "min               20.177732            1.834201   1.000000   \n",
              "25%               24.860077            3.078881   3.750000   \n",
              "50%               34.381987            4.027289   5.000000   \n",
              "75%               43.013749            4.890745   6.250000   \n",
              "max               50.496714            5.996747  10.000000   \n",
              "std               10.164913            1.156751   2.109703   \n",
              "\n",
              "       Taxa de Conversão (%)  Tempo Médio de Sessão (minutos)  \n",
              "count              60.000000                        60.000000  \n",
              "mean                4.499632                        10.045957  \n",
              "min                 1.952083                         4.680899  \n",
              "25%                 3.329572                         6.915095  \n",
              "50%                 4.530517                        10.039833  \n",
              "75%                 5.748005                        13.282681  \n",
              "max                 7.075193                        16.360085  \n",
              "std                 1.486718                         3.413248  "
            ]
          },
          "execution_count": 27,
          "metadata": {},
          "output_type": "execute_result"
        }
      ],
      "source": [
        "df.describe()"
      ]
    },
    {
      "cell_type": "code",
      "execution_count": 12,
      "metadata": {},
      "outputs": [
        {
          "name": "stdout",
          "output_type": "stream",
          "text": [
            "O gráfico possuí 60 linhas\n"
          ]
        }
      ],
      "source": [
        "print(f'O gráfico possuí {len(df)} linhas')"
      ]
    },
    {
      "cell_type": "code",
      "execution_count": 14,
      "metadata": {},
      "outputs": [
        {
          "name": "stdout",
          "output_type": "stream",
          "text": [
            "O gráfico possuí 0 valores nulos\n"
          ]
        }
      ],
      "source": [
        "print(f'O gráfico possuí {df.isna().sum().sum()} valores nulos')"
      ]
    },
    {
      "cell_type": "code",
      "execution_count": 16,
      "metadata": {},
      "outputs": [
        {
          "data": {
            "text/html": [
              "<div>\n",
              "<style scoped>\n",
              "    .dataframe tbody tr th:only-of-type {\n",
              "        vertical-align: middle;\n",
              "    }\n",
              "\n",
              "    .dataframe tbody tr th {\n",
              "        vertical-align: top;\n",
              "    }\n",
              "\n",
              "    .dataframe thead th {\n",
              "        text-align: right;\n",
              "    }\n",
              "</style>\n",
              "<table border=\"1\" class=\"dataframe\">\n",
              "  <thead>\n",
              "    <tr style=\"text-align: right;\">\n",
              "      <th></th>\n",
              "      <th>Data</th>\n",
              "      <th>Visitantes Únicos</th>\n",
              "      <th>Sessões</th>\n",
              "      <th>Taxa de Rejeição (%)</th>\n",
              "      <th>Páginas por Sessão</th>\n",
              "      <th>Principais Origens do Tráfego</th>\n",
              "      <th>Dispositivos</th>\n",
              "      <th>Eventos</th>\n",
              "      <th>Taxa de Conversão (%)</th>\n",
              "      <th>Tempo Médio de Sessão (minutos)</th>\n",
              "    </tr>\n",
              "  </thead>\n",
              "  <tbody>\n",
              "    <tr>\n",
              "      <th>0</th>\n",
              "      <td>2023-01-01</td>\n",
              "      <td>113.0</td>\n",
              "      <td>126.0</td>\n",
              "      <td>50.496714</td>\n",
              "      <td>1.834201</td>\n",
              "      <td>Direto</td>\n",
              "      <td>Desktop</td>\n",
              "      <td>8</td>\n",
              "      <td>1.952083</td>\n",
              "      <td>5.395516</td>\n",
              "    </tr>\n",
              "    <tr>\n",
              "      <th>1</th>\n",
              "      <td>2023-01-02</td>\n",
              "      <td>90.0</td>\n",
              "      <td>157.0</td>\n",
              "      <td>49.438007</td>\n",
              "      <td>1.955760</td>\n",
              "      <td>Social</td>\n",
              "      <td>Desktop</td>\n",
              "      <td>5</td>\n",
              "      <td>2.066180</td>\n",
              "      <td>4.680899</td>\n",
              "    </tr>\n",
              "    <tr>\n",
              "      <th>2</th>\n",
              "      <td>2023-01-03</td>\n",
              "      <td>92.0</td>\n",
              "      <td>185.0</td>\n",
              "      <td>49.800231</td>\n",
              "      <td>2.285052</td>\n",
              "      <td>Direto</td>\n",
              "      <td>Desktop</td>\n",
              "      <td>9</td>\n",
              "      <td>2.058858</td>\n",
              "      <td>5.972584</td>\n",
              "    </tr>\n",
              "    <tr>\n",
              "      <th>3</th>\n",
              "      <td>2023-01-04</td>\n",
              "      <td>130.0</td>\n",
              "      <td>206.0</td>\n",
              "      <td>50.251843</td>\n",
              "      <td>2.325464</td>\n",
              "      <td>Pago</td>\n",
              "      <td>Mobile</td>\n",
              "      <td>6</td>\n",
              "      <td>2.134617</td>\n",
              "      <td>4.705854</td>\n",
              "    </tr>\n",
              "    <tr>\n",
              "      <th>4</th>\n",
              "      <td>2023-01-05</td>\n",
              "      <td>123.0</td>\n",
              "      <td>155.0</td>\n",
              "      <td>48.070931</td>\n",
              "      <td>2.267006</td>\n",
              "      <td>Direto</td>\n",
              "      <td>Desktop</td>\n",
              "      <td>6</td>\n",
              "      <td>2.420236</td>\n",
              "      <td>5.835801</td>\n",
              "    </tr>\n",
              "  </tbody>\n",
              "</table>\n",
              "</div>"
            ],
            "text/plain": [
              "         Data  Visitantes Únicos  Sessões  Taxa de Rejeição (%)  \\\n",
              "0  2023-01-01              113.0    126.0             50.496714   \n",
              "1  2023-01-02               90.0    157.0             49.438007   \n",
              "2  2023-01-03               92.0    185.0             49.800231   \n",
              "3  2023-01-04              130.0    206.0             50.251843   \n",
              "4  2023-01-05              123.0    155.0             48.070931   \n",
              "\n",
              "   Páginas por Sessão Principais Origens do Tráfego Dispositivos  Eventos  \\\n",
              "0            1.834201                        Direto      Desktop        8   \n",
              "1            1.955760                        Social      Desktop        5   \n",
              "2            2.285052                        Direto      Desktop        9   \n",
              "3            2.325464                          Pago       Mobile        6   \n",
              "4            2.267006                        Direto      Desktop        6   \n",
              "\n",
              "   Taxa de Conversão (%)  Tempo Médio de Sessão (minutos)  \n",
              "0               1.952083                         5.395516  \n",
              "1               2.066180                         4.680899  \n",
              "2               2.058858                         5.972584  \n",
              "3               2.134617                         4.705854  \n",
              "4               2.420236                         5.835801  "
            ]
          },
          "execution_count": 16,
          "metadata": {},
          "output_type": "execute_result"
        }
      ],
      "source": [
        "df.head()"
      ]
    },
    {
      "cell_type": "code",
      "execution_count": 26,
      "metadata": {},
      "outputs": [
        {
          "data": {
            "application/vnd.plotly.v1+json": {
              "config": {
                "plotlyServerURL": "https://plot.ly"
              },
              "data": [
                {
                  "hovertemplate": "Data=%{x}<br>Visitantes Únicos=%{y}<extra></extra>",
                  "legendgroup": "",
                  "line": {
                    "color": "#636efa",
                    "dash": "solid"
                  },
                  "marker": {
                    "symbol": "circle"
                  },
                  "mode": "lines",
                  "name": "",
                  "orientation": "v",
                  "showlegend": false,
                  "type": "scatter",
                  "x": [
                    "2023-01-01T00:00:00",
                    "2023-01-02T00:00:00",
                    "2023-01-03T00:00:00",
                    "2023-01-04T00:00:00",
                    "2023-01-05T00:00:00",
                    "2023-01-06T00:00:00",
                    "2023-01-07T00:00:00",
                    "2023-01-08T00:00:00",
                    "2023-01-09T00:00:00",
                    "2023-01-10T00:00:00",
                    "2023-01-11T00:00:00",
                    "2023-01-12T00:00:00",
                    "2023-01-13T00:00:00",
                    "2023-01-14T00:00:00",
                    "2023-01-15T00:00:00",
                    "2023-01-16T00:00:00",
                    "2023-01-17T00:00:00",
                    "2023-01-18T00:00:00",
                    "2023-01-19T00:00:00",
                    "2023-01-20T00:00:00",
                    "2023-01-21T00:00:00",
                    "2023-01-22T00:00:00",
                    "2023-01-23T00:00:00",
                    "2023-01-24T00:00:00",
                    "2023-01-25T00:00:00",
                    "2023-01-26T00:00:00",
                    "2023-01-27T00:00:00",
                    "2023-01-28T00:00:00",
                    "2023-01-29T00:00:00",
                    "2023-01-30T00:00:00",
                    "2023-01-31T00:00:00",
                    "2023-02-01T00:00:00",
                    "2023-02-02T00:00:00",
                    "2023-02-03T00:00:00",
                    "2023-02-04T00:00:00",
                    "2023-02-05T00:00:00",
                    "2023-02-06T00:00:00",
                    "2023-02-07T00:00:00",
                    "2023-02-08T00:00:00",
                    "2023-02-09T00:00:00",
                    "2023-02-10T00:00:00",
                    "2023-02-11T00:00:00",
                    "2023-02-12T00:00:00",
                    "2023-02-13T00:00:00",
                    "2023-02-14T00:00:00",
                    "2023-02-15T00:00:00",
                    "2023-02-16T00:00:00",
                    "2023-02-17T00:00:00",
                    "2023-02-18T00:00:00",
                    "2023-02-19T00:00:00",
                    "2023-02-20T00:00:00",
                    "2023-02-21T00:00:00",
                    "2023-02-22T00:00:00",
                    "2023-02-23T00:00:00",
                    "2023-02-24T00:00:00",
                    "2023-02-25T00:00:00",
                    "2023-02-26T00:00:00",
                    "2023-02-27T00:00:00",
                    "2023-02-28T00:00:00",
                    "2023-03-01T00:00:00"
                  ],
                  "xaxis": "x",
                  "y": [
                    113,
                    90,
                    92,
                    130,
                    123,
                    148,
                    150,
                    146,
                    137,
                    131,
                    159,
                    192,
                    186,
                    163,
                    198,
                    209,
                    191,
                    218,
                    223,
                    206,
                    243,
                    254,
                    271,
                    277,
                    235,
                    251,
                    287,
                    293,
                    300,
                    374,
                    315,
                    333,
                    336,
                    337,
                    324,
                    352,
                    329,
                    346,
                    348,
                    366,
                    417,
                    341,
                    398,
                    359,
                    389,
                    427,
                    413,
                    397,
                    411,
                    446,
                    424,
                    450,
                    453,
                    446,
                    509,
                    486,
                    439,
                    490,
                    480,
                    517
                  ],
                  "yaxis": "y"
                }
              ],
              "layout": {
                "legend": {
                  "tracegroupgap": 0
                },
                "template": {
                  "data": {
                    "bar": [
                      {
                        "error_x": {
                          "color": "#2a3f5f"
                        },
                        "error_y": {
                          "color": "#2a3f5f"
                        },
                        "marker": {
                          "line": {
                            "color": "#E5ECF6",
                            "width": 0.5
                          },
                          "pattern": {
                            "fillmode": "overlay",
                            "size": 10,
                            "solidity": 0.2
                          }
                        },
                        "type": "bar"
                      }
                    ],
                    "barpolar": [
                      {
                        "marker": {
                          "line": {
                            "color": "#E5ECF6",
                            "width": 0.5
                          },
                          "pattern": {
                            "fillmode": "overlay",
                            "size": 10,
                            "solidity": 0.2
                          }
                        },
                        "type": "barpolar"
                      }
                    ],
                    "carpet": [
                      {
                        "aaxis": {
                          "endlinecolor": "#2a3f5f",
                          "gridcolor": "white",
                          "linecolor": "white",
                          "minorgridcolor": "white",
                          "startlinecolor": "#2a3f5f"
                        },
                        "baxis": {
                          "endlinecolor": "#2a3f5f",
                          "gridcolor": "white",
                          "linecolor": "white",
                          "minorgridcolor": "white",
                          "startlinecolor": "#2a3f5f"
                        },
                        "type": "carpet"
                      }
                    ],
                    "choropleth": [
                      {
                        "colorbar": {
                          "outlinewidth": 0,
                          "ticks": ""
                        },
                        "type": "choropleth"
                      }
                    ],
                    "contour": [
                      {
                        "colorbar": {
                          "outlinewidth": 0,
                          "ticks": ""
                        },
                        "colorscale": [
                          [
                            0,
                            "#0d0887"
                          ],
                          [
                            0.1111111111111111,
                            "#46039f"
                          ],
                          [
                            0.2222222222222222,
                            "#7201a8"
                          ],
                          [
                            0.3333333333333333,
                            "#9c179e"
                          ],
                          [
                            0.4444444444444444,
                            "#bd3786"
                          ],
                          [
                            0.5555555555555556,
                            "#d8576b"
                          ],
                          [
                            0.6666666666666666,
                            "#ed7953"
                          ],
                          [
                            0.7777777777777778,
                            "#fb9f3a"
                          ],
                          [
                            0.8888888888888888,
                            "#fdca26"
                          ],
                          [
                            1,
                            "#f0f921"
                          ]
                        ],
                        "type": "contour"
                      }
                    ],
                    "contourcarpet": [
                      {
                        "colorbar": {
                          "outlinewidth": 0,
                          "ticks": ""
                        },
                        "type": "contourcarpet"
                      }
                    ],
                    "heatmap": [
                      {
                        "colorbar": {
                          "outlinewidth": 0,
                          "ticks": ""
                        },
                        "colorscale": [
                          [
                            0,
                            "#0d0887"
                          ],
                          [
                            0.1111111111111111,
                            "#46039f"
                          ],
                          [
                            0.2222222222222222,
                            "#7201a8"
                          ],
                          [
                            0.3333333333333333,
                            "#9c179e"
                          ],
                          [
                            0.4444444444444444,
                            "#bd3786"
                          ],
                          [
                            0.5555555555555556,
                            "#d8576b"
                          ],
                          [
                            0.6666666666666666,
                            "#ed7953"
                          ],
                          [
                            0.7777777777777778,
                            "#fb9f3a"
                          ],
                          [
                            0.8888888888888888,
                            "#fdca26"
                          ],
                          [
                            1,
                            "#f0f921"
                          ]
                        ],
                        "type": "heatmap"
                      }
                    ],
                    "heatmapgl": [
                      {
                        "colorbar": {
                          "outlinewidth": 0,
                          "ticks": ""
                        },
                        "colorscale": [
                          [
                            0,
                            "#0d0887"
                          ],
                          [
                            0.1111111111111111,
                            "#46039f"
                          ],
                          [
                            0.2222222222222222,
                            "#7201a8"
                          ],
                          [
                            0.3333333333333333,
                            "#9c179e"
                          ],
                          [
                            0.4444444444444444,
                            "#bd3786"
                          ],
                          [
                            0.5555555555555556,
                            "#d8576b"
                          ],
                          [
                            0.6666666666666666,
                            "#ed7953"
                          ],
                          [
                            0.7777777777777778,
                            "#fb9f3a"
                          ],
                          [
                            0.8888888888888888,
                            "#fdca26"
                          ],
                          [
                            1,
                            "#f0f921"
                          ]
                        ],
                        "type": "heatmapgl"
                      }
                    ],
                    "histogram": [
                      {
                        "marker": {
                          "pattern": {
                            "fillmode": "overlay",
                            "size": 10,
                            "solidity": 0.2
                          }
                        },
                        "type": "histogram"
                      }
                    ],
                    "histogram2d": [
                      {
                        "colorbar": {
                          "outlinewidth": 0,
                          "ticks": ""
                        },
                        "colorscale": [
                          [
                            0,
                            "#0d0887"
                          ],
                          [
                            0.1111111111111111,
                            "#46039f"
                          ],
                          [
                            0.2222222222222222,
                            "#7201a8"
                          ],
                          [
                            0.3333333333333333,
                            "#9c179e"
                          ],
                          [
                            0.4444444444444444,
                            "#bd3786"
                          ],
                          [
                            0.5555555555555556,
                            "#d8576b"
                          ],
                          [
                            0.6666666666666666,
                            "#ed7953"
                          ],
                          [
                            0.7777777777777778,
                            "#fb9f3a"
                          ],
                          [
                            0.8888888888888888,
                            "#fdca26"
                          ],
                          [
                            1,
                            "#f0f921"
                          ]
                        ],
                        "type": "histogram2d"
                      }
                    ],
                    "histogram2dcontour": [
                      {
                        "colorbar": {
                          "outlinewidth": 0,
                          "ticks": ""
                        },
                        "colorscale": [
                          [
                            0,
                            "#0d0887"
                          ],
                          [
                            0.1111111111111111,
                            "#46039f"
                          ],
                          [
                            0.2222222222222222,
                            "#7201a8"
                          ],
                          [
                            0.3333333333333333,
                            "#9c179e"
                          ],
                          [
                            0.4444444444444444,
                            "#bd3786"
                          ],
                          [
                            0.5555555555555556,
                            "#d8576b"
                          ],
                          [
                            0.6666666666666666,
                            "#ed7953"
                          ],
                          [
                            0.7777777777777778,
                            "#fb9f3a"
                          ],
                          [
                            0.8888888888888888,
                            "#fdca26"
                          ],
                          [
                            1,
                            "#f0f921"
                          ]
                        ],
                        "type": "histogram2dcontour"
                      }
                    ],
                    "mesh3d": [
                      {
                        "colorbar": {
                          "outlinewidth": 0,
                          "ticks": ""
                        },
                        "type": "mesh3d"
                      }
                    ],
                    "parcoords": [
                      {
                        "line": {
                          "colorbar": {
                            "outlinewidth": 0,
                            "ticks": ""
                          }
                        },
                        "type": "parcoords"
                      }
                    ],
                    "pie": [
                      {
                        "automargin": true,
                        "type": "pie"
                      }
                    ],
                    "scatter": [
                      {
                        "fillpattern": {
                          "fillmode": "overlay",
                          "size": 10,
                          "solidity": 0.2
                        },
                        "type": "scatter"
                      }
                    ],
                    "scatter3d": [
                      {
                        "line": {
                          "colorbar": {
                            "outlinewidth": 0,
                            "ticks": ""
                          }
                        },
                        "marker": {
                          "colorbar": {
                            "outlinewidth": 0,
                            "ticks": ""
                          }
                        },
                        "type": "scatter3d"
                      }
                    ],
                    "scattercarpet": [
                      {
                        "marker": {
                          "colorbar": {
                            "outlinewidth": 0,
                            "ticks": ""
                          }
                        },
                        "type": "scattercarpet"
                      }
                    ],
                    "scattergeo": [
                      {
                        "marker": {
                          "colorbar": {
                            "outlinewidth": 0,
                            "ticks": ""
                          }
                        },
                        "type": "scattergeo"
                      }
                    ],
                    "scattergl": [
                      {
                        "marker": {
                          "colorbar": {
                            "outlinewidth": 0,
                            "ticks": ""
                          }
                        },
                        "type": "scattergl"
                      }
                    ],
                    "scattermapbox": [
                      {
                        "marker": {
                          "colorbar": {
                            "outlinewidth": 0,
                            "ticks": ""
                          }
                        },
                        "type": "scattermapbox"
                      }
                    ],
                    "scatterpolar": [
                      {
                        "marker": {
                          "colorbar": {
                            "outlinewidth": 0,
                            "ticks": ""
                          }
                        },
                        "type": "scatterpolar"
                      }
                    ],
                    "scatterpolargl": [
                      {
                        "marker": {
                          "colorbar": {
                            "outlinewidth": 0,
                            "ticks": ""
                          }
                        },
                        "type": "scatterpolargl"
                      }
                    ],
                    "scatterternary": [
                      {
                        "marker": {
                          "colorbar": {
                            "outlinewidth": 0,
                            "ticks": ""
                          }
                        },
                        "type": "scatterternary"
                      }
                    ],
                    "surface": [
                      {
                        "colorbar": {
                          "outlinewidth": 0,
                          "ticks": ""
                        },
                        "colorscale": [
                          [
                            0,
                            "#0d0887"
                          ],
                          [
                            0.1111111111111111,
                            "#46039f"
                          ],
                          [
                            0.2222222222222222,
                            "#7201a8"
                          ],
                          [
                            0.3333333333333333,
                            "#9c179e"
                          ],
                          [
                            0.4444444444444444,
                            "#bd3786"
                          ],
                          [
                            0.5555555555555556,
                            "#d8576b"
                          ],
                          [
                            0.6666666666666666,
                            "#ed7953"
                          ],
                          [
                            0.7777777777777778,
                            "#fb9f3a"
                          ],
                          [
                            0.8888888888888888,
                            "#fdca26"
                          ],
                          [
                            1,
                            "#f0f921"
                          ]
                        ],
                        "type": "surface"
                      }
                    ],
                    "table": [
                      {
                        "cells": {
                          "fill": {
                            "color": "#EBF0F8"
                          },
                          "line": {
                            "color": "white"
                          }
                        },
                        "header": {
                          "fill": {
                            "color": "#C8D4E3"
                          },
                          "line": {
                            "color": "white"
                          }
                        },
                        "type": "table"
                      }
                    ]
                  },
                  "layout": {
                    "annotationdefaults": {
                      "arrowcolor": "#2a3f5f",
                      "arrowhead": 0,
                      "arrowwidth": 1
                    },
                    "autotypenumbers": "strict",
                    "coloraxis": {
                      "colorbar": {
                        "outlinewidth": 0,
                        "ticks": ""
                      }
                    },
                    "colorscale": {
                      "diverging": [
                        [
                          0,
                          "#8e0152"
                        ],
                        [
                          0.1,
                          "#c51b7d"
                        ],
                        [
                          0.2,
                          "#de77ae"
                        ],
                        [
                          0.3,
                          "#f1b6da"
                        ],
                        [
                          0.4,
                          "#fde0ef"
                        ],
                        [
                          0.5,
                          "#f7f7f7"
                        ],
                        [
                          0.6,
                          "#e6f5d0"
                        ],
                        [
                          0.7,
                          "#b8e186"
                        ],
                        [
                          0.8,
                          "#7fbc41"
                        ],
                        [
                          0.9,
                          "#4d9221"
                        ],
                        [
                          1,
                          "#276419"
                        ]
                      ],
                      "sequential": [
                        [
                          0,
                          "#0d0887"
                        ],
                        [
                          0.1111111111111111,
                          "#46039f"
                        ],
                        [
                          0.2222222222222222,
                          "#7201a8"
                        ],
                        [
                          0.3333333333333333,
                          "#9c179e"
                        ],
                        [
                          0.4444444444444444,
                          "#bd3786"
                        ],
                        [
                          0.5555555555555556,
                          "#d8576b"
                        ],
                        [
                          0.6666666666666666,
                          "#ed7953"
                        ],
                        [
                          0.7777777777777778,
                          "#fb9f3a"
                        ],
                        [
                          0.8888888888888888,
                          "#fdca26"
                        ],
                        [
                          1,
                          "#f0f921"
                        ]
                      ],
                      "sequentialminus": [
                        [
                          0,
                          "#0d0887"
                        ],
                        [
                          0.1111111111111111,
                          "#46039f"
                        ],
                        [
                          0.2222222222222222,
                          "#7201a8"
                        ],
                        [
                          0.3333333333333333,
                          "#9c179e"
                        ],
                        [
                          0.4444444444444444,
                          "#bd3786"
                        ],
                        [
                          0.5555555555555556,
                          "#d8576b"
                        ],
                        [
                          0.6666666666666666,
                          "#ed7953"
                        ],
                        [
                          0.7777777777777778,
                          "#fb9f3a"
                        ],
                        [
                          0.8888888888888888,
                          "#fdca26"
                        ],
                        [
                          1,
                          "#f0f921"
                        ]
                      ]
                    },
                    "colorway": [
                      "#636efa",
                      "#EF553B",
                      "#00cc96",
                      "#ab63fa",
                      "#FFA15A",
                      "#19d3f3",
                      "#FF6692",
                      "#B6E880",
                      "#FF97FF",
                      "#FECB52"
                    ],
                    "font": {
                      "color": "#2a3f5f"
                    },
                    "geo": {
                      "bgcolor": "white",
                      "lakecolor": "white",
                      "landcolor": "#E5ECF6",
                      "showlakes": true,
                      "showland": true,
                      "subunitcolor": "white"
                    },
                    "hoverlabel": {
                      "align": "left"
                    },
                    "hovermode": "closest",
                    "mapbox": {
                      "style": "light"
                    },
                    "paper_bgcolor": "white",
                    "plot_bgcolor": "#E5ECF6",
                    "polar": {
                      "angularaxis": {
                        "gridcolor": "white",
                        "linecolor": "white",
                        "ticks": ""
                      },
                      "bgcolor": "#E5ECF6",
                      "radialaxis": {
                        "gridcolor": "white",
                        "linecolor": "white",
                        "ticks": ""
                      }
                    },
                    "scene": {
                      "xaxis": {
                        "backgroundcolor": "#E5ECF6",
                        "gridcolor": "white",
                        "gridwidth": 2,
                        "linecolor": "white",
                        "showbackground": true,
                        "ticks": "",
                        "zerolinecolor": "white"
                      },
                      "yaxis": {
                        "backgroundcolor": "#E5ECF6",
                        "gridcolor": "white",
                        "gridwidth": 2,
                        "linecolor": "white",
                        "showbackground": true,
                        "ticks": "",
                        "zerolinecolor": "white"
                      },
                      "zaxis": {
                        "backgroundcolor": "#E5ECF6",
                        "gridcolor": "white",
                        "gridwidth": 2,
                        "linecolor": "white",
                        "showbackground": true,
                        "ticks": "",
                        "zerolinecolor": "white"
                      }
                    },
                    "shapedefaults": {
                      "line": {
                        "color": "#2a3f5f"
                      }
                    },
                    "ternary": {
                      "aaxis": {
                        "gridcolor": "white",
                        "linecolor": "white",
                        "ticks": ""
                      },
                      "baxis": {
                        "gridcolor": "white",
                        "linecolor": "white",
                        "ticks": ""
                      },
                      "bgcolor": "#E5ECF6",
                      "caxis": {
                        "gridcolor": "white",
                        "linecolor": "white",
                        "ticks": ""
                      }
                    },
                    "title": {
                      "x": 0.05
                    },
                    "xaxis": {
                      "automargin": true,
                      "gridcolor": "white",
                      "linecolor": "white",
                      "ticks": "",
                      "title": {
                        "standoff": 15
                      },
                      "zerolinecolor": "white",
                      "zerolinewidth": 2
                    },
                    "yaxis": {
                      "automargin": true,
                      "gridcolor": "white",
                      "linecolor": "white",
                      "ticks": "",
                      "title": {
                        "standoff": 15
                      },
                      "zerolinecolor": "white",
                      "zerolinewidth": 2
                    }
                  }
                },
                "title": {
                  "text": "Número de Visitantes por data"
                },
                "xaxis": {
                  "anchor": "y",
                  "domain": [
                    0,
                    1
                  ],
                  "title": {
                    "text": "Data"
                  }
                },
                "yaxis": {
                  "anchor": "x",
                  "domain": [
                    0,
                    1
                  ],
                  "title": {
                    "text": "Visitantes Únicos"
                  }
                }
              }
            }
          },
          "metadata": {},
          "output_type": "display_data"
        }
      ],
      "source": [
        "import plotly.express as px\n",
        "# Número de Visitantes por data\n",
        "df['Data'] = pd.to_datetime(df['Data'])\n",
        "px.line(df, x='Data', y='Visitantes Únicos', title='Número de Visitantes por data')"
      ]
    },
    {
      "cell_type": "code",
      "execution_count": 28,
      "metadata": {},
      "outputs": [
        {
          "data": {
            "application/vnd.plotly.v1+json": {
              "config": {
                "plotlyServerURL": "https://plot.ly"
              },
              "data": [
                {
                  "hovertemplate": "Data=%{x}<br>Taxa de Conversão (%)=%{y}<extra></extra>",
                  "legendgroup": "",
                  "line": {
                    "color": "#636efa",
                    "dash": "solid"
                  },
                  "marker": {
                    "symbol": "circle"
                  },
                  "mode": "lines",
                  "name": "",
                  "orientation": "v",
                  "showlegend": false,
                  "type": "scatter",
                  "x": [
                    "2023-01-01T00:00:00",
                    "2023-01-02T00:00:00",
                    "2023-01-03T00:00:00",
                    "2023-01-04T00:00:00",
                    "2023-01-05T00:00:00",
                    "2023-01-06T00:00:00",
                    "2023-01-07T00:00:00",
                    "2023-01-08T00:00:00",
                    "2023-01-09T00:00:00",
                    "2023-01-10T00:00:00",
                    "2023-01-11T00:00:00",
                    "2023-01-12T00:00:00",
                    "2023-01-13T00:00:00",
                    "2023-01-14T00:00:00",
                    "2023-01-15T00:00:00",
                    "2023-01-16T00:00:00",
                    "2023-01-17T00:00:00",
                    "2023-01-18T00:00:00",
                    "2023-01-19T00:00:00",
                    "2023-01-20T00:00:00",
                    "2023-01-21T00:00:00",
                    "2023-01-22T00:00:00",
                    "2023-01-23T00:00:00",
                    "2023-01-24T00:00:00",
                    "2023-01-25T00:00:00",
                    "2023-01-26T00:00:00",
                    "2023-01-27T00:00:00",
                    "2023-01-28T00:00:00",
                    "2023-01-29T00:00:00",
                    "2023-01-30T00:00:00",
                    "2023-01-31T00:00:00",
                    "2023-02-01T00:00:00",
                    "2023-02-02T00:00:00",
                    "2023-02-03T00:00:00",
                    "2023-02-04T00:00:00",
                    "2023-02-05T00:00:00",
                    "2023-02-06T00:00:00",
                    "2023-02-07T00:00:00",
                    "2023-02-08T00:00:00",
                    "2023-02-09T00:00:00",
                    "2023-02-10T00:00:00",
                    "2023-02-11T00:00:00",
                    "2023-02-12T00:00:00",
                    "2023-02-13T00:00:00",
                    "2023-02-14T00:00:00",
                    "2023-02-15T00:00:00",
                    "2023-02-16T00:00:00",
                    "2023-02-17T00:00:00",
                    "2023-02-18T00:00:00",
                    "2023-02-19T00:00:00",
                    "2023-02-20T00:00:00",
                    "2023-02-21T00:00:00",
                    "2023-02-22T00:00:00",
                    "2023-02-23T00:00:00",
                    "2023-02-24T00:00:00",
                    "2023-02-25T00:00:00",
                    "2023-02-26T00:00:00",
                    "2023-02-27T00:00:00",
                    "2023-02-28T00:00:00",
                    "2023-03-01T00:00:00"
                  ],
                  "xaxis": "x",
                  "y": [
                    1.952082576215471,
                    2.0661798650454823,
                    2.058858028023126,
                    2.1346166257275265,
                    2.420235633086877,
                    2.559352816416404,
                    2.501273564113153,
                    2.6935736287722536,
                    2.714129704199679,
                    2.698199888946267,
                    2.8835971876694853,
                    3.0860070464771057,
                    3.0133665486313777,
                    3.258159280835637,
                    2.924466167557127,
                    3.3533766911154888,
                    3.3646369102136475,
                    3.410777231055108,
                    3.5345998064671096,
                    3.411412600065334,
                    3.6729480654535367,
                    3.815372274100327,
                    4.012196184135169,
                    3.897325520545517,
                    3.9530489447954262,
                    4.068468363438156,
                    4.294930042278682,
                    4.321010704186308,
                    4.319905335555499,
                    4.508953861955403,
                    4.552080636290737,
                    4.723983143121085,
                    4.641659097391925,
                    4.763843954831748,
                    4.8421451168901735,
                    4.8197502001020425,
                    5.080459485333576,
                    5.161698747556971,
                    5.220850328715094,
                    5.281626032425197,
                    5.248293434269534,
                    5.432511738909905,
                    5.525050582245628,
                    5.563840069688007,
                    5.7126849881554325,
                    5.853964407715352,
                    6.086923674866816,
                    6.000508628740811,
                    6.093551649241768,
                    6.145097781304739,
                    6.045411014063316,
                    6.319382510760163,
                    6.412802682011051,
                    6.737849634977342,
                    6.557035089962566,
                    6.691171683385904,
                    6.742291534893882,
                    6.713640670814318,
                    7.029536518739637,
                    7.075193303268677
                  ],
                  "yaxis": "y"
                }
              ],
              "layout": {
                "legend": {
                  "tracegroupgap": 0
                },
                "template": {
                  "data": {
                    "bar": [
                      {
                        "error_x": {
                          "color": "#2a3f5f"
                        },
                        "error_y": {
                          "color": "#2a3f5f"
                        },
                        "marker": {
                          "line": {
                            "color": "#E5ECF6",
                            "width": 0.5
                          },
                          "pattern": {
                            "fillmode": "overlay",
                            "size": 10,
                            "solidity": 0.2
                          }
                        },
                        "type": "bar"
                      }
                    ],
                    "barpolar": [
                      {
                        "marker": {
                          "line": {
                            "color": "#E5ECF6",
                            "width": 0.5
                          },
                          "pattern": {
                            "fillmode": "overlay",
                            "size": 10,
                            "solidity": 0.2
                          }
                        },
                        "type": "barpolar"
                      }
                    ],
                    "carpet": [
                      {
                        "aaxis": {
                          "endlinecolor": "#2a3f5f",
                          "gridcolor": "white",
                          "linecolor": "white",
                          "minorgridcolor": "white",
                          "startlinecolor": "#2a3f5f"
                        },
                        "baxis": {
                          "endlinecolor": "#2a3f5f",
                          "gridcolor": "white",
                          "linecolor": "white",
                          "minorgridcolor": "white",
                          "startlinecolor": "#2a3f5f"
                        },
                        "type": "carpet"
                      }
                    ],
                    "choropleth": [
                      {
                        "colorbar": {
                          "outlinewidth": 0,
                          "ticks": ""
                        },
                        "type": "choropleth"
                      }
                    ],
                    "contour": [
                      {
                        "colorbar": {
                          "outlinewidth": 0,
                          "ticks": ""
                        },
                        "colorscale": [
                          [
                            0,
                            "#0d0887"
                          ],
                          [
                            0.1111111111111111,
                            "#46039f"
                          ],
                          [
                            0.2222222222222222,
                            "#7201a8"
                          ],
                          [
                            0.3333333333333333,
                            "#9c179e"
                          ],
                          [
                            0.4444444444444444,
                            "#bd3786"
                          ],
                          [
                            0.5555555555555556,
                            "#d8576b"
                          ],
                          [
                            0.6666666666666666,
                            "#ed7953"
                          ],
                          [
                            0.7777777777777778,
                            "#fb9f3a"
                          ],
                          [
                            0.8888888888888888,
                            "#fdca26"
                          ],
                          [
                            1,
                            "#f0f921"
                          ]
                        ],
                        "type": "contour"
                      }
                    ],
                    "contourcarpet": [
                      {
                        "colorbar": {
                          "outlinewidth": 0,
                          "ticks": ""
                        },
                        "type": "contourcarpet"
                      }
                    ],
                    "heatmap": [
                      {
                        "colorbar": {
                          "outlinewidth": 0,
                          "ticks": ""
                        },
                        "colorscale": [
                          [
                            0,
                            "#0d0887"
                          ],
                          [
                            0.1111111111111111,
                            "#46039f"
                          ],
                          [
                            0.2222222222222222,
                            "#7201a8"
                          ],
                          [
                            0.3333333333333333,
                            "#9c179e"
                          ],
                          [
                            0.4444444444444444,
                            "#bd3786"
                          ],
                          [
                            0.5555555555555556,
                            "#d8576b"
                          ],
                          [
                            0.6666666666666666,
                            "#ed7953"
                          ],
                          [
                            0.7777777777777778,
                            "#fb9f3a"
                          ],
                          [
                            0.8888888888888888,
                            "#fdca26"
                          ],
                          [
                            1,
                            "#f0f921"
                          ]
                        ],
                        "type": "heatmap"
                      }
                    ],
                    "heatmapgl": [
                      {
                        "colorbar": {
                          "outlinewidth": 0,
                          "ticks": ""
                        },
                        "colorscale": [
                          [
                            0,
                            "#0d0887"
                          ],
                          [
                            0.1111111111111111,
                            "#46039f"
                          ],
                          [
                            0.2222222222222222,
                            "#7201a8"
                          ],
                          [
                            0.3333333333333333,
                            "#9c179e"
                          ],
                          [
                            0.4444444444444444,
                            "#bd3786"
                          ],
                          [
                            0.5555555555555556,
                            "#d8576b"
                          ],
                          [
                            0.6666666666666666,
                            "#ed7953"
                          ],
                          [
                            0.7777777777777778,
                            "#fb9f3a"
                          ],
                          [
                            0.8888888888888888,
                            "#fdca26"
                          ],
                          [
                            1,
                            "#f0f921"
                          ]
                        ],
                        "type": "heatmapgl"
                      }
                    ],
                    "histogram": [
                      {
                        "marker": {
                          "pattern": {
                            "fillmode": "overlay",
                            "size": 10,
                            "solidity": 0.2
                          }
                        },
                        "type": "histogram"
                      }
                    ],
                    "histogram2d": [
                      {
                        "colorbar": {
                          "outlinewidth": 0,
                          "ticks": ""
                        },
                        "colorscale": [
                          [
                            0,
                            "#0d0887"
                          ],
                          [
                            0.1111111111111111,
                            "#46039f"
                          ],
                          [
                            0.2222222222222222,
                            "#7201a8"
                          ],
                          [
                            0.3333333333333333,
                            "#9c179e"
                          ],
                          [
                            0.4444444444444444,
                            "#bd3786"
                          ],
                          [
                            0.5555555555555556,
                            "#d8576b"
                          ],
                          [
                            0.6666666666666666,
                            "#ed7953"
                          ],
                          [
                            0.7777777777777778,
                            "#fb9f3a"
                          ],
                          [
                            0.8888888888888888,
                            "#fdca26"
                          ],
                          [
                            1,
                            "#f0f921"
                          ]
                        ],
                        "type": "histogram2d"
                      }
                    ],
                    "histogram2dcontour": [
                      {
                        "colorbar": {
                          "outlinewidth": 0,
                          "ticks": ""
                        },
                        "colorscale": [
                          [
                            0,
                            "#0d0887"
                          ],
                          [
                            0.1111111111111111,
                            "#46039f"
                          ],
                          [
                            0.2222222222222222,
                            "#7201a8"
                          ],
                          [
                            0.3333333333333333,
                            "#9c179e"
                          ],
                          [
                            0.4444444444444444,
                            "#bd3786"
                          ],
                          [
                            0.5555555555555556,
                            "#d8576b"
                          ],
                          [
                            0.6666666666666666,
                            "#ed7953"
                          ],
                          [
                            0.7777777777777778,
                            "#fb9f3a"
                          ],
                          [
                            0.8888888888888888,
                            "#fdca26"
                          ],
                          [
                            1,
                            "#f0f921"
                          ]
                        ],
                        "type": "histogram2dcontour"
                      }
                    ],
                    "mesh3d": [
                      {
                        "colorbar": {
                          "outlinewidth": 0,
                          "ticks": ""
                        },
                        "type": "mesh3d"
                      }
                    ],
                    "parcoords": [
                      {
                        "line": {
                          "colorbar": {
                            "outlinewidth": 0,
                            "ticks": ""
                          }
                        },
                        "type": "parcoords"
                      }
                    ],
                    "pie": [
                      {
                        "automargin": true,
                        "type": "pie"
                      }
                    ],
                    "scatter": [
                      {
                        "fillpattern": {
                          "fillmode": "overlay",
                          "size": 10,
                          "solidity": 0.2
                        },
                        "type": "scatter"
                      }
                    ],
                    "scatter3d": [
                      {
                        "line": {
                          "colorbar": {
                            "outlinewidth": 0,
                            "ticks": ""
                          }
                        },
                        "marker": {
                          "colorbar": {
                            "outlinewidth": 0,
                            "ticks": ""
                          }
                        },
                        "type": "scatter3d"
                      }
                    ],
                    "scattercarpet": [
                      {
                        "marker": {
                          "colorbar": {
                            "outlinewidth": 0,
                            "ticks": ""
                          }
                        },
                        "type": "scattercarpet"
                      }
                    ],
                    "scattergeo": [
                      {
                        "marker": {
                          "colorbar": {
                            "outlinewidth": 0,
                            "ticks": ""
                          }
                        },
                        "type": "scattergeo"
                      }
                    ],
                    "scattergl": [
                      {
                        "marker": {
                          "colorbar": {
                            "outlinewidth": 0,
                            "ticks": ""
                          }
                        },
                        "type": "scattergl"
                      }
                    ],
                    "scattermapbox": [
                      {
                        "marker": {
                          "colorbar": {
                            "outlinewidth": 0,
                            "ticks": ""
                          }
                        },
                        "type": "scattermapbox"
                      }
                    ],
                    "scatterpolar": [
                      {
                        "marker": {
                          "colorbar": {
                            "outlinewidth": 0,
                            "ticks": ""
                          }
                        },
                        "type": "scatterpolar"
                      }
                    ],
                    "scatterpolargl": [
                      {
                        "marker": {
                          "colorbar": {
                            "outlinewidth": 0,
                            "ticks": ""
                          }
                        },
                        "type": "scatterpolargl"
                      }
                    ],
                    "scatterternary": [
                      {
                        "marker": {
                          "colorbar": {
                            "outlinewidth": 0,
                            "ticks": ""
                          }
                        },
                        "type": "scatterternary"
                      }
                    ],
                    "surface": [
                      {
                        "colorbar": {
                          "outlinewidth": 0,
                          "ticks": ""
                        },
                        "colorscale": [
                          [
                            0,
                            "#0d0887"
                          ],
                          [
                            0.1111111111111111,
                            "#46039f"
                          ],
                          [
                            0.2222222222222222,
                            "#7201a8"
                          ],
                          [
                            0.3333333333333333,
                            "#9c179e"
                          ],
                          [
                            0.4444444444444444,
                            "#bd3786"
                          ],
                          [
                            0.5555555555555556,
                            "#d8576b"
                          ],
                          [
                            0.6666666666666666,
                            "#ed7953"
                          ],
                          [
                            0.7777777777777778,
                            "#fb9f3a"
                          ],
                          [
                            0.8888888888888888,
                            "#fdca26"
                          ],
                          [
                            1,
                            "#f0f921"
                          ]
                        ],
                        "type": "surface"
                      }
                    ],
                    "table": [
                      {
                        "cells": {
                          "fill": {
                            "color": "#EBF0F8"
                          },
                          "line": {
                            "color": "white"
                          }
                        },
                        "header": {
                          "fill": {
                            "color": "#C8D4E3"
                          },
                          "line": {
                            "color": "white"
                          }
                        },
                        "type": "table"
                      }
                    ]
                  },
                  "layout": {
                    "annotationdefaults": {
                      "arrowcolor": "#2a3f5f",
                      "arrowhead": 0,
                      "arrowwidth": 1
                    },
                    "autotypenumbers": "strict",
                    "coloraxis": {
                      "colorbar": {
                        "outlinewidth": 0,
                        "ticks": ""
                      }
                    },
                    "colorscale": {
                      "diverging": [
                        [
                          0,
                          "#8e0152"
                        ],
                        [
                          0.1,
                          "#c51b7d"
                        ],
                        [
                          0.2,
                          "#de77ae"
                        ],
                        [
                          0.3,
                          "#f1b6da"
                        ],
                        [
                          0.4,
                          "#fde0ef"
                        ],
                        [
                          0.5,
                          "#f7f7f7"
                        ],
                        [
                          0.6,
                          "#e6f5d0"
                        ],
                        [
                          0.7,
                          "#b8e186"
                        ],
                        [
                          0.8,
                          "#7fbc41"
                        ],
                        [
                          0.9,
                          "#4d9221"
                        ],
                        [
                          1,
                          "#276419"
                        ]
                      ],
                      "sequential": [
                        [
                          0,
                          "#0d0887"
                        ],
                        [
                          0.1111111111111111,
                          "#46039f"
                        ],
                        [
                          0.2222222222222222,
                          "#7201a8"
                        ],
                        [
                          0.3333333333333333,
                          "#9c179e"
                        ],
                        [
                          0.4444444444444444,
                          "#bd3786"
                        ],
                        [
                          0.5555555555555556,
                          "#d8576b"
                        ],
                        [
                          0.6666666666666666,
                          "#ed7953"
                        ],
                        [
                          0.7777777777777778,
                          "#fb9f3a"
                        ],
                        [
                          0.8888888888888888,
                          "#fdca26"
                        ],
                        [
                          1,
                          "#f0f921"
                        ]
                      ],
                      "sequentialminus": [
                        [
                          0,
                          "#0d0887"
                        ],
                        [
                          0.1111111111111111,
                          "#46039f"
                        ],
                        [
                          0.2222222222222222,
                          "#7201a8"
                        ],
                        [
                          0.3333333333333333,
                          "#9c179e"
                        ],
                        [
                          0.4444444444444444,
                          "#bd3786"
                        ],
                        [
                          0.5555555555555556,
                          "#d8576b"
                        ],
                        [
                          0.6666666666666666,
                          "#ed7953"
                        ],
                        [
                          0.7777777777777778,
                          "#fb9f3a"
                        ],
                        [
                          0.8888888888888888,
                          "#fdca26"
                        ],
                        [
                          1,
                          "#f0f921"
                        ]
                      ]
                    },
                    "colorway": [
                      "#636efa",
                      "#EF553B",
                      "#00cc96",
                      "#ab63fa",
                      "#FFA15A",
                      "#19d3f3",
                      "#FF6692",
                      "#B6E880",
                      "#FF97FF",
                      "#FECB52"
                    ],
                    "font": {
                      "color": "#2a3f5f"
                    },
                    "geo": {
                      "bgcolor": "white",
                      "lakecolor": "white",
                      "landcolor": "#E5ECF6",
                      "showlakes": true,
                      "showland": true,
                      "subunitcolor": "white"
                    },
                    "hoverlabel": {
                      "align": "left"
                    },
                    "hovermode": "closest",
                    "mapbox": {
                      "style": "light"
                    },
                    "paper_bgcolor": "white",
                    "plot_bgcolor": "#E5ECF6",
                    "polar": {
                      "angularaxis": {
                        "gridcolor": "white",
                        "linecolor": "white",
                        "ticks": ""
                      },
                      "bgcolor": "#E5ECF6",
                      "radialaxis": {
                        "gridcolor": "white",
                        "linecolor": "white",
                        "ticks": ""
                      }
                    },
                    "scene": {
                      "xaxis": {
                        "backgroundcolor": "#E5ECF6",
                        "gridcolor": "white",
                        "gridwidth": 2,
                        "linecolor": "white",
                        "showbackground": true,
                        "ticks": "",
                        "zerolinecolor": "white"
                      },
                      "yaxis": {
                        "backgroundcolor": "#E5ECF6",
                        "gridcolor": "white",
                        "gridwidth": 2,
                        "linecolor": "white",
                        "showbackground": true,
                        "ticks": "",
                        "zerolinecolor": "white"
                      },
                      "zaxis": {
                        "backgroundcolor": "#E5ECF6",
                        "gridcolor": "white",
                        "gridwidth": 2,
                        "linecolor": "white",
                        "showbackground": true,
                        "ticks": "",
                        "zerolinecolor": "white"
                      }
                    },
                    "shapedefaults": {
                      "line": {
                        "color": "#2a3f5f"
                      }
                    },
                    "ternary": {
                      "aaxis": {
                        "gridcolor": "white",
                        "linecolor": "white",
                        "ticks": ""
                      },
                      "baxis": {
                        "gridcolor": "white",
                        "linecolor": "white",
                        "ticks": ""
                      },
                      "bgcolor": "#E5ECF6",
                      "caxis": {
                        "gridcolor": "white",
                        "linecolor": "white",
                        "ticks": ""
                      }
                    },
                    "title": {
                      "x": 0.05
                    },
                    "xaxis": {
                      "automargin": true,
                      "gridcolor": "white",
                      "linecolor": "white",
                      "ticks": "",
                      "title": {
                        "standoff": 15
                      },
                      "zerolinecolor": "white",
                      "zerolinewidth": 2
                    },
                    "yaxis": {
                      "automargin": true,
                      "gridcolor": "white",
                      "linecolor": "white",
                      "ticks": "",
                      "title": {
                        "standoff": 15
                      },
                      "zerolinecolor": "white",
                      "zerolinewidth": 2
                    }
                  }
                },
                "title": {
                  "text": "Taxa de Conversão por data"
                },
                "xaxis": {
                  "anchor": "y",
                  "domain": [
                    0,
                    1
                  ],
                  "title": {
                    "text": "Data"
                  }
                },
                "yaxis": {
                  "anchor": "x",
                  "domain": [
                    0,
                    1
                  ],
                  "title": {
                    "text": "Taxa de Conversão (%)"
                  }
                }
              }
            }
          },
          "metadata": {},
          "output_type": "display_data"
        }
      ],
      "source": [
        "# Taxa de Conversão por data\n",
        "px.line(df, x='Data', y='Taxa de Conversão (%)', title='Taxa de Conversão por data')"
      ]
    },
    {
      "cell_type": "code",
      "execution_count": 29,
      "metadata": {},
      "outputs": [
        {
          "data": {
            "application/vnd.plotly.v1+json": {
              "config": {
                "plotlyServerURL": "https://plot.ly"
              },
              "data": [
                {
                  "hovertemplate": "Páginas por Sessão=%{x}<br>Taxa de Rejeição (%)=%{y}<extra></extra>",
                  "legendgroup": "",
                  "marker": {
                    "color": "#636efa",
                    "symbol": "circle"
                  },
                  "mode": "markers",
                  "name": "",
                  "orientation": "v",
                  "showlegend": false,
                  "type": "scatter",
                  "x": [
                    1.834200997815585,
                    1.9557604021300972,
                    2.285051941363636,
                    2.3254638835951678,
                    2.2670061218851365,
                    2.362448527509214,
                    2.6623126401746338,
                    2.356261993419275,
                    2.65179235758994,
                    2.569730961038645,
                    2.634429861049471,
                    2.9655180822618448,
                    2.9786425918315045,
                    3.0440578594035173,
                    3.2102483038037475,
                    3.0211499208689245,
                    3.221136356970857,
                    3.090489021562665,
                    3.285172253548536,
                    3.2621069823468023,
                    3.375331396388374,
                    3.5427602186467047,
                    3.327881287082119,
                    3.9777994890353976,
                    3.4259151677678563,
                    3.4520775316797416,
                    3.9943340391067927,
                    3.9888410133688574,
                    4.023129048156194,
                    4.091770796768111,
                    4.031448950515363,
                    3.922244040957071,
                    4.184652437062474,
                    4.101855793290797,
                    4.500108692446262,
                    4.343469879631775,
                    4.275578526743193,
                    4.444197407940588,
                    4.658857477295803,
                    4.531322886049375,
                    4.547420327666375,
                    4.828398459247535,
                    4.8964509413403885,
                    4.813865602213909,
                    4.888843186333963,
                    5.097257445098646,
                    4.829027199497146,
                    4.904947923090791,
                    5.110548443885106,
                    5.279344467962716,
                    5.452012021594177,
                    5.7526983620339776,
                    5.696955653453963,
                    5.561232632990365,
                    5.657213707572005,
                    5.528307686394472,
                    5.792907542293048,
                    5.80667505187699,
                    5.996747101898126,
                    5.834553811289536
                  ],
                  "xaxis": "x",
                  "y": [
                    50.49671415301123,
                    49.438006885269495,
                    49.80023091098205,
                    50.25184341573006,
                    48.07093137103938,
                    47.64721897525421,
                    49.03683993415146,
                    47.80133303423766,
                    46.14069510559048,
                    46.72900072155207,
                    45.29929417159432,
                    44.8732532972772,
                    45.15721650885417,
                    42.57824517907102,
                    42.34287877765646,
                    43.0817802673692,
                    42.207507862716426,
                    43.1108575020868,
                    41.464857280411,
                    40.5368488410376,
                    42.99107249773512,
                    40.8759186147677,
                    40.74549430638284,
                    38.829489101922135,
                    39.286125750051085,
                    39.51770225072681,
                    37.83205727003532,
                    38.93502005224398,
                    37.53495453042018,
                    37.42017065698639,
                    29.22880186234688,
                    31.343803608237756,
                    29.139045148143424,
                    27.755848393078,
                    29.297121183289637,
                    26.914749570367963,
                    28.005473764496283,
                    25.49795699476429,
                    25.790458018898185,
                    26.97652225281828,
                    27.17914454609711,
                    26.273063196444205,
                    25.64706358201854,
                    25.12262511797003,
                    23.60622377234444,
                    24.0259185034697,
                    23.94614089005717,
                    25.12491883638841,
                    24.072431848890496,
                    21.626790353111844,
                    23.37493142702192,
                    22.326782126363348,
                    21.69595935562625,
                    22.645574593925616,
                    22.72591477673324,
                    22.287212322506036,
                    20.177731629319734,
                    20.368753725843703,
                    20.670246482251024,
                    20.97554512712236
                  ],
                  "yaxis": "y"
                }
              ],
              "layout": {
                "legend": {
                  "tracegroupgap": 0
                },
                "template": {
                  "data": {
                    "bar": [
                      {
                        "error_x": {
                          "color": "#2a3f5f"
                        },
                        "error_y": {
                          "color": "#2a3f5f"
                        },
                        "marker": {
                          "line": {
                            "color": "#E5ECF6",
                            "width": 0.5
                          },
                          "pattern": {
                            "fillmode": "overlay",
                            "size": 10,
                            "solidity": 0.2
                          }
                        },
                        "type": "bar"
                      }
                    ],
                    "barpolar": [
                      {
                        "marker": {
                          "line": {
                            "color": "#E5ECF6",
                            "width": 0.5
                          },
                          "pattern": {
                            "fillmode": "overlay",
                            "size": 10,
                            "solidity": 0.2
                          }
                        },
                        "type": "barpolar"
                      }
                    ],
                    "carpet": [
                      {
                        "aaxis": {
                          "endlinecolor": "#2a3f5f",
                          "gridcolor": "white",
                          "linecolor": "white",
                          "minorgridcolor": "white",
                          "startlinecolor": "#2a3f5f"
                        },
                        "baxis": {
                          "endlinecolor": "#2a3f5f",
                          "gridcolor": "white",
                          "linecolor": "white",
                          "minorgridcolor": "white",
                          "startlinecolor": "#2a3f5f"
                        },
                        "type": "carpet"
                      }
                    ],
                    "choropleth": [
                      {
                        "colorbar": {
                          "outlinewidth": 0,
                          "ticks": ""
                        },
                        "type": "choropleth"
                      }
                    ],
                    "contour": [
                      {
                        "colorbar": {
                          "outlinewidth": 0,
                          "ticks": ""
                        },
                        "colorscale": [
                          [
                            0,
                            "#0d0887"
                          ],
                          [
                            0.1111111111111111,
                            "#46039f"
                          ],
                          [
                            0.2222222222222222,
                            "#7201a8"
                          ],
                          [
                            0.3333333333333333,
                            "#9c179e"
                          ],
                          [
                            0.4444444444444444,
                            "#bd3786"
                          ],
                          [
                            0.5555555555555556,
                            "#d8576b"
                          ],
                          [
                            0.6666666666666666,
                            "#ed7953"
                          ],
                          [
                            0.7777777777777778,
                            "#fb9f3a"
                          ],
                          [
                            0.8888888888888888,
                            "#fdca26"
                          ],
                          [
                            1,
                            "#f0f921"
                          ]
                        ],
                        "type": "contour"
                      }
                    ],
                    "contourcarpet": [
                      {
                        "colorbar": {
                          "outlinewidth": 0,
                          "ticks": ""
                        },
                        "type": "contourcarpet"
                      }
                    ],
                    "heatmap": [
                      {
                        "colorbar": {
                          "outlinewidth": 0,
                          "ticks": ""
                        },
                        "colorscale": [
                          [
                            0,
                            "#0d0887"
                          ],
                          [
                            0.1111111111111111,
                            "#46039f"
                          ],
                          [
                            0.2222222222222222,
                            "#7201a8"
                          ],
                          [
                            0.3333333333333333,
                            "#9c179e"
                          ],
                          [
                            0.4444444444444444,
                            "#bd3786"
                          ],
                          [
                            0.5555555555555556,
                            "#d8576b"
                          ],
                          [
                            0.6666666666666666,
                            "#ed7953"
                          ],
                          [
                            0.7777777777777778,
                            "#fb9f3a"
                          ],
                          [
                            0.8888888888888888,
                            "#fdca26"
                          ],
                          [
                            1,
                            "#f0f921"
                          ]
                        ],
                        "type": "heatmap"
                      }
                    ],
                    "heatmapgl": [
                      {
                        "colorbar": {
                          "outlinewidth": 0,
                          "ticks": ""
                        },
                        "colorscale": [
                          [
                            0,
                            "#0d0887"
                          ],
                          [
                            0.1111111111111111,
                            "#46039f"
                          ],
                          [
                            0.2222222222222222,
                            "#7201a8"
                          ],
                          [
                            0.3333333333333333,
                            "#9c179e"
                          ],
                          [
                            0.4444444444444444,
                            "#bd3786"
                          ],
                          [
                            0.5555555555555556,
                            "#d8576b"
                          ],
                          [
                            0.6666666666666666,
                            "#ed7953"
                          ],
                          [
                            0.7777777777777778,
                            "#fb9f3a"
                          ],
                          [
                            0.8888888888888888,
                            "#fdca26"
                          ],
                          [
                            1,
                            "#f0f921"
                          ]
                        ],
                        "type": "heatmapgl"
                      }
                    ],
                    "histogram": [
                      {
                        "marker": {
                          "pattern": {
                            "fillmode": "overlay",
                            "size": 10,
                            "solidity": 0.2
                          }
                        },
                        "type": "histogram"
                      }
                    ],
                    "histogram2d": [
                      {
                        "colorbar": {
                          "outlinewidth": 0,
                          "ticks": ""
                        },
                        "colorscale": [
                          [
                            0,
                            "#0d0887"
                          ],
                          [
                            0.1111111111111111,
                            "#46039f"
                          ],
                          [
                            0.2222222222222222,
                            "#7201a8"
                          ],
                          [
                            0.3333333333333333,
                            "#9c179e"
                          ],
                          [
                            0.4444444444444444,
                            "#bd3786"
                          ],
                          [
                            0.5555555555555556,
                            "#d8576b"
                          ],
                          [
                            0.6666666666666666,
                            "#ed7953"
                          ],
                          [
                            0.7777777777777778,
                            "#fb9f3a"
                          ],
                          [
                            0.8888888888888888,
                            "#fdca26"
                          ],
                          [
                            1,
                            "#f0f921"
                          ]
                        ],
                        "type": "histogram2d"
                      }
                    ],
                    "histogram2dcontour": [
                      {
                        "colorbar": {
                          "outlinewidth": 0,
                          "ticks": ""
                        },
                        "colorscale": [
                          [
                            0,
                            "#0d0887"
                          ],
                          [
                            0.1111111111111111,
                            "#46039f"
                          ],
                          [
                            0.2222222222222222,
                            "#7201a8"
                          ],
                          [
                            0.3333333333333333,
                            "#9c179e"
                          ],
                          [
                            0.4444444444444444,
                            "#bd3786"
                          ],
                          [
                            0.5555555555555556,
                            "#d8576b"
                          ],
                          [
                            0.6666666666666666,
                            "#ed7953"
                          ],
                          [
                            0.7777777777777778,
                            "#fb9f3a"
                          ],
                          [
                            0.8888888888888888,
                            "#fdca26"
                          ],
                          [
                            1,
                            "#f0f921"
                          ]
                        ],
                        "type": "histogram2dcontour"
                      }
                    ],
                    "mesh3d": [
                      {
                        "colorbar": {
                          "outlinewidth": 0,
                          "ticks": ""
                        },
                        "type": "mesh3d"
                      }
                    ],
                    "parcoords": [
                      {
                        "line": {
                          "colorbar": {
                            "outlinewidth": 0,
                            "ticks": ""
                          }
                        },
                        "type": "parcoords"
                      }
                    ],
                    "pie": [
                      {
                        "automargin": true,
                        "type": "pie"
                      }
                    ],
                    "scatter": [
                      {
                        "fillpattern": {
                          "fillmode": "overlay",
                          "size": 10,
                          "solidity": 0.2
                        },
                        "type": "scatter"
                      }
                    ],
                    "scatter3d": [
                      {
                        "line": {
                          "colorbar": {
                            "outlinewidth": 0,
                            "ticks": ""
                          }
                        },
                        "marker": {
                          "colorbar": {
                            "outlinewidth": 0,
                            "ticks": ""
                          }
                        },
                        "type": "scatter3d"
                      }
                    ],
                    "scattercarpet": [
                      {
                        "marker": {
                          "colorbar": {
                            "outlinewidth": 0,
                            "ticks": ""
                          }
                        },
                        "type": "scattercarpet"
                      }
                    ],
                    "scattergeo": [
                      {
                        "marker": {
                          "colorbar": {
                            "outlinewidth": 0,
                            "ticks": ""
                          }
                        },
                        "type": "scattergeo"
                      }
                    ],
                    "scattergl": [
                      {
                        "marker": {
                          "colorbar": {
                            "outlinewidth": 0,
                            "ticks": ""
                          }
                        },
                        "type": "scattergl"
                      }
                    ],
                    "scattermapbox": [
                      {
                        "marker": {
                          "colorbar": {
                            "outlinewidth": 0,
                            "ticks": ""
                          }
                        },
                        "type": "scattermapbox"
                      }
                    ],
                    "scatterpolar": [
                      {
                        "marker": {
                          "colorbar": {
                            "outlinewidth": 0,
                            "ticks": ""
                          }
                        },
                        "type": "scatterpolar"
                      }
                    ],
                    "scatterpolargl": [
                      {
                        "marker": {
                          "colorbar": {
                            "outlinewidth": 0,
                            "ticks": ""
                          }
                        },
                        "type": "scatterpolargl"
                      }
                    ],
                    "scatterternary": [
                      {
                        "marker": {
                          "colorbar": {
                            "outlinewidth": 0,
                            "ticks": ""
                          }
                        },
                        "type": "scatterternary"
                      }
                    ],
                    "surface": [
                      {
                        "colorbar": {
                          "outlinewidth": 0,
                          "ticks": ""
                        },
                        "colorscale": [
                          [
                            0,
                            "#0d0887"
                          ],
                          [
                            0.1111111111111111,
                            "#46039f"
                          ],
                          [
                            0.2222222222222222,
                            "#7201a8"
                          ],
                          [
                            0.3333333333333333,
                            "#9c179e"
                          ],
                          [
                            0.4444444444444444,
                            "#bd3786"
                          ],
                          [
                            0.5555555555555556,
                            "#d8576b"
                          ],
                          [
                            0.6666666666666666,
                            "#ed7953"
                          ],
                          [
                            0.7777777777777778,
                            "#fb9f3a"
                          ],
                          [
                            0.8888888888888888,
                            "#fdca26"
                          ],
                          [
                            1,
                            "#f0f921"
                          ]
                        ],
                        "type": "surface"
                      }
                    ],
                    "table": [
                      {
                        "cells": {
                          "fill": {
                            "color": "#EBF0F8"
                          },
                          "line": {
                            "color": "white"
                          }
                        },
                        "header": {
                          "fill": {
                            "color": "#C8D4E3"
                          },
                          "line": {
                            "color": "white"
                          }
                        },
                        "type": "table"
                      }
                    ]
                  },
                  "layout": {
                    "annotationdefaults": {
                      "arrowcolor": "#2a3f5f",
                      "arrowhead": 0,
                      "arrowwidth": 1
                    },
                    "autotypenumbers": "strict",
                    "coloraxis": {
                      "colorbar": {
                        "outlinewidth": 0,
                        "ticks": ""
                      }
                    },
                    "colorscale": {
                      "diverging": [
                        [
                          0,
                          "#8e0152"
                        ],
                        [
                          0.1,
                          "#c51b7d"
                        ],
                        [
                          0.2,
                          "#de77ae"
                        ],
                        [
                          0.3,
                          "#f1b6da"
                        ],
                        [
                          0.4,
                          "#fde0ef"
                        ],
                        [
                          0.5,
                          "#f7f7f7"
                        ],
                        [
                          0.6,
                          "#e6f5d0"
                        ],
                        [
                          0.7,
                          "#b8e186"
                        ],
                        [
                          0.8,
                          "#7fbc41"
                        ],
                        [
                          0.9,
                          "#4d9221"
                        ],
                        [
                          1,
                          "#276419"
                        ]
                      ],
                      "sequential": [
                        [
                          0,
                          "#0d0887"
                        ],
                        [
                          0.1111111111111111,
                          "#46039f"
                        ],
                        [
                          0.2222222222222222,
                          "#7201a8"
                        ],
                        [
                          0.3333333333333333,
                          "#9c179e"
                        ],
                        [
                          0.4444444444444444,
                          "#bd3786"
                        ],
                        [
                          0.5555555555555556,
                          "#d8576b"
                        ],
                        [
                          0.6666666666666666,
                          "#ed7953"
                        ],
                        [
                          0.7777777777777778,
                          "#fb9f3a"
                        ],
                        [
                          0.8888888888888888,
                          "#fdca26"
                        ],
                        [
                          1,
                          "#f0f921"
                        ]
                      ],
                      "sequentialminus": [
                        [
                          0,
                          "#0d0887"
                        ],
                        [
                          0.1111111111111111,
                          "#46039f"
                        ],
                        [
                          0.2222222222222222,
                          "#7201a8"
                        ],
                        [
                          0.3333333333333333,
                          "#9c179e"
                        ],
                        [
                          0.4444444444444444,
                          "#bd3786"
                        ],
                        [
                          0.5555555555555556,
                          "#d8576b"
                        ],
                        [
                          0.6666666666666666,
                          "#ed7953"
                        ],
                        [
                          0.7777777777777778,
                          "#fb9f3a"
                        ],
                        [
                          0.8888888888888888,
                          "#fdca26"
                        ],
                        [
                          1,
                          "#f0f921"
                        ]
                      ]
                    },
                    "colorway": [
                      "#636efa",
                      "#EF553B",
                      "#00cc96",
                      "#ab63fa",
                      "#FFA15A",
                      "#19d3f3",
                      "#FF6692",
                      "#B6E880",
                      "#FF97FF",
                      "#FECB52"
                    ],
                    "font": {
                      "color": "#2a3f5f"
                    },
                    "geo": {
                      "bgcolor": "white",
                      "lakecolor": "white",
                      "landcolor": "#E5ECF6",
                      "showlakes": true,
                      "showland": true,
                      "subunitcolor": "white"
                    },
                    "hoverlabel": {
                      "align": "left"
                    },
                    "hovermode": "closest",
                    "mapbox": {
                      "style": "light"
                    },
                    "paper_bgcolor": "white",
                    "plot_bgcolor": "#E5ECF6",
                    "polar": {
                      "angularaxis": {
                        "gridcolor": "white",
                        "linecolor": "white",
                        "ticks": ""
                      },
                      "bgcolor": "#E5ECF6",
                      "radialaxis": {
                        "gridcolor": "white",
                        "linecolor": "white",
                        "ticks": ""
                      }
                    },
                    "scene": {
                      "xaxis": {
                        "backgroundcolor": "#E5ECF6",
                        "gridcolor": "white",
                        "gridwidth": 2,
                        "linecolor": "white",
                        "showbackground": true,
                        "ticks": "",
                        "zerolinecolor": "white"
                      },
                      "yaxis": {
                        "backgroundcolor": "#E5ECF6",
                        "gridcolor": "white",
                        "gridwidth": 2,
                        "linecolor": "white",
                        "showbackground": true,
                        "ticks": "",
                        "zerolinecolor": "white"
                      },
                      "zaxis": {
                        "backgroundcolor": "#E5ECF6",
                        "gridcolor": "white",
                        "gridwidth": 2,
                        "linecolor": "white",
                        "showbackground": true,
                        "ticks": "",
                        "zerolinecolor": "white"
                      }
                    },
                    "shapedefaults": {
                      "line": {
                        "color": "#2a3f5f"
                      }
                    },
                    "ternary": {
                      "aaxis": {
                        "gridcolor": "white",
                        "linecolor": "white",
                        "ticks": ""
                      },
                      "baxis": {
                        "gridcolor": "white",
                        "linecolor": "white",
                        "ticks": ""
                      },
                      "bgcolor": "#E5ECF6",
                      "caxis": {
                        "gridcolor": "white",
                        "linecolor": "white",
                        "ticks": ""
                      }
                    },
                    "title": {
                      "x": 0.05
                    },
                    "xaxis": {
                      "automargin": true,
                      "gridcolor": "white",
                      "linecolor": "white",
                      "ticks": "",
                      "title": {
                        "standoff": 15
                      },
                      "zerolinecolor": "white",
                      "zerolinewidth": 2
                    },
                    "yaxis": {
                      "automargin": true,
                      "gridcolor": "white",
                      "linecolor": "white",
                      "ticks": "",
                      "title": {
                        "standoff": 15
                      },
                      "zerolinecolor": "white",
                      "zerolinewidth": 2
                    }
                  }
                },
                "title": {
                  "text": "Páginas por sessões e taxa de rejeição"
                },
                "xaxis": {
                  "anchor": "y",
                  "domain": [
                    0,
                    1
                  ],
                  "title": {
                    "text": "Páginas por Sessão"
                  }
                },
                "yaxis": {
                  "anchor": "x",
                  "domain": [
                    0,
                    1
                  ],
                  "title": {
                    "text": "Taxa de Rejeição (%)"
                  }
                }
              }
            }
          },
          "metadata": {},
          "output_type": "display_data"
        }
      ],
      "source": [
        "# Páginas por sessões e taxa de rejeição\n",
        "px.scatter(df, x = 'Páginas por Sessão', y = 'Taxa de Rejeição (%)', title='Páginas por sessões e taxa de rejeição')"
      ]
    },
    {
      "cell_type": "code",
      "execution_count": 43,
      "metadata": {},
      "outputs": [
        {
          "data": {
            "application/vnd.plotly.v1+json": {
              "config": {
                "plotlyServerURL": "https://plot.ly"
              },
              "data": [
                {
                  "hovertemplate": "Dispositivos=Desktop<br>Data=%{x}<br>Taxa de Conversão (%)=%{y}<extra></extra>",
                  "legendgroup": "Desktop",
                  "line": {
                    "color": "#636efa",
                    "dash": "solid"
                  },
                  "marker": {
                    "symbol": "circle"
                  },
                  "mode": "lines",
                  "name": "Desktop",
                  "orientation": "v",
                  "showlegend": true,
                  "type": "scatter",
                  "x": [
                    "2023-01-01T00:00:00",
                    "2023-01-02T00:00:00",
                    "2023-01-03T00:00:00",
                    "2023-01-05T00:00:00",
                    "2023-01-08T00:00:00",
                    "2023-01-09T00:00:00",
                    "2023-01-10T00:00:00",
                    "2023-01-12T00:00:00",
                    "2023-01-14T00:00:00",
                    "2023-01-16T00:00:00",
                    "2023-01-17T00:00:00",
                    "2023-01-20T00:00:00",
                    "2023-01-22T00:00:00",
                    "2023-01-25T00:00:00",
                    "2023-01-26T00:00:00",
                    "2023-01-27T00:00:00",
                    "2023-01-30T00:00:00",
                    "2023-01-31T00:00:00",
                    "2023-02-04T00:00:00",
                    "2023-02-05T00:00:00",
                    "2023-02-06T00:00:00",
                    "2023-02-08T00:00:00",
                    "2023-02-10T00:00:00",
                    "2023-02-14T00:00:00",
                    "2023-02-15T00:00:00",
                    "2023-02-16T00:00:00",
                    "2023-02-22T00:00:00",
                    "2023-02-24T00:00:00",
                    "2023-02-25T00:00:00",
                    "2023-02-27T00:00:00",
                    "2023-02-28T00:00:00"
                  ],
                  "xaxis": "x",
                  "y": [
                    1.952082576215471,
                    2.0661798650454823,
                    2.058858028023126,
                    2.420235633086877,
                    2.6935736287722536,
                    2.714129704199679,
                    2.698199888946267,
                    3.0860070464771057,
                    3.258159280835637,
                    3.3533766911154888,
                    3.3646369102136475,
                    3.411412600065334,
                    3.815372274100327,
                    3.9530489447954262,
                    4.068468363438156,
                    4.294930042278682,
                    4.508953861955403,
                    4.552080636290737,
                    4.8421451168901735,
                    4.8197502001020425,
                    5.080459485333576,
                    5.220850328715094,
                    5.248293434269534,
                    5.7126849881554325,
                    5.853964407715352,
                    6.086923674866816,
                    6.412802682011051,
                    6.557035089962566,
                    6.691171683385904,
                    6.713640670814318,
                    7.029536518739637
                  ],
                  "yaxis": "y"
                },
                {
                  "hovertemplate": "Dispositivos=Mobile<br>Data=%{x}<br>Taxa de Conversão (%)=%{y}<extra></extra>",
                  "legendgroup": "Mobile",
                  "line": {
                    "color": "#EF553B",
                    "dash": "solid"
                  },
                  "marker": {
                    "symbol": "circle"
                  },
                  "mode": "lines",
                  "name": "Mobile",
                  "orientation": "v",
                  "showlegend": true,
                  "type": "scatter",
                  "x": [
                    "2023-01-04T00:00:00",
                    "2023-01-06T00:00:00",
                    "2023-01-07T00:00:00",
                    "2023-01-11T00:00:00",
                    "2023-01-13T00:00:00",
                    "2023-01-15T00:00:00",
                    "2023-01-19T00:00:00",
                    "2023-01-21T00:00:00",
                    "2023-01-23T00:00:00",
                    "2023-01-24T00:00:00",
                    "2023-01-28T00:00:00",
                    "2023-01-29T00:00:00",
                    "2023-02-01T00:00:00",
                    "2023-02-03T00:00:00",
                    "2023-02-09T00:00:00",
                    "2023-02-11T00:00:00",
                    "2023-02-12T00:00:00",
                    "2023-02-13T00:00:00",
                    "2023-02-18T00:00:00",
                    "2023-02-19T00:00:00",
                    "2023-02-20T00:00:00",
                    "2023-02-21T00:00:00",
                    "2023-02-26T00:00:00",
                    "2023-03-01T00:00:00"
                  ],
                  "xaxis": "x",
                  "y": [
                    2.1346166257275265,
                    2.559352816416404,
                    2.501273564113153,
                    2.8835971876694853,
                    3.0133665486313777,
                    2.924466167557127,
                    3.5345998064671096,
                    3.6729480654535367,
                    4.012196184135169,
                    3.897325520545517,
                    4.321010704186308,
                    4.319905335555499,
                    4.723983143121085,
                    4.763843954831748,
                    5.281626032425197,
                    5.432511738909905,
                    5.525050582245628,
                    5.563840069688007,
                    6.093551649241768,
                    6.145097781304739,
                    6.045411014063316,
                    6.319382510760163,
                    6.742291534893882,
                    7.075193303268677
                  ],
                  "yaxis": "y"
                },
                {
                  "hovertemplate": "Dispositivos=Tablet<br>Data=%{x}<br>Taxa de Conversão (%)=%{y}<extra></extra>",
                  "legendgroup": "Tablet",
                  "line": {
                    "color": "#00cc96",
                    "dash": "solid"
                  },
                  "marker": {
                    "symbol": "circle"
                  },
                  "mode": "lines",
                  "name": "Tablet",
                  "orientation": "v",
                  "showlegend": true,
                  "type": "scatter",
                  "x": [
                    "2023-01-18T00:00:00",
                    "2023-02-02T00:00:00",
                    "2023-02-07T00:00:00",
                    "2023-02-17T00:00:00",
                    "2023-02-23T00:00:00"
                  ],
                  "xaxis": "x",
                  "y": [
                    3.410777231055108,
                    4.641659097391925,
                    5.161698747556971,
                    6.000508628740811,
                    6.737849634977342
                  ],
                  "yaxis": "y"
                }
              ],
              "layout": {
                "legend": {
                  "title": {
                    "text": "Dispositivos"
                  },
                  "tracegroupgap": 0
                },
                "template": {
                  "data": {
                    "bar": [
                      {
                        "error_x": {
                          "color": "#2a3f5f"
                        },
                        "error_y": {
                          "color": "#2a3f5f"
                        },
                        "marker": {
                          "line": {
                            "color": "#E5ECF6",
                            "width": 0.5
                          },
                          "pattern": {
                            "fillmode": "overlay",
                            "size": 10,
                            "solidity": 0.2
                          }
                        },
                        "type": "bar"
                      }
                    ],
                    "barpolar": [
                      {
                        "marker": {
                          "line": {
                            "color": "#E5ECF6",
                            "width": 0.5
                          },
                          "pattern": {
                            "fillmode": "overlay",
                            "size": 10,
                            "solidity": 0.2
                          }
                        },
                        "type": "barpolar"
                      }
                    ],
                    "carpet": [
                      {
                        "aaxis": {
                          "endlinecolor": "#2a3f5f",
                          "gridcolor": "white",
                          "linecolor": "white",
                          "minorgridcolor": "white",
                          "startlinecolor": "#2a3f5f"
                        },
                        "baxis": {
                          "endlinecolor": "#2a3f5f",
                          "gridcolor": "white",
                          "linecolor": "white",
                          "minorgridcolor": "white",
                          "startlinecolor": "#2a3f5f"
                        },
                        "type": "carpet"
                      }
                    ],
                    "choropleth": [
                      {
                        "colorbar": {
                          "outlinewidth": 0,
                          "ticks": ""
                        },
                        "type": "choropleth"
                      }
                    ],
                    "contour": [
                      {
                        "colorbar": {
                          "outlinewidth": 0,
                          "ticks": ""
                        },
                        "colorscale": [
                          [
                            0,
                            "#0d0887"
                          ],
                          [
                            0.1111111111111111,
                            "#46039f"
                          ],
                          [
                            0.2222222222222222,
                            "#7201a8"
                          ],
                          [
                            0.3333333333333333,
                            "#9c179e"
                          ],
                          [
                            0.4444444444444444,
                            "#bd3786"
                          ],
                          [
                            0.5555555555555556,
                            "#d8576b"
                          ],
                          [
                            0.6666666666666666,
                            "#ed7953"
                          ],
                          [
                            0.7777777777777778,
                            "#fb9f3a"
                          ],
                          [
                            0.8888888888888888,
                            "#fdca26"
                          ],
                          [
                            1,
                            "#f0f921"
                          ]
                        ],
                        "type": "contour"
                      }
                    ],
                    "contourcarpet": [
                      {
                        "colorbar": {
                          "outlinewidth": 0,
                          "ticks": ""
                        },
                        "type": "contourcarpet"
                      }
                    ],
                    "heatmap": [
                      {
                        "colorbar": {
                          "outlinewidth": 0,
                          "ticks": ""
                        },
                        "colorscale": [
                          [
                            0,
                            "#0d0887"
                          ],
                          [
                            0.1111111111111111,
                            "#46039f"
                          ],
                          [
                            0.2222222222222222,
                            "#7201a8"
                          ],
                          [
                            0.3333333333333333,
                            "#9c179e"
                          ],
                          [
                            0.4444444444444444,
                            "#bd3786"
                          ],
                          [
                            0.5555555555555556,
                            "#d8576b"
                          ],
                          [
                            0.6666666666666666,
                            "#ed7953"
                          ],
                          [
                            0.7777777777777778,
                            "#fb9f3a"
                          ],
                          [
                            0.8888888888888888,
                            "#fdca26"
                          ],
                          [
                            1,
                            "#f0f921"
                          ]
                        ],
                        "type": "heatmap"
                      }
                    ],
                    "heatmapgl": [
                      {
                        "colorbar": {
                          "outlinewidth": 0,
                          "ticks": ""
                        },
                        "colorscale": [
                          [
                            0,
                            "#0d0887"
                          ],
                          [
                            0.1111111111111111,
                            "#46039f"
                          ],
                          [
                            0.2222222222222222,
                            "#7201a8"
                          ],
                          [
                            0.3333333333333333,
                            "#9c179e"
                          ],
                          [
                            0.4444444444444444,
                            "#bd3786"
                          ],
                          [
                            0.5555555555555556,
                            "#d8576b"
                          ],
                          [
                            0.6666666666666666,
                            "#ed7953"
                          ],
                          [
                            0.7777777777777778,
                            "#fb9f3a"
                          ],
                          [
                            0.8888888888888888,
                            "#fdca26"
                          ],
                          [
                            1,
                            "#f0f921"
                          ]
                        ],
                        "type": "heatmapgl"
                      }
                    ],
                    "histogram": [
                      {
                        "marker": {
                          "pattern": {
                            "fillmode": "overlay",
                            "size": 10,
                            "solidity": 0.2
                          }
                        },
                        "type": "histogram"
                      }
                    ],
                    "histogram2d": [
                      {
                        "colorbar": {
                          "outlinewidth": 0,
                          "ticks": ""
                        },
                        "colorscale": [
                          [
                            0,
                            "#0d0887"
                          ],
                          [
                            0.1111111111111111,
                            "#46039f"
                          ],
                          [
                            0.2222222222222222,
                            "#7201a8"
                          ],
                          [
                            0.3333333333333333,
                            "#9c179e"
                          ],
                          [
                            0.4444444444444444,
                            "#bd3786"
                          ],
                          [
                            0.5555555555555556,
                            "#d8576b"
                          ],
                          [
                            0.6666666666666666,
                            "#ed7953"
                          ],
                          [
                            0.7777777777777778,
                            "#fb9f3a"
                          ],
                          [
                            0.8888888888888888,
                            "#fdca26"
                          ],
                          [
                            1,
                            "#f0f921"
                          ]
                        ],
                        "type": "histogram2d"
                      }
                    ],
                    "histogram2dcontour": [
                      {
                        "colorbar": {
                          "outlinewidth": 0,
                          "ticks": ""
                        },
                        "colorscale": [
                          [
                            0,
                            "#0d0887"
                          ],
                          [
                            0.1111111111111111,
                            "#46039f"
                          ],
                          [
                            0.2222222222222222,
                            "#7201a8"
                          ],
                          [
                            0.3333333333333333,
                            "#9c179e"
                          ],
                          [
                            0.4444444444444444,
                            "#bd3786"
                          ],
                          [
                            0.5555555555555556,
                            "#d8576b"
                          ],
                          [
                            0.6666666666666666,
                            "#ed7953"
                          ],
                          [
                            0.7777777777777778,
                            "#fb9f3a"
                          ],
                          [
                            0.8888888888888888,
                            "#fdca26"
                          ],
                          [
                            1,
                            "#f0f921"
                          ]
                        ],
                        "type": "histogram2dcontour"
                      }
                    ],
                    "mesh3d": [
                      {
                        "colorbar": {
                          "outlinewidth": 0,
                          "ticks": ""
                        },
                        "type": "mesh3d"
                      }
                    ],
                    "parcoords": [
                      {
                        "line": {
                          "colorbar": {
                            "outlinewidth": 0,
                            "ticks": ""
                          }
                        },
                        "type": "parcoords"
                      }
                    ],
                    "pie": [
                      {
                        "automargin": true,
                        "type": "pie"
                      }
                    ],
                    "scatter": [
                      {
                        "fillpattern": {
                          "fillmode": "overlay",
                          "size": 10,
                          "solidity": 0.2
                        },
                        "type": "scatter"
                      }
                    ],
                    "scatter3d": [
                      {
                        "line": {
                          "colorbar": {
                            "outlinewidth": 0,
                            "ticks": ""
                          }
                        },
                        "marker": {
                          "colorbar": {
                            "outlinewidth": 0,
                            "ticks": ""
                          }
                        },
                        "type": "scatter3d"
                      }
                    ],
                    "scattercarpet": [
                      {
                        "marker": {
                          "colorbar": {
                            "outlinewidth": 0,
                            "ticks": ""
                          }
                        },
                        "type": "scattercarpet"
                      }
                    ],
                    "scattergeo": [
                      {
                        "marker": {
                          "colorbar": {
                            "outlinewidth": 0,
                            "ticks": ""
                          }
                        },
                        "type": "scattergeo"
                      }
                    ],
                    "scattergl": [
                      {
                        "marker": {
                          "colorbar": {
                            "outlinewidth": 0,
                            "ticks": ""
                          }
                        },
                        "type": "scattergl"
                      }
                    ],
                    "scattermapbox": [
                      {
                        "marker": {
                          "colorbar": {
                            "outlinewidth": 0,
                            "ticks": ""
                          }
                        },
                        "type": "scattermapbox"
                      }
                    ],
                    "scatterpolar": [
                      {
                        "marker": {
                          "colorbar": {
                            "outlinewidth": 0,
                            "ticks": ""
                          }
                        },
                        "type": "scatterpolar"
                      }
                    ],
                    "scatterpolargl": [
                      {
                        "marker": {
                          "colorbar": {
                            "outlinewidth": 0,
                            "ticks": ""
                          }
                        },
                        "type": "scatterpolargl"
                      }
                    ],
                    "scatterternary": [
                      {
                        "marker": {
                          "colorbar": {
                            "outlinewidth": 0,
                            "ticks": ""
                          }
                        },
                        "type": "scatterternary"
                      }
                    ],
                    "surface": [
                      {
                        "colorbar": {
                          "outlinewidth": 0,
                          "ticks": ""
                        },
                        "colorscale": [
                          [
                            0,
                            "#0d0887"
                          ],
                          [
                            0.1111111111111111,
                            "#46039f"
                          ],
                          [
                            0.2222222222222222,
                            "#7201a8"
                          ],
                          [
                            0.3333333333333333,
                            "#9c179e"
                          ],
                          [
                            0.4444444444444444,
                            "#bd3786"
                          ],
                          [
                            0.5555555555555556,
                            "#d8576b"
                          ],
                          [
                            0.6666666666666666,
                            "#ed7953"
                          ],
                          [
                            0.7777777777777778,
                            "#fb9f3a"
                          ],
                          [
                            0.8888888888888888,
                            "#fdca26"
                          ],
                          [
                            1,
                            "#f0f921"
                          ]
                        ],
                        "type": "surface"
                      }
                    ],
                    "table": [
                      {
                        "cells": {
                          "fill": {
                            "color": "#EBF0F8"
                          },
                          "line": {
                            "color": "white"
                          }
                        },
                        "header": {
                          "fill": {
                            "color": "#C8D4E3"
                          },
                          "line": {
                            "color": "white"
                          }
                        },
                        "type": "table"
                      }
                    ]
                  },
                  "layout": {
                    "annotationdefaults": {
                      "arrowcolor": "#2a3f5f",
                      "arrowhead": 0,
                      "arrowwidth": 1
                    },
                    "autotypenumbers": "strict",
                    "coloraxis": {
                      "colorbar": {
                        "outlinewidth": 0,
                        "ticks": ""
                      }
                    },
                    "colorscale": {
                      "diverging": [
                        [
                          0,
                          "#8e0152"
                        ],
                        [
                          0.1,
                          "#c51b7d"
                        ],
                        [
                          0.2,
                          "#de77ae"
                        ],
                        [
                          0.3,
                          "#f1b6da"
                        ],
                        [
                          0.4,
                          "#fde0ef"
                        ],
                        [
                          0.5,
                          "#f7f7f7"
                        ],
                        [
                          0.6,
                          "#e6f5d0"
                        ],
                        [
                          0.7,
                          "#b8e186"
                        ],
                        [
                          0.8,
                          "#7fbc41"
                        ],
                        [
                          0.9,
                          "#4d9221"
                        ],
                        [
                          1,
                          "#276419"
                        ]
                      ],
                      "sequential": [
                        [
                          0,
                          "#0d0887"
                        ],
                        [
                          0.1111111111111111,
                          "#46039f"
                        ],
                        [
                          0.2222222222222222,
                          "#7201a8"
                        ],
                        [
                          0.3333333333333333,
                          "#9c179e"
                        ],
                        [
                          0.4444444444444444,
                          "#bd3786"
                        ],
                        [
                          0.5555555555555556,
                          "#d8576b"
                        ],
                        [
                          0.6666666666666666,
                          "#ed7953"
                        ],
                        [
                          0.7777777777777778,
                          "#fb9f3a"
                        ],
                        [
                          0.8888888888888888,
                          "#fdca26"
                        ],
                        [
                          1,
                          "#f0f921"
                        ]
                      ],
                      "sequentialminus": [
                        [
                          0,
                          "#0d0887"
                        ],
                        [
                          0.1111111111111111,
                          "#46039f"
                        ],
                        [
                          0.2222222222222222,
                          "#7201a8"
                        ],
                        [
                          0.3333333333333333,
                          "#9c179e"
                        ],
                        [
                          0.4444444444444444,
                          "#bd3786"
                        ],
                        [
                          0.5555555555555556,
                          "#d8576b"
                        ],
                        [
                          0.6666666666666666,
                          "#ed7953"
                        ],
                        [
                          0.7777777777777778,
                          "#fb9f3a"
                        ],
                        [
                          0.8888888888888888,
                          "#fdca26"
                        ],
                        [
                          1,
                          "#f0f921"
                        ]
                      ]
                    },
                    "colorway": [
                      "#636efa",
                      "#EF553B",
                      "#00cc96",
                      "#ab63fa",
                      "#FFA15A",
                      "#19d3f3",
                      "#FF6692",
                      "#B6E880",
                      "#FF97FF",
                      "#FECB52"
                    ],
                    "font": {
                      "color": "#2a3f5f"
                    },
                    "geo": {
                      "bgcolor": "white",
                      "lakecolor": "white",
                      "landcolor": "#E5ECF6",
                      "showlakes": true,
                      "showland": true,
                      "subunitcolor": "white"
                    },
                    "hoverlabel": {
                      "align": "left"
                    },
                    "hovermode": "closest",
                    "mapbox": {
                      "style": "light"
                    },
                    "paper_bgcolor": "white",
                    "plot_bgcolor": "#E5ECF6",
                    "polar": {
                      "angularaxis": {
                        "gridcolor": "white",
                        "linecolor": "white",
                        "ticks": ""
                      },
                      "bgcolor": "#E5ECF6",
                      "radialaxis": {
                        "gridcolor": "white",
                        "linecolor": "white",
                        "ticks": ""
                      }
                    },
                    "scene": {
                      "xaxis": {
                        "backgroundcolor": "#E5ECF6",
                        "gridcolor": "white",
                        "gridwidth": 2,
                        "linecolor": "white",
                        "showbackground": true,
                        "ticks": "",
                        "zerolinecolor": "white"
                      },
                      "yaxis": {
                        "backgroundcolor": "#E5ECF6",
                        "gridcolor": "white",
                        "gridwidth": 2,
                        "linecolor": "white",
                        "showbackground": true,
                        "ticks": "",
                        "zerolinecolor": "white"
                      },
                      "zaxis": {
                        "backgroundcolor": "#E5ECF6",
                        "gridcolor": "white",
                        "gridwidth": 2,
                        "linecolor": "white",
                        "showbackground": true,
                        "ticks": "",
                        "zerolinecolor": "white"
                      }
                    },
                    "shapedefaults": {
                      "line": {
                        "color": "#2a3f5f"
                      }
                    },
                    "ternary": {
                      "aaxis": {
                        "gridcolor": "white",
                        "linecolor": "white",
                        "ticks": ""
                      },
                      "baxis": {
                        "gridcolor": "white",
                        "linecolor": "white",
                        "ticks": ""
                      },
                      "bgcolor": "#E5ECF6",
                      "caxis": {
                        "gridcolor": "white",
                        "linecolor": "white",
                        "ticks": ""
                      }
                    },
                    "title": {
                      "x": 0.05
                    },
                    "xaxis": {
                      "automargin": true,
                      "gridcolor": "white",
                      "linecolor": "white",
                      "ticks": "",
                      "title": {
                        "standoff": 15
                      },
                      "zerolinecolor": "white",
                      "zerolinewidth": 2
                    },
                    "yaxis": {
                      "automargin": true,
                      "gridcolor": "white",
                      "linecolor": "white",
                      "ticks": "",
                      "title": {
                        "standoff": 15
                      },
                      "zerolinecolor": "white",
                      "zerolinewidth": 2
                    }
                  }
                },
                "title": {
                  "text": "Taxa de Conversão por data"
                },
                "xaxis": {
                  "anchor": "y",
                  "domain": [
                    0,
                    1
                  ],
                  "title": {
                    "text": "Data"
                  }
                },
                "yaxis": {
                  "anchor": "x",
                  "domain": [
                    0,
                    1
                  ],
                  "title": {
                    "text": "Taxa de Conversão (%)"
                  }
                }
              }
            }
          },
          "metadata": {},
          "output_type": "display_data"
        }
      ],
      "source": [
        "# Dispositivo e conversão\n",
        "px.line(df, x='Data', y='Taxa de Conversão (%)', color= 'Dispositivos', title='Taxa de Conversão por data')"
      ]
    },
    {
      "cell_type": "code",
      "execution_count": 44,
      "metadata": {},
      "outputs": [
        {
          "data": {
            "application/vnd.plotly.v1+json": {
              "config": {
                "plotlyServerURL": "https://plot.ly"
              },
              "data": [
                {
                  "hovertemplate": "Dispositivos=Desktop<br>Data=%{x}<br>Taxa de Rejeição (%)=%{y}<extra></extra>",
                  "legendgroup": "Desktop",
                  "line": {
                    "color": "#636efa",
                    "dash": "solid"
                  },
                  "marker": {
                    "symbol": "circle"
                  },
                  "mode": "lines",
                  "name": "Desktop",
                  "orientation": "v",
                  "showlegend": true,
                  "type": "scatter",
                  "x": [
                    "2023-01-01T00:00:00",
                    "2023-01-02T00:00:00",
                    "2023-01-03T00:00:00",
                    "2023-01-05T00:00:00",
                    "2023-01-08T00:00:00",
                    "2023-01-09T00:00:00",
                    "2023-01-10T00:00:00",
                    "2023-01-12T00:00:00",
                    "2023-01-14T00:00:00",
                    "2023-01-16T00:00:00",
                    "2023-01-17T00:00:00",
                    "2023-01-20T00:00:00",
                    "2023-01-22T00:00:00",
                    "2023-01-25T00:00:00",
                    "2023-01-26T00:00:00",
                    "2023-01-27T00:00:00",
                    "2023-01-30T00:00:00",
                    "2023-01-31T00:00:00",
                    "2023-02-04T00:00:00",
                    "2023-02-05T00:00:00",
                    "2023-02-06T00:00:00",
                    "2023-02-08T00:00:00",
                    "2023-02-10T00:00:00",
                    "2023-02-14T00:00:00",
                    "2023-02-15T00:00:00",
                    "2023-02-16T00:00:00",
                    "2023-02-22T00:00:00",
                    "2023-02-24T00:00:00",
                    "2023-02-25T00:00:00",
                    "2023-02-27T00:00:00",
                    "2023-02-28T00:00:00"
                  ],
                  "xaxis": "x",
                  "y": [
                    50.49671415301123,
                    49.438006885269495,
                    49.80023091098205,
                    48.07093137103938,
                    47.80133303423766,
                    46.14069510559048,
                    46.72900072155207,
                    44.8732532972772,
                    42.57824517907102,
                    43.0817802673692,
                    42.207507862716426,
                    40.5368488410376,
                    40.8759186147677,
                    39.286125750051085,
                    39.51770225072681,
                    37.83205727003532,
                    37.42017065698639,
                    29.22880186234688,
                    29.297121183289637,
                    26.914749570367963,
                    28.005473764496283,
                    25.790458018898185,
                    27.17914454609711,
                    23.60622377234444,
                    24.0259185034697,
                    23.94614089005717,
                    21.69595935562625,
                    22.72591477673324,
                    22.287212322506036,
                    20.368753725843703,
                    20.670246482251024
                  ],
                  "yaxis": "y"
                },
                {
                  "hovertemplate": "Dispositivos=Mobile<br>Data=%{x}<br>Taxa de Rejeição (%)=%{y}<extra></extra>",
                  "legendgroup": "Mobile",
                  "line": {
                    "color": "#EF553B",
                    "dash": "solid"
                  },
                  "marker": {
                    "symbol": "circle"
                  },
                  "mode": "lines",
                  "name": "Mobile",
                  "orientation": "v",
                  "showlegend": true,
                  "type": "scatter",
                  "x": [
                    "2023-01-04T00:00:00",
                    "2023-01-06T00:00:00",
                    "2023-01-07T00:00:00",
                    "2023-01-11T00:00:00",
                    "2023-01-13T00:00:00",
                    "2023-01-15T00:00:00",
                    "2023-01-19T00:00:00",
                    "2023-01-21T00:00:00",
                    "2023-01-23T00:00:00",
                    "2023-01-24T00:00:00",
                    "2023-01-28T00:00:00",
                    "2023-01-29T00:00:00",
                    "2023-02-01T00:00:00",
                    "2023-02-03T00:00:00",
                    "2023-02-09T00:00:00",
                    "2023-02-11T00:00:00",
                    "2023-02-12T00:00:00",
                    "2023-02-13T00:00:00",
                    "2023-02-18T00:00:00",
                    "2023-02-19T00:00:00",
                    "2023-02-20T00:00:00",
                    "2023-02-21T00:00:00",
                    "2023-02-26T00:00:00",
                    "2023-03-01T00:00:00"
                  ],
                  "xaxis": "x",
                  "y": [
                    50.25184341573006,
                    47.64721897525421,
                    49.03683993415146,
                    45.29929417159432,
                    45.15721650885417,
                    42.34287877765646,
                    41.464857280411,
                    42.99107249773512,
                    40.74549430638284,
                    38.829489101922135,
                    38.93502005224398,
                    37.53495453042018,
                    31.343803608237756,
                    27.755848393078,
                    26.97652225281828,
                    26.273063196444205,
                    25.64706358201854,
                    25.12262511797003,
                    24.072431848890496,
                    21.626790353111844,
                    23.37493142702192,
                    22.326782126363348,
                    20.177731629319734,
                    20.97554512712236
                  ],
                  "yaxis": "y"
                },
                {
                  "hovertemplate": "Dispositivos=Tablet<br>Data=%{x}<br>Taxa de Rejeição (%)=%{y}<extra></extra>",
                  "legendgroup": "Tablet",
                  "line": {
                    "color": "#00cc96",
                    "dash": "solid"
                  },
                  "marker": {
                    "symbol": "circle"
                  },
                  "mode": "lines",
                  "name": "Tablet",
                  "orientation": "v",
                  "showlegend": true,
                  "type": "scatter",
                  "x": [
                    "2023-01-18T00:00:00",
                    "2023-02-02T00:00:00",
                    "2023-02-07T00:00:00",
                    "2023-02-17T00:00:00",
                    "2023-02-23T00:00:00"
                  ],
                  "xaxis": "x",
                  "y": [
                    43.1108575020868,
                    29.139045148143424,
                    25.49795699476429,
                    25.12491883638841,
                    22.645574593925616
                  ],
                  "yaxis": "y"
                }
              ],
              "layout": {
                "legend": {
                  "title": {
                    "text": "Dispositivos"
                  },
                  "tracegroupgap": 0
                },
                "template": {
                  "data": {
                    "bar": [
                      {
                        "error_x": {
                          "color": "#2a3f5f"
                        },
                        "error_y": {
                          "color": "#2a3f5f"
                        },
                        "marker": {
                          "line": {
                            "color": "#E5ECF6",
                            "width": 0.5
                          },
                          "pattern": {
                            "fillmode": "overlay",
                            "size": 10,
                            "solidity": 0.2
                          }
                        },
                        "type": "bar"
                      }
                    ],
                    "barpolar": [
                      {
                        "marker": {
                          "line": {
                            "color": "#E5ECF6",
                            "width": 0.5
                          },
                          "pattern": {
                            "fillmode": "overlay",
                            "size": 10,
                            "solidity": 0.2
                          }
                        },
                        "type": "barpolar"
                      }
                    ],
                    "carpet": [
                      {
                        "aaxis": {
                          "endlinecolor": "#2a3f5f",
                          "gridcolor": "white",
                          "linecolor": "white",
                          "minorgridcolor": "white",
                          "startlinecolor": "#2a3f5f"
                        },
                        "baxis": {
                          "endlinecolor": "#2a3f5f",
                          "gridcolor": "white",
                          "linecolor": "white",
                          "minorgridcolor": "white",
                          "startlinecolor": "#2a3f5f"
                        },
                        "type": "carpet"
                      }
                    ],
                    "choropleth": [
                      {
                        "colorbar": {
                          "outlinewidth": 0,
                          "ticks": ""
                        },
                        "type": "choropleth"
                      }
                    ],
                    "contour": [
                      {
                        "colorbar": {
                          "outlinewidth": 0,
                          "ticks": ""
                        },
                        "colorscale": [
                          [
                            0,
                            "#0d0887"
                          ],
                          [
                            0.1111111111111111,
                            "#46039f"
                          ],
                          [
                            0.2222222222222222,
                            "#7201a8"
                          ],
                          [
                            0.3333333333333333,
                            "#9c179e"
                          ],
                          [
                            0.4444444444444444,
                            "#bd3786"
                          ],
                          [
                            0.5555555555555556,
                            "#d8576b"
                          ],
                          [
                            0.6666666666666666,
                            "#ed7953"
                          ],
                          [
                            0.7777777777777778,
                            "#fb9f3a"
                          ],
                          [
                            0.8888888888888888,
                            "#fdca26"
                          ],
                          [
                            1,
                            "#f0f921"
                          ]
                        ],
                        "type": "contour"
                      }
                    ],
                    "contourcarpet": [
                      {
                        "colorbar": {
                          "outlinewidth": 0,
                          "ticks": ""
                        },
                        "type": "contourcarpet"
                      }
                    ],
                    "heatmap": [
                      {
                        "colorbar": {
                          "outlinewidth": 0,
                          "ticks": ""
                        },
                        "colorscale": [
                          [
                            0,
                            "#0d0887"
                          ],
                          [
                            0.1111111111111111,
                            "#46039f"
                          ],
                          [
                            0.2222222222222222,
                            "#7201a8"
                          ],
                          [
                            0.3333333333333333,
                            "#9c179e"
                          ],
                          [
                            0.4444444444444444,
                            "#bd3786"
                          ],
                          [
                            0.5555555555555556,
                            "#d8576b"
                          ],
                          [
                            0.6666666666666666,
                            "#ed7953"
                          ],
                          [
                            0.7777777777777778,
                            "#fb9f3a"
                          ],
                          [
                            0.8888888888888888,
                            "#fdca26"
                          ],
                          [
                            1,
                            "#f0f921"
                          ]
                        ],
                        "type": "heatmap"
                      }
                    ],
                    "heatmapgl": [
                      {
                        "colorbar": {
                          "outlinewidth": 0,
                          "ticks": ""
                        },
                        "colorscale": [
                          [
                            0,
                            "#0d0887"
                          ],
                          [
                            0.1111111111111111,
                            "#46039f"
                          ],
                          [
                            0.2222222222222222,
                            "#7201a8"
                          ],
                          [
                            0.3333333333333333,
                            "#9c179e"
                          ],
                          [
                            0.4444444444444444,
                            "#bd3786"
                          ],
                          [
                            0.5555555555555556,
                            "#d8576b"
                          ],
                          [
                            0.6666666666666666,
                            "#ed7953"
                          ],
                          [
                            0.7777777777777778,
                            "#fb9f3a"
                          ],
                          [
                            0.8888888888888888,
                            "#fdca26"
                          ],
                          [
                            1,
                            "#f0f921"
                          ]
                        ],
                        "type": "heatmapgl"
                      }
                    ],
                    "histogram": [
                      {
                        "marker": {
                          "pattern": {
                            "fillmode": "overlay",
                            "size": 10,
                            "solidity": 0.2
                          }
                        },
                        "type": "histogram"
                      }
                    ],
                    "histogram2d": [
                      {
                        "colorbar": {
                          "outlinewidth": 0,
                          "ticks": ""
                        },
                        "colorscale": [
                          [
                            0,
                            "#0d0887"
                          ],
                          [
                            0.1111111111111111,
                            "#46039f"
                          ],
                          [
                            0.2222222222222222,
                            "#7201a8"
                          ],
                          [
                            0.3333333333333333,
                            "#9c179e"
                          ],
                          [
                            0.4444444444444444,
                            "#bd3786"
                          ],
                          [
                            0.5555555555555556,
                            "#d8576b"
                          ],
                          [
                            0.6666666666666666,
                            "#ed7953"
                          ],
                          [
                            0.7777777777777778,
                            "#fb9f3a"
                          ],
                          [
                            0.8888888888888888,
                            "#fdca26"
                          ],
                          [
                            1,
                            "#f0f921"
                          ]
                        ],
                        "type": "histogram2d"
                      }
                    ],
                    "histogram2dcontour": [
                      {
                        "colorbar": {
                          "outlinewidth": 0,
                          "ticks": ""
                        },
                        "colorscale": [
                          [
                            0,
                            "#0d0887"
                          ],
                          [
                            0.1111111111111111,
                            "#46039f"
                          ],
                          [
                            0.2222222222222222,
                            "#7201a8"
                          ],
                          [
                            0.3333333333333333,
                            "#9c179e"
                          ],
                          [
                            0.4444444444444444,
                            "#bd3786"
                          ],
                          [
                            0.5555555555555556,
                            "#d8576b"
                          ],
                          [
                            0.6666666666666666,
                            "#ed7953"
                          ],
                          [
                            0.7777777777777778,
                            "#fb9f3a"
                          ],
                          [
                            0.8888888888888888,
                            "#fdca26"
                          ],
                          [
                            1,
                            "#f0f921"
                          ]
                        ],
                        "type": "histogram2dcontour"
                      }
                    ],
                    "mesh3d": [
                      {
                        "colorbar": {
                          "outlinewidth": 0,
                          "ticks": ""
                        },
                        "type": "mesh3d"
                      }
                    ],
                    "parcoords": [
                      {
                        "line": {
                          "colorbar": {
                            "outlinewidth": 0,
                            "ticks": ""
                          }
                        },
                        "type": "parcoords"
                      }
                    ],
                    "pie": [
                      {
                        "automargin": true,
                        "type": "pie"
                      }
                    ],
                    "scatter": [
                      {
                        "fillpattern": {
                          "fillmode": "overlay",
                          "size": 10,
                          "solidity": 0.2
                        },
                        "type": "scatter"
                      }
                    ],
                    "scatter3d": [
                      {
                        "line": {
                          "colorbar": {
                            "outlinewidth": 0,
                            "ticks": ""
                          }
                        },
                        "marker": {
                          "colorbar": {
                            "outlinewidth": 0,
                            "ticks": ""
                          }
                        },
                        "type": "scatter3d"
                      }
                    ],
                    "scattercarpet": [
                      {
                        "marker": {
                          "colorbar": {
                            "outlinewidth": 0,
                            "ticks": ""
                          }
                        },
                        "type": "scattercarpet"
                      }
                    ],
                    "scattergeo": [
                      {
                        "marker": {
                          "colorbar": {
                            "outlinewidth": 0,
                            "ticks": ""
                          }
                        },
                        "type": "scattergeo"
                      }
                    ],
                    "scattergl": [
                      {
                        "marker": {
                          "colorbar": {
                            "outlinewidth": 0,
                            "ticks": ""
                          }
                        },
                        "type": "scattergl"
                      }
                    ],
                    "scattermapbox": [
                      {
                        "marker": {
                          "colorbar": {
                            "outlinewidth": 0,
                            "ticks": ""
                          }
                        },
                        "type": "scattermapbox"
                      }
                    ],
                    "scatterpolar": [
                      {
                        "marker": {
                          "colorbar": {
                            "outlinewidth": 0,
                            "ticks": ""
                          }
                        },
                        "type": "scatterpolar"
                      }
                    ],
                    "scatterpolargl": [
                      {
                        "marker": {
                          "colorbar": {
                            "outlinewidth": 0,
                            "ticks": ""
                          }
                        },
                        "type": "scatterpolargl"
                      }
                    ],
                    "scatterternary": [
                      {
                        "marker": {
                          "colorbar": {
                            "outlinewidth": 0,
                            "ticks": ""
                          }
                        },
                        "type": "scatterternary"
                      }
                    ],
                    "surface": [
                      {
                        "colorbar": {
                          "outlinewidth": 0,
                          "ticks": ""
                        },
                        "colorscale": [
                          [
                            0,
                            "#0d0887"
                          ],
                          [
                            0.1111111111111111,
                            "#46039f"
                          ],
                          [
                            0.2222222222222222,
                            "#7201a8"
                          ],
                          [
                            0.3333333333333333,
                            "#9c179e"
                          ],
                          [
                            0.4444444444444444,
                            "#bd3786"
                          ],
                          [
                            0.5555555555555556,
                            "#d8576b"
                          ],
                          [
                            0.6666666666666666,
                            "#ed7953"
                          ],
                          [
                            0.7777777777777778,
                            "#fb9f3a"
                          ],
                          [
                            0.8888888888888888,
                            "#fdca26"
                          ],
                          [
                            1,
                            "#f0f921"
                          ]
                        ],
                        "type": "surface"
                      }
                    ],
                    "table": [
                      {
                        "cells": {
                          "fill": {
                            "color": "#EBF0F8"
                          },
                          "line": {
                            "color": "white"
                          }
                        },
                        "header": {
                          "fill": {
                            "color": "#C8D4E3"
                          },
                          "line": {
                            "color": "white"
                          }
                        },
                        "type": "table"
                      }
                    ]
                  },
                  "layout": {
                    "annotationdefaults": {
                      "arrowcolor": "#2a3f5f",
                      "arrowhead": 0,
                      "arrowwidth": 1
                    },
                    "autotypenumbers": "strict",
                    "coloraxis": {
                      "colorbar": {
                        "outlinewidth": 0,
                        "ticks": ""
                      }
                    },
                    "colorscale": {
                      "diverging": [
                        [
                          0,
                          "#8e0152"
                        ],
                        [
                          0.1,
                          "#c51b7d"
                        ],
                        [
                          0.2,
                          "#de77ae"
                        ],
                        [
                          0.3,
                          "#f1b6da"
                        ],
                        [
                          0.4,
                          "#fde0ef"
                        ],
                        [
                          0.5,
                          "#f7f7f7"
                        ],
                        [
                          0.6,
                          "#e6f5d0"
                        ],
                        [
                          0.7,
                          "#b8e186"
                        ],
                        [
                          0.8,
                          "#7fbc41"
                        ],
                        [
                          0.9,
                          "#4d9221"
                        ],
                        [
                          1,
                          "#276419"
                        ]
                      ],
                      "sequential": [
                        [
                          0,
                          "#0d0887"
                        ],
                        [
                          0.1111111111111111,
                          "#46039f"
                        ],
                        [
                          0.2222222222222222,
                          "#7201a8"
                        ],
                        [
                          0.3333333333333333,
                          "#9c179e"
                        ],
                        [
                          0.4444444444444444,
                          "#bd3786"
                        ],
                        [
                          0.5555555555555556,
                          "#d8576b"
                        ],
                        [
                          0.6666666666666666,
                          "#ed7953"
                        ],
                        [
                          0.7777777777777778,
                          "#fb9f3a"
                        ],
                        [
                          0.8888888888888888,
                          "#fdca26"
                        ],
                        [
                          1,
                          "#f0f921"
                        ]
                      ],
                      "sequentialminus": [
                        [
                          0,
                          "#0d0887"
                        ],
                        [
                          0.1111111111111111,
                          "#46039f"
                        ],
                        [
                          0.2222222222222222,
                          "#7201a8"
                        ],
                        [
                          0.3333333333333333,
                          "#9c179e"
                        ],
                        [
                          0.4444444444444444,
                          "#bd3786"
                        ],
                        [
                          0.5555555555555556,
                          "#d8576b"
                        ],
                        [
                          0.6666666666666666,
                          "#ed7953"
                        ],
                        [
                          0.7777777777777778,
                          "#fb9f3a"
                        ],
                        [
                          0.8888888888888888,
                          "#fdca26"
                        ],
                        [
                          1,
                          "#f0f921"
                        ]
                      ]
                    },
                    "colorway": [
                      "#636efa",
                      "#EF553B",
                      "#00cc96",
                      "#ab63fa",
                      "#FFA15A",
                      "#19d3f3",
                      "#FF6692",
                      "#B6E880",
                      "#FF97FF",
                      "#FECB52"
                    ],
                    "font": {
                      "color": "#2a3f5f"
                    },
                    "geo": {
                      "bgcolor": "white",
                      "lakecolor": "white",
                      "landcolor": "#E5ECF6",
                      "showlakes": true,
                      "showland": true,
                      "subunitcolor": "white"
                    },
                    "hoverlabel": {
                      "align": "left"
                    },
                    "hovermode": "closest",
                    "mapbox": {
                      "style": "light"
                    },
                    "paper_bgcolor": "white",
                    "plot_bgcolor": "#E5ECF6",
                    "polar": {
                      "angularaxis": {
                        "gridcolor": "white",
                        "linecolor": "white",
                        "ticks": ""
                      },
                      "bgcolor": "#E5ECF6",
                      "radialaxis": {
                        "gridcolor": "white",
                        "linecolor": "white",
                        "ticks": ""
                      }
                    },
                    "scene": {
                      "xaxis": {
                        "backgroundcolor": "#E5ECF6",
                        "gridcolor": "white",
                        "gridwidth": 2,
                        "linecolor": "white",
                        "showbackground": true,
                        "ticks": "",
                        "zerolinecolor": "white"
                      },
                      "yaxis": {
                        "backgroundcolor": "#E5ECF6",
                        "gridcolor": "white",
                        "gridwidth": 2,
                        "linecolor": "white",
                        "showbackground": true,
                        "ticks": "",
                        "zerolinecolor": "white"
                      },
                      "zaxis": {
                        "backgroundcolor": "#E5ECF6",
                        "gridcolor": "white",
                        "gridwidth": 2,
                        "linecolor": "white",
                        "showbackground": true,
                        "ticks": "",
                        "zerolinecolor": "white"
                      }
                    },
                    "shapedefaults": {
                      "line": {
                        "color": "#2a3f5f"
                      }
                    },
                    "ternary": {
                      "aaxis": {
                        "gridcolor": "white",
                        "linecolor": "white",
                        "ticks": ""
                      },
                      "baxis": {
                        "gridcolor": "white",
                        "linecolor": "white",
                        "ticks": ""
                      },
                      "bgcolor": "#E5ECF6",
                      "caxis": {
                        "gridcolor": "white",
                        "linecolor": "white",
                        "ticks": ""
                      }
                    },
                    "title": {
                      "x": 0.05
                    },
                    "xaxis": {
                      "automargin": true,
                      "gridcolor": "white",
                      "linecolor": "white",
                      "ticks": "",
                      "title": {
                        "standoff": 15
                      },
                      "zerolinecolor": "white",
                      "zerolinewidth": 2
                    },
                    "yaxis": {
                      "automargin": true,
                      "gridcolor": "white",
                      "linecolor": "white",
                      "ticks": "",
                      "title": {
                        "standoff": 15
                      },
                      "zerolinecolor": "white",
                      "zerolinewidth": 2
                    }
                  }
                },
                "title": {
                  "text": "Taxa de Conversão por data"
                },
                "xaxis": {
                  "anchor": "y",
                  "domain": [
                    0,
                    1
                  ],
                  "title": {
                    "text": "Data"
                  }
                },
                "yaxis": {
                  "anchor": "x",
                  "domain": [
                    0,
                    1
                  ],
                  "title": {
                    "text": "Taxa de Rejeição (%)"
                  }
                }
              }
            }
          },
          "metadata": {},
          "output_type": "display_data"
        }
      ],
      "source": [
        "# Dispositivo e Rejeição\n",
        "px.line(df, x='Data', y='Taxa de Rejeição (%)', color= 'Dispositivos', title='Taxa de Conversão por data')"
      ]
    },
    {
      "cell_type": "code",
      "execution_count": 39,
      "metadata": {},
      "outputs": [
        {
          "data": {
            "application/vnd.plotly.v1+json": {
              "config": {
                "plotlyServerURL": "https://plot.ly"
              },
              "data": [
                {
                  "alignmentgroup": "True",
                  "bingroup": "x",
                  "histfunc": "sum",
                  "hovertemplate": "Dispositivos=%{x}<br>sum of Taxa de Rejeição (%)=%{y}<extra></extra>",
                  "legendgroup": "",
                  "marker": {
                    "color": "#636efa",
                    "pattern": {
                      "shape": ""
                    }
                  },
                  "name": "",
                  "offsetgroup": "",
                  "orientation": "v",
                  "showlegend": false,
                  "type": "histogram",
                  "x": [
                    "Desktop",
                    "Desktop",
                    "Desktop",
                    "Mobile",
                    "Desktop",
                    "Mobile",
                    "Mobile",
                    "Desktop",
                    "Desktop",
                    "Desktop",
                    "Mobile",
                    "Desktop",
                    "Mobile",
                    "Desktop",
                    "Mobile",
                    "Desktop",
                    "Desktop",
                    "Tablet",
                    "Mobile",
                    "Desktop",
                    "Mobile",
                    "Desktop",
                    "Mobile",
                    "Mobile",
                    "Desktop",
                    "Desktop",
                    "Desktop",
                    "Mobile",
                    "Mobile",
                    "Desktop",
                    "Desktop",
                    "Mobile",
                    "Tablet",
                    "Mobile",
                    "Desktop",
                    "Desktop",
                    "Desktop",
                    "Tablet",
                    "Desktop",
                    "Mobile",
                    "Desktop",
                    "Mobile",
                    "Mobile",
                    "Mobile",
                    "Desktop",
                    "Desktop",
                    "Desktop",
                    "Tablet",
                    "Mobile",
                    "Mobile",
                    "Mobile",
                    "Mobile",
                    "Desktop",
                    "Tablet",
                    "Desktop",
                    "Desktop",
                    "Mobile",
                    "Desktop",
                    "Desktop",
                    "Mobile"
                  ],
                  "xaxis": "x",
                  "y": [
                    50.49671415301123,
                    49.438006885269495,
                    49.80023091098205,
                    50.25184341573006,
                    48.07093137103938,
                    47.64721897525421,
                    49.03683993415146,
                    47.80133303423766,
                    46.14069510559048,
                    46.72900072155207,
                    45.29929417159432,
                    44.8732532972772,
                    45.15721650885417,
                    42.57824517907102,
                    42.34287877765646,
                    43.0817802673692,
                    42.207507862716426,
                    43.1108575020868,
                    41.464857280411,
                    40.5368488410376,
                    42.99107249773512,
                    40.8759186147677,
                    40.74549430638284,
                    38.829489101922135,
                    39.286125750051085,
                    39.51770225072681,
                    37.83205727003532,
                    38.93502005224398,
                    37.53495453042018,
                    37.42017065698639,
                    29.22880186234688,
                    31.343803608237756,
                    29.139045148143424,
                    27.755848393078,
                    29.297121183289637,
                    26.914749570367963,
                    28.005473764496283,
                    25.49795699476429,
                    25.790458018898185,
                    26.97652225281828,
                    27.17914454609711,
                    26.273063196444205,
                    25.64706358201854,
                    25.12262511797003,
                    23.60622377234444,
                    24.0259185034697,
                    23.94614089005717,
                    25.12491883638841,
                    24.072431848890496,
                    21.626790353111844,
                    23.37493142702192,
                    22.326782126363348,
                    21.69595935562625,
                    22.645574593925616,
                    22.72591477673324,
                    22.287212322506036,
                    20.177731629319734,
                    20.368753725843703,
                    20.670246482251024,
                    20.97554512712236
                  ],
                  "yaxis": "y"
                }
              ],
              "layout": {
                "barmode": "relative",
                "legend": {
                  "tracegroupgap": 0
                },
                "template": {
                  "data": {
                    "bar": [
                      {
                        "error_x": {
                          "color": "#2a3f5f"
                        },
                        "error_y": {
                          "color": "#2a3f5f"
                        },
                        "marker": {
                          "line": {
                            "color": "#E5ECF6",
                            "width": 0.5
                          },
                          "pattern": {
                            "fillmode": "overlay",
                            "size": 10,
                            "solidity": 0.2
                          }
                        },
                        "type": "bar"
                      }
                    ],
                    "barpolar": [
                      {
                        "marker": {
                          "line": {
                            "color": "#E5ECF6",
                            "width": 0.5
                          },
                          "pattern": {
                            "fillmode": "overlay",
                            "size": 10,
                            "solidity": 0.2
                          }
                        },
                        "type": "barpolar"
                      }
                    ],
                    "carpet": [
                      {
                        "aaxis": {
                          "endlinecolor": "#2a3f5f",
                          "gridcolor": "white",
                          "linecolor": "white",
                          "minorgridcolor": "white",
                          "startlinecolor": "#2a3f5f"
                        },
                        "baxis": {
                          "endlinecolor": "#2a3f5f",
                          "gridcolor": "white",
                          "linecolor": "white",
                          "minorgridcolor": "white",
                          "startlinecolor": "#2a3f5f"
                        },
                        "type": "carpet"
                      }
                    ],
                    "choropleth": [
                      {
                        "colorbar": {
                          "outlinewidth": 0,
                          "ticks": ""
                        },
                        "type": "choropleth"
                      }
                    ],
                    "contour": [
                      {
                        "colorbar": {
                          "outlinewidth": 0,
                          "ticks": ""
                        },
                        "colorscale": [
                          [
                            0,
                            "#0d0887"
                          ],
                          [
                            0.1111111111111111,
                            "#46039f"
                          ],
                          [
                            0.2222222222222222,
                            "#7201a8"
                          ],
                          [
                            0.3333333333333333,
                            "#9c179e"
                          ],
                          [
                            0.4444444444444444,
                            "#bd3786"
                          ],
                          [
                            0.5555555555555556,
                            "#d8576b"
                          ],
                          [
                            0.6666666666666666,
                            "#ed7953"
                          ],
                          [
                            0.7777777777777778,
                            "#fb9f3a"
                          ],
                          [
                            0.8888888888888888,
                            "#fdca26"
                          ],
                          [
                            1,
                            "#f0f921"
                          ]
                        ],
                        "type": "contour"
                      }
                    ],
                    "contourcarpet": [
                      {
                        "colorbar": {
                          "outlinewidth": 0,
                          "ticks": ""
                        },
                        "type": "contourcarpet"
                      }
                    ],
                    "heatmap": [
                      {
                        "colorbar": {
                          "outlinewidth": 0,
                          "ticks": ""
                        },
                        "colorscale": [
                          [
                            0,
                            "#0d0887"
                          ],
                          [
                            0.1111111111111111,
                            "#46039f"
                          ],
                          [
                            0.2222222222222222,
                            "#7201a8"
                          ],
                          [
                            0.3333333333333333,
                            "#9c179e"
                          ],
                          [
                            0.4444444444444444,
                            "#bd3786"
                          ],
                          [
                            0.5555555555555556,
                            "#d8576b"
                          ],
                          [
                            0.6666666666666666,
                            "#ed7953"
                          ],
                          [
                            0.7777777777777778,
                            "#fb9f3a"
                          ],
                          [
                            0.8888888888888888,
                            "#fdca26"
                          ],
                          [
                            1,
                            "#f0f921"
                          ]
                        ],
                        "type": "heatmap"
                      }
                    ],
                    "heatmapgl": [
                      {
                        "colorbar": {
                          "outlinewidth": 0,
                          "ticks": ""
                        },
                        "colorscale": [
                          [
                            0,
                            "#0d0887"
                          ],
                          [
                            0.1111111111111111,
                            "#46039f"
                          ],
                          [
                            0.2222222222222222,
                            "#7201a8"
                          ],
                          [
                            0.3333333333333333,
                            "#9c179e"
                          ],
                          [
                            0.4444444444444444,
                            "#bd3786"
                          ],
                          [
                            0.5555555555555556,
                            "#d8576b"
                          ],
                          [
                            0.6666666666666666,
                            "#ed7953"
                          ],
                          [
                            0.7777777777777778,
                            "#fb9f3a"
                          ],
                          [
                            0.8888888888888888,
                            "#fdca26"
                          ],
                          [
                            1,
                            "#f0f921"
                          ]
                        ],
                        "type": "heatmapgl"
                      }
                    ],
                    "histogram": [
                      {
                        "marker": {
                          "pattern": {
                            "fillmode": "overlay",
                            "size": 10,
                            "solidity": 0.2
                          }
                        },
                        "type": "histogram"
                      }
                    ],
                    "histogram2d": [
                      {
                        "colorbar": {
                          "outlinewidth": 0,
                          "ticks": ""
                        },
                        "colorscale": [
                          [
                            0,
                            "#0d0887"
                          ],
                          [
                            0.1111111111111111,
                            "#46039f"
                          ],
                          [
                            0.2222222222222222,
                            "#7201a8"
                          ],
                          [
                            0.3333333333333333,
                            "#9c179e"
                          ],
                          [
                            0.4444444444444444,
                            "#bd3786"
                          ],
                          [
                            0.5555555555555556,
                            "#d8576b"
                          ],
                          [
                            0.6666666666666666,
                            "#ed7953"
                          ],
                          [
                            0.7777777777777778,
                            "#fb9f3a"
                          ],
                          [
                            0.8888888888888888,
                            "#fdca26"
                          ],
                          [
                            1,
                            "#f0f921"
                          ]
                        ],
                        "type": "histogram2d"
                      }
                    ],
                    "histogram2dcontour": [
                      {
                        "colorbar": {
                          "outlinewidth": 0,
                          "ticks": ""
                        },
                        "colorscale": [
                          [
                            0,
                            "#0d0887"
                          ],
                          [
                            0.1111111111111111,
                            "#46039f"
                          ],
                          [
                            0.2222222222222222,
                            "#7201a8"
                          ],
                          [
                            0.3333333333333333,
                            "#9c179e"
                          ],
                          [
                            0.4444444444444444,
                            "#bd3786"
                          ],
                          [
                            0.5555555555555556,
                            "#d8576b"
                          ],
                          [
                            0.6666666666666666,
                            "#ed7953"
                          ],
                          [
                            0.7777777777777778,
                            "#fb9f3a"
                          ],
                          [
                            0.8888888888888888,
                            "#fdca26"
                          ],
                          [
                            1,
                            "#f0f921"
                          ]
                        ],
                        "type": "histogram2dcontour"
                      }
                    ],
                    "mesh3d": [
                      {
                        "colorbar": {
                          "outlinewidth": 0,
                          "ticks": ""
                        },
                        "type": "mesh3d"
                      }
                    ],
                    "parcoords": [
                      {
                        "line": {
                          "colorbar": {
                            "outlinewidth": 0,
                            "ticks": ""
                          }
                        },
                        "type": "parcoords"
                      }
                    ],
                    "pie": [
                      {
                        "automargin": true,
                        "type": "pie"
                      }
                    ],
                    "scatter": [
                      {
                        "fillpattern": {
                          "fillmode": "overlay",
                          "size": 10,
                          "solidity": 0.2
                        },
                        "type": "scatter"
                      }
                    ],
                    "scatter3d": [
                      {
                        "line": {
                          "colorbar": {
                            "outlinewidth": 0,
                            "ticks": ""
                          }
                        },
                        "marker": {
                          "colorbar": {
                            "outlinewidth": 0,
                            "ticks": ""
                          }
                        },
                        "type": "scatter3d"
                      }
                    ],
                    "scattercarpet": [
                      {
                        "marker": {
                          "colorbar": {
                            "outlinewidth": 0,
                            "ticks": ""
                          }
                        },
                        "type": "scattercarpet"
                      }
                    ],
                    "scattergeo": [
                      {
                        "marker": {
                          "colorbar": {
                            "outlinewidth": 0,
                            "ticks": ""
                          }
                        },
                        "type": "scattergeo"
                      }
                    ],
                    "scattergl": [
                      {
                        "marker": {
                          "colorbar": {
                            "outlinewidth": 0,
                            "ticks": ""
                          }
                        },
                        "type": "scattergl"
                      }
                    ],
                    "scattermapbox": [
                      {
                        "marker": {
                          "colorbar": {
                            "outlinewidth": 0,
                            "ticks": ""
                          }
                        },
                        "type": "scattermapbox"
                      }
                    ],
                    "scatterpolar": [
                      {
                        "marker": {
                          "colorbar": {
                            "outlinewidth": 0,
                            "ticks": ""
                          }
                        },
                        "type": "scatterpolar"
                      }
                    ],
                    "scatterpolargl": [
                      {
                        "marker": {
                          "colorbar": {
                            "outlinewidth": 0,
                            "ticks": ""
                          }
                        },
                        "type": "scatterpolargl"
                      }
                    ],
                    "scatterternary": [
                      {
                        "marker": {
                          "colorbar": {
                            "outlinewidth": 0,
                            "ticks": ""
                          }
                        },
                        "type": "scatterternary"
                      }
                    ],
                    "surface": [
                      {
                        "colorbar": {
                          "outlinewidth": 0,
                          "ticks": ""
                        },
                        "colorscale": [
                          [
                            0,
                            "#0d0887"
                          ],
                          [
                            0.1111111111111111,
                            "#46039f"
                          ],
                          [
                            0.2222222222222222,
                            "#7201a8"
                          ],
                          [
                            0.3333333333333333,
                            "#9c179e"
                          ],
                          [
                            0.4444444444444444,
                            "#bd3786"
                          ],
                          [
                            0.5555555555555556,
                            "#d8576b"
                          ],
                          [
                            0.6666666666666666,
                            "#ed7953"
                          ],
                          [
                            0.7777777777777778,
                            "#fb9f3a"
                          ],
                          [
                            0.8888888888888888,
                            "#fdca26"
                          ],
                          [
                            1,
                            "#f0f921"
                          ]
                        ],
                        "type": "surface"
                      }
                    ],
                    "table": [
                      {
                        "cells": {
                          "fill": {
                            "color": "#EBF0F8"
                          },
                          "line": {
                            "color": "white"
                          }
                        },
                        "header": {
                          "fill": {
                            "color": "#C8D4E3"
                          },
                          "line": {
                            "color": "white"
                          }
                        },
                        "type": "table"
                      }
                    ]
                  },
                  "layout": {
                    "annotationdefaults": {
                      "arrowcolor": "#2a3f5f",
                      "arrowhead": 0,
                      "arrowwidth": 1
                    },
                    "autotypenumbers": "strict",
                    "coloraxis": {
                      "colorbar": {
                        "outlinewidth": 0,
                        "ticks": ""
                      }
                    },
                    "colorscale": {
                      "diverging": [
                        [
                          0,
                          "#8e0152"
                        ],
                        [
                          0.1,
                          "#c51b7d"
                        ],
                        [
                          0.2,
                          "#de77ae"
                        ],
                        [
                          0.3,
                          "#f1b6da"
                        ],
                        [
                          0.4,
                          "#fde0ef"
                        ],
                        [
                          0.5,
                          "#f7f7f7"
                        ],
                        [
                          0.6,
                          "#e6f5d0"
                        ],
                        [
                          0.7,
                          "#b8e186"
                        ],
                        [
                          0.8,
                          "#7fbc41"
                        ],
                        [
                          0.9,
                          "#4d9221"
                        ],
                        [
                          1,
                          "#276419"
                        ]
                      ],
                      "sequential": [
                        [
                          0,
                          "#0d0887"
                        ],
                        [
                          0.1111111111111111,
                          "#46039f"
                        ],
                        [
                          0.2222222222222222,
                          "#7201a8"
                        ],
                        [
                          0.3333333333333333,
                          "#9c179e"
                        ],
                        [
                          0.4444444444444444,
                          "#bd3786"
                        ],
                        [
                          0.5555555555555556,
                          "#d8576b"
                        ],
                        [
                          0.6666666666666666,
                          "#ed7953"
                        ],
                        [
                          0.7777777777777778,
                          "#fb9f3a"
                        ],
                        [
                          0.8888888888888888,
                          "#fdca26"
                        ],
                        [
                          1,
                          "#f0f921"
                        ]
                      ],
                      "sequentialminus": [
                        [
                          0,
                          "#0d0887"
                        ],
                        [
                          0.1111111111111111,
                          "#46039f"
                        ],
                        [
                          0.2222222222222222,
                          "#7201a8"
                        ],
                        [
                          0.3333333333333333,
                          "#9c179e"
                        ],
                        [
                          0.4444444444444444,
                          "#bd3786"
                        ],
                        [
                          0.5555555555555556,
                          "#d8576b"
                        ],
                        [
                          0.6666666666666666,
                          "#ed7953"
                        ],
                        [
                          0.7777777777777778,
                          "#fb9f3a"
                        ],
                        [
                          0.8888888888888888,
                          "#fdca26"
                        ],
                        [
                          1,
                          "#f0f921"
                        ]
                      ]
                    },
                    "colorway": [
                      "#636efa",
                      "#EF553B",
                      "#00cc96",
                      "#ab63fa",
                      "#FFA15A",
                      "#19d3f3",
                      "#FF6692",
                      "#B6E880",
                      "#FF97FF",
                      "#FECB52"
                    ],
                    "font": {
                      "color": "#2a3f5f"
                    },
                    "geo": {
                      "bgcolor": "white",
                      "lakecolor": "white",
                      "landcolor": "#E5ECF6",
                      "showlakes": true,
                      "showland": true,
                      "subunitcolor": "white"
                    },
                    "hoverlabel": {
                      "align": "left"
                    },
                    "hovermode": "closest",
                    "mapbox": {
                      "style": "light"
                    },
                    "paper_bgcolor": "white",
                    "plot_bgcolor": "#E5ECF6",
                    "polar": {
                      "angularaxis": {
                        "gridcolor": "white",
                        "linecolor": "white",
                        "ticks": ""
                      },
                      "bgcolor": "#E5ECF6",
                      "radialaxis": {
                        "gridcolor": "white",
                        "linecolor": "white",
                        "ticks": ""
                      }
                    },
                    "scene": {
                      "xaxis": {
                        "backgroundcolor": "#E5ECF6",
                        "gridcolor": "white",
                        "gridwidth": 2,
                        "linecolor": "white",
                        "showbackground": true,
                        "ticks": "",
                        "zerolinecolor": "white"
                      },
                      "yaxis": {
                        "backgroundcolor": "#E5ECF6",
                        "gridcolor": "white",
                        "gridwidth": 2,
                        "linecolor": "white",
                        "showbackground": true,
                        "ticks": "",
                        "zerolinecolor": "white"
                      },
                      "zaxis": {
                        "backgroundcolor": "#E5ECF6",
                        "gridcolor": "white",
                        "gridwidth": 2,
                        "linecolor": "white",
                        "showbackground": true,
                        "ticks": "",
                        "zerolinecolor": "white"
                      }
                    },
                    "shapedefaults": {
                      "line": {
                        "color": "#2a3f5f"
                      }
                    },
                    "ternary": {
                      "aaxis": {
                        "gridcolor": "white",
                        "linecolor": "white",
                        "ticks": ""
                      },
                      "baxis": {
                        "gridcolor": "white",
                        "linecolor": "white",
                        "ticks": ""
                      },
                      "bgcolor": "#E5ECF6",
                      "caxis": {
                        "gridcolor": "white",
                        "linecolor": "white",
                        "ticks": ""
                      }
                    },
                    "title": {
                      "x": 0.05
                    },
                    "xaxis": {
                      "automargin": true,
                      "gridcolor": "white",
                      "linecolor": "white",
                      "ticks": "",
                      "title": {
                        "standoff": 15
                      },
                      "zerolinecolor": "white",
                      "zerolinewidth": 2
                    },
                    "yaxis": {
                      "automargin": true,
                      "gridcolor": "white",
                      "linecolor": "white",
                      "ticks": "",
                      "title": {
                        "standoff": 15
                      },
                      "zerolinecolor": "white",
                      "zerolinewidth": 2
                    }
                  }
                },
                "title": {
                  "text": "Dispositvo e taxa de rejeição"
                },
                "xaxis": {
                  "anchor": "y",
                  "domain": [
                    0,
                    1
                  ],
                  "title": {
                    "text": "Dispositivos"
                  }
                },
                "yaxis": {
                  "anchor": "x",
                  "domain": [
                    0,
                    1
                  ],
                  "title": {
                    "text": "sum of Taxa de Rejeição (%)"
                  }
                }
              }
            }
          },
          "metadata": {},
          "output_type": "display_data"
        }
      ],
      "source": [
        "# Dispositvo e taxa de rejeição\n",
        "px.histogram(df, x='Dispositivos', y='Taxa de Rejeição (%)', title='Dispositvo e taxa de rejeição')"
      ]
    },
    {
      "cell_type": "code",
      "execution_count": 48,
      "metadata": {},
      "outputs": [
        {
          "data": {
            "text/html": [
              "<div>\n",
              "<style scoped>\n",
              "    .dataframe tbody tr th:only-of-type {\n",
              "        vertical-align: middle;\n",
              "    }\n",
              "\n",
              "    .dataframe tbody tr th {\n",
              "        vertical-align: top;\n",
              "    }\n",
              "\n",
              "    .dataframe thead th {\n",
              "        text-align: right;\n",
              "    }\n",
              "</style>\n",
              "<table border=\"1\" class=\"dataframe\">\n",
              "  <thead>\n",
              "    <tr style=\"text-align: right;\">\n",
              "      <th></th>\n",
              "      <th>Visitantes Únicos</th>\n",
              "      <th>Páginas por Sessão</th>\n",
              "      <th>Sessões</th>\n",
              "      <th>Eventos</th>\n",
              "      <th>Tempo Médio de Sessão (minutos)</th>\n",
              "      <th>Taxa de Rejeição (%)</th>\n",
              "      <th>Taxa de Conversão (%)</th>\n",
              "    </tr>\n",
              "  </thead>\n",
              "  <tbody>\n",
              "    <tr>\n",
              "      <th>Visitantes Únicos</th>\n",
              "      <td>1.000000</td>\n",
              "      <td>0.980164</td>\n",
              "      <td>0.965535</td>\n",
              "      <td>-0.118113</td>\n",
              "      <td>0.960822</td>\n",
              "      <td>-0.960974</td>\n",
              "      <td>0.984202</td>\n",
              "    </tr>\n",
              "    <tr>\n",
              "      <th>Páginas por Sessão</th>\n",
              "      <td>0.980164</td>\n",
              "      <td>1.000000</td>\n",
              "      <td>0.980749</td>\n",
              "      <td>-0.140795</td>\n",
              "      <td>0.960547</td>\n",
              "      <td>-0.968120</td>\n",
              "      <td>0.988983</td>\n",
              "    </tr>\n",
              "    <tr>\n",
              "      <th>Sessões</th>\n",
              "      <td>0.965535</td>\n",
              "      <td>0.980749</td>\n",
              "      <td>1.000000</td>\n",
              "      <td>-0.145092</td>\n",
              "      <td>0.968905</td>\n",
              "      <td>-0.968901</td>\n",
              "      <td>0.983243</td>\n",
              "    </tr>\n",
              "    <tr>\n",
              "      <th>Eventos</th>\n",
              "      <td>-0.118113</td>\n",
              "      <td>-0.140795</td>\n",
              "      <td>-0.145092</td>\n",
              "      <td>1.000000</td>\n",
              "      <td>-0.081397</td>\n",
              "      <td>0.116950</td>\n",
              "      <td>-0.129913</td>\n",
              "    </tr>\n",
              "    <tr>\n",
              "      <th>Tempo Médio de Sessão (minutos)</th>\n",
              "      <td>0.960822</td>\n",
              "      <td>0.960547</td>\n",
              "      <td>0.968905</td>\n",
              "      <td>-0.081397</td>\n",
              "      <td>1.000000</td>\n",
              "      <td>-0.982036</td>\n",
              "      <td>0.976846</td>\n",
              "    </tr>\n",
              "    <tr>\n",
              "      <th>Taxa de Rejeição (%)</th>\n",
              "      <td>-0.960974</td>\n",
              "      <td>-0.968120</td>\n",
              "      <td>-0.968901</td>\n",
              "      <td>0.116950</td>\n",
              "      <td>-0.982036</td>\n",
              "      <td>1.000000</td>\n",
              "      <td>-0.974824</td>\n",
              "    </tr>\n",
              "    <tr>\n",
              "      <th>Taxa de Conversão (%)</th>\n",
              "      <td>0.984202</td>\n",
              "      <td>0.988983</td>\n",
              "      <td>0.983243</td>\n",
              "      <td>-0.129913</td>\n",
              "      <td>0.976846</td>\n",
              "      <td>-0.974824</td>\n",
              "      <td>1.000000</td>\n",
              "    </tr>\n",
              "  </tbody>\n",
              "</table>\n",
              "</div>"
            ],
            "text/plain": [
              "                                 Visitantes Únicos  Páginas por Sessão  \\\n",
              "Visitantes Únicos                         1.000000            0.980164   \n",
              "Páginas por Sessão                        0.980164            1.000000   \n",
              "Sessões                                   0.965535            0.980749   \n",
              "Eventos                                  -0.118113           -0.140795   \n",
              "Tempo Médio de Sessão (minutos)           0.960822            0.960547   \n",
              "Taxa de Rejeição (%)                     -0.960974           -0.968120   \n",
              "Taxa de Conversão (%)                     0.984202            0.988983   \n",
              "\n",
              "                                  Sessões   Eventos  \\\n",
              "Visitantes Únicos                0.965535 -0.118113   \n",
              "Páginas por Sessão               0.980749 -0.140795   \n",
              "Sessões                          1.000000 -0.145092   \n",
              "Eventos                         -0.145092  1.000000   \n",
              "Tempo Médio de Sessão (minutos)  0.968905 -0.081397   \n",
              "Taxa de Rejeição (%)            -0.968901  0.116950   \n",
              "Taxa de Conversão (%)            0.983243 -0.129913   \n",
              "\n",
              "                                 Tempo Médio de Sessão (minutos)  \\\n",
              "Visitantes Únicos                                       0.960822   \n",
              "Páginas por Sessão                                      0.960547   \n",
              "Sessões                                                 0.968905   \n",
              "Eventos                                                -0.081397   \n",
              "Tempo Médio de Sessão (minutos)                         1.000000   \n",
              "Taxa de Rejeição (%)                                   -0.982036   \n",
              "Taxa de Conversão (%)                                   0.976846   \n",
              "\n",
              "                                 Taxa de Rejeição (%)  Taxa de Conversão (%)  \n",
              "Visitantes Únicos                           -0.960974               0.984202  \n",
              "Páginas por Sessão                          -0.968120               0.988983  \n",
              "Sessões                                     -0.968901               0.983243  \n",
              "Eventos                                      0.116950              -0.129913  \n",
              "Tempo Médio de Sessão (minutos)             -0.982036               0.976846  \n",
              "Taxa de Rejeição (%)                         1.000000              -0.974824  \n",
              "Taxa de Conversão (%)                       -0.974824               1.000000  "
            ]
          },
          "execution_count": 48,
          "metadata": {},
          "output_type": "execute_result"
        }
      ],
      "source": [
        "# Variáveis para mapa de correlação\n",
        "correlacao = df[['Visitantes Únicos', 'Páginas por Sessão', 'Sessões', 'Eventos', 'Tempo Médio de Sessão (minutos)', 'Taxa de Rejeição (%)', 'Taxa de Conversão (%)']]\n",
        "correlacao.corr()"
      ]
    },
    {
      "cell_type": "code",
      "execution_count": 49,
      "metadata": {},
      "outputs": [
        {
          "data": {
            "application/vnd.plotly.v1+json": {
              "config": {
                "plotlyServerURL": "https://plot.ly"
              },
              "data": [
                {
                  "coloraxis": "coloraxis",
                  "hovertemplate": "x: %{x}<br>y: %{y}<br>color: %{z}<extra></extra>",
                  "name": "0",
                  "type": "heatmap",
                  "x": [
                    "Visitantes Únicos",
                    "Páginas por Sessão",
                    "Sessões",
                    "Eventos",
                    "Tempo Médio de Sessão (minutos)",
                    "Taxa de Rejeição (%)",
                    "Taxa de Conversão (%)"
                  ],
                  "xaxis": "x",
                  "y": [
                    "Visitantes Únicos",
                    "Páginas por Sessão",
                    "Sessões",
                    "Eventos",
                    "Tempo Médio de Sessão (minutos)",
                    "Taxa de Rejeição (%)",
                    "Taxa de Conversão (%)"
                  ],
                  "yaxis": "y",
                  "z": [
                    [
                      1,
                      0.9801638607131692,
                      0.965534998760094,
                      -0.11811330387637274,
                      0.9608221407676948,
                      -0.9609743473926337,
                      0.9842022652479223
                    ],
                    [
                      0.9801638607131692,
                      1,
                      0.9807490685490823,
                      -0.14079498339308555,
                      0.960546635487418,
                      -0.968120479386733,
                      0.9889831779440563
                    ],
                    [
                      0.965534998760094,
                      0.9807490685490823,
                      1,
                      -0.14509224669934742,
                      0.9689051344244831,
                      -0.9689009239649649,
                      0.983242944038443
                    ],
                    [
                      -0.11811330387637274,
                      -0.14079498339308555,
                      -0.14509224669934742,
                      1,
                      -0.08139676224784523,
                      0.11694988514056527,
                      -0.12991271253835618
                    ],
                    [
                      0.9608221407676948,
                      0.960546635487418,
                      0.9689051344244831,
                      -0.08139676224784523,
                      1,
                      -0.9820358882055582,
                      0.9768464906083568
                    ],
                    [
                      -0.9609743473926337,
                      -0.968120479386733,
                      -0.9689009239649649,
                      0.11694988514056527,
                      -0.9820358882055582,
                      1,
                      -0.9748238517535469
                    ],
                    [
                      0.9842022652479223,
                      0.9889831779440563,
                      0.983242944038443,
                      -0.12991271253835618,
                      0.9768464906083568,
                      -0.9748238517535469,
                      1
                    ]
                  ]
                }
              ],
              "layout": {
                "coloraxis": {
                  "colorscale": [
                    [
                      0,
                      "#0d0887"
                    ],
                    [
                      0.1111111111111111,
                      "#46039f"
                    ],
                    [
                      0.2222222222222222,
                      "#7201a8"
                    ],
                    [
                      0.3333333333333333,
                      "#9c179e"
                    ],
                    [
                      0.4444444444444444,
                      "#bd3786"
                    ],
                    [
                      0.5555555555555556,
                      "#d8576b"
                    ],
                    [
                      0.6666666666666666,
                      "#ed7953"
                    ],
                    [
                      0.7777777777777778,
                      "#fb9f3a"
                    ],
                    [
                      0.8888888888888888,
                      "#fdca26"
                    ],
                    [
                      1,
                      "#f0f921"
                    ]
                  ]
                },
                "template": {
                  "data": {
                    "bar": [
                      {
                        "error_x": {
                          "color": "#2a3f5f"
                        },
                        "error_y": {
                          "color": "#2a3f5f"
                        },
                        "marker": {
                          "line": {
                            "color": "#E5ECF6",
                            "width": 0.5
                          },
                          "pattern": {
                            "fillmode": "overlay",
                            "size": 10,
                            "solidity": 0.2
                          }
                        },
                        "type": "bar"
                      }
                    ],
                    "barpolar": [
                      {
                        "marker": {
                          "line": {
                            "color": "#E5ECF6",
                            "width": 0.5
                          },
                          "pattern": {
                            "fillmode": "overlay",
                            "size": 10,
                            "solidity": 0.2
                          }
                        },
                        "type": "barpolar"
                      }
                    ],
                    "carpet": [
                      {
                        "aaxis": {
                          "endlinecolor": "#2a3f5f",
                          "gridcolor": "white",
                          "linecolor": "white",
                          "minorgridcolor": "white",
                          "startlinecolor": "#2a3f5f"
                        },
                        "baxis": {
                          "endlinecolor": "#2a3f5f",
                          "gridcolor": "white",
                          "linecolor": "white",
                          "minorgridcolor": "white",
                          "startlinecolor": "#2a3f5f"
                        },
                        "type": "carpet"
                      }
                    ],
                    "choropleth": [
                      {
                        "colorbar": {
                          "outlinewidth": 0,
                          "ticks": ""
                        },
                        "type": "choropleth"
                      }
                    ],
                    "contour": [
                      {
                        "colorbar": {
                          "outlinewidth": 0,
                          "ticks": ""
                        },
                        "colorscale": [
                          [
                            0,
                            "#0d0887"
                          ],
                          [
                            0.1111111111111111,
                            "#46039f"
                          ],
                          [
                            0.2222222222222222,
                            "#7201a8"
                          ],
                          [
                            0.3333333333333333,
                            "#9c179e"
                          ],
                          [
                            0.4444444444444444,
                            "#bd3786"
                          ],
                          [
                            0.5555555555555556,
                            "#d8576b"
                          ],
                          [
                            0.6666666666666666,
                            "#ed7953"
                          ],
                          [
                            0.7777777777777778,
                            "#fb9f3a"
                          ],
                          [
                            0.8888888888888888,
                            "#fdca26"
                          ],
                          [
                            1,
                            "#f0f921"
                          ]
                        ],
                        "type": "contour"
                      }
                    ],
                    "contourcarpet": [
                      {
                        "colorbar": {
                          "outlinewidth": 0,
                          "ticks": ""
                        },
                        "type": "contourcarpet"
                      }
                    ],
                    "heatmap": [
                      {
                        "colorbar": {
                          "outlinewidth": 0,
                          "ticks": ""
                        },
                        "colorscale": [
                          [
                            0,
                            "#0d0887"
                          ],
                          [
                            0.1111111111111111,
                            "#46039f"
                          ],
                          [
                            0.2222222222222222,
                            "#7201a8"
                          ],
                          [
                            0.3333333333333333,
                            "#9c179e"
                          ],
                          [
                            0.4444444444444444,
                            "#bd3786"
                          ],
                          [
                            0.5555555555555556,
                            "#d8576b"
                          ],
                          [
                            0.6666666666666666,
                            "#ed7953"
                          ],
                          [
                            0.7777777777777778,
                            "#fb9f3a"
                          ],
                          [
                            0.8888888888888888,
                            "#fdca26"
                          ],
                          [
                            1,
                            "#f0f921"
                          ]
                        ],
                        "type": "heatmap"
                      }
                    ],
                    "heatmapgl": [
                      {
                        "colorbar": {
                          "outlinewidth": 0,
                          "ticks": ""
                        },
                        "colorscale": [
                          [
                            0,
                            "#0d0887"
                          ],
                          [
                            0.1111111111111111,
                            "#46039f"
                          ],
                          [
                            0.2222222222222222,
                            "#7201a8"
                          ],
                          [
                            0.3333333333333333,
                            "#9c179e"
                          ],
                          [
                            0.4444444444444444,
                            "#bd3786"
                          ],
                          [
                            0.5555555555555556,
                            "#d8576b"
                          ],
                          [
                            0.6666666666666666,
                            "#ed7953"
                          ],
                          [
                            0.7777777777777778,
                            "#fb9f3a"
                          ],
                          [
                            0.8888888888888888,
                            "#fdca26"
                          ],
                          [
                            1,
                            "#f0f921"
                          ]
                        ],
                        "type": "heatmapgl"
                      }
                    ],
                    "histogram": [
                      {
                        "marker": {
                          "pattern": {
                            "fillmode": "overlay",
                            "size": 10,
                            "solidity": 0.2
                          }
                        },
                        "type": "histogram"
                      }
                    ],
                    "histogram2d": [
                      {
                        "colorbar": {
                          "outlinewidth": 0,
                          "ticks": ""
                        },
                        "colorscale": [
                          [
                            0,
                            "#0d0887"
                          ],
                          [
                            0.1111111111111111,
                            "#46039f"
                          ],
                          [
                            0.2222222222222222,
                            "#7201a8"
                          ],
                          [
                            0.3333333333333333,
                            "#9c179e"
                          ],
                          [
                            0.4444444444444444,
                            "#bd3786"
                          ],
                          [
                            0.5555555555555556,
                            "#d8576b"
                          ],
                          [
                            0.6666666666666666,
                            "#ed7953"
                          ],
                          [
                            0.7777777777777778,
                            "#fb9f3a"
                          ],
                          [
                            0.8888888888888888,
                            "#fdca26"
                          ],
                          [
                            1,
                            "#f0f921"
                          ]
                        ],
                        "type": "histogram2d"
                      }
                    ],
                    "histogram2dcontour": [
                      {
                        "colorbar": {
                          "outlinewidth": 0,
                          "ticks": ""
                        },
                        "colorscale": [
                          [
                            0,
                            "#0d0887"
                          ],
                          [
                            0.1111111111111111,
                            "#46039f"
                          ],
                          [
                            0.2222222222222222,
                            "#7201a8"
                          ],
                          [
                            0.3333333333333333,
                            "#9c179e"
                          ],
                          [
                            0.4444444444444444,
                            "#bd3786"
                          ],
                          [
                            0.5555555555555556,
                            "#d8576b"
                          ],
                          [
                            0.6666666666666666,
                            "#ed7953"
                          ],
                          [
                            0.7777777777777778,
                            "#fb9f3a"
                          ],
                          [
                            0.8888888888888888,
                            "#fdca26"
                          ],
                          [
                            1,
                            "#f0f921"
                          ]
                        ],
                        "type": "histogram2dcontour"
                      }
                    ],
                    "mesh3d": [
                      {
                        "colorbar": {
                          "outlinewidth": 0,
                          "ticks": ""
                        },
                        "type": "mesh3d"
                      }
                    ],
                    "parcoords": [
                      {
                        "line": {
                          "colorbar": {
                            "outlinewidth": 0,
                            "ticks": ""
                          }
                        },
                        "type": "parcoords"
                      }
                    ],
                    "pie": [
                      {
                        "automargin": true,
                        "type": "pie"
                      }
                    ],
                    "scatter": [
                      {
                        "fillpattern": {
                          "fillmode": "overlay",
                          "size": 10,
                          "solidity": 0.2
                        },
                        "type": "scatter"
                      }
                    ],
                    "scatter3d": [
                      {
                        "line": {
                          "colorbar": {
                            "outlinewidth": 0,
                            "ticks": ""
                          }
                        },
                        "marker": {
                          "colorbar": {
                            "outlinewidth": 0,
                            "ticks": ""
                          }
                        },
                        "type": "scatter3d"
                      }
                    ],
                    "scattercarpet": [
                      {
                        "marker": {
                          "colorbar": {
                            "outlinewidth": 0,
                            "ticks": ""
                          }
                        },
                        "type": "scattercarpet"
                      }
                    ],
                    "scattergeo": [
                      {
                        "marker": {
                          "colorbar": {
                            "outlinewidth": 0,
                            "ticks": ""
                          }
                        },
                        "type": "scattergeo"
                      }
                    ],
                    "scattergl": [
                      {
                        "marker": {
                          "colorbar": {
                            "outlinewidth": 0,
                            "ticks": ""
                          }
                        },
                        "type": "scattergl"
                      }
                    ],
                    "scattermapbox": [
                      {
                        "marker": {
                          "colorbar": {
                            "outlinewidth": 0,
                            "ticks": ""
                          }
                        },
                        "type": "scattermapbox"
                      }
                    ],
                    "scatterpolar": [
                      {
                        "marker": {
                          "colorbar": {
                            "outlinewidth": 0,
                            "ticks": ""
                          }
                        },
                        "type": "scatterpolar"
                      }
                    ],
                    "scatterpolargl": [
                      {
                        "marker": {
                          "colorbar": {
                            "outlinewidth": 0,
                            "ticks": ""
                          }
                        },
                        "type": "scatterpolargl"
                      }
                    ],
                    "scatterternary": [
                      {
                        "marker": {
                          "colorbar": {
                            "outlinewidth": 0,
                            "ticks": ""
                          }
                        },
                        "type": "scatterternary"
                      }
                    ],
                    "surface": [
                      {
                        "colorbar": {
                          "outlinewidth": 0,
                          "ticks": ""
                        },
                        "colorscale": [
                          [
                            0,
                            "#0d0887"
                          ],
                          [
                            0.1111111111111111,
                            "#46039f"
                          ],
                          [
                            0.2222222222222222,
                            "#7201a8"
                          ],
                          [
                            0.3333333333333333,
                            "#9c179e"
                          ],
                          [
                            0.4444444444444444,
                            "#bd3786"
                          ],
                          [
                            0.5555555555555556,
                            "#d8576b"
                          ],
                          [
                            0.6666666666666666,
                            "#ed7953"
                          ],
                          [
                            0.7777777777777778,
                            "#fb9f3a"
                          ],
                          [
                            0.8888888888888888,
                            "#fdca26"
                          ],
                          [
                            1,
                            "#f0f921"
                          ]
                        ],
                        "type": "surface"
                      }
                    ],
                    "table": [
                      {
                        "cells": {
                          "fill": {
                            "color": "#EBF0F8"
                          },
                          "line": {
                            "color": "white"
                          }
                        },
                        "header": {
                          "fill": {
                            "color": "#C8D4E3"
                          },
                          "line": {
                            "color": "white"
                          }
                        },
                        "type": "table"
                      }
                    ]
                  },
                  "layout": {
                    "annotationdefaults": {
                      "arrowcolor": "#2a3f5f",
                      "arrowhead": 0,
                      "arrowwidth": 1
                    },
                    "autotypenumbers": "strict",
                    "coloraxis": {
                      "colorbar": {
                        "outlinewidth": 0,
                        "ticks": ""
                      }
                    },
                    "colorscale": {
                      "diverging": [
                        [
                          0,
                          "#8e0152"
                        ],
                        [
                          0.1,
                          "#c51b7d"
                        ],
                        [
                          0.2,
                          "#de77ae"
                        ],
                        [
                          0.3,
                          "#f1b6da"
                        ],
                        [
                          0.4,
                          "#fde0ef"
                        ],
                        [
                          0.5,
                          "#f7f7f7"
                        ],
                        [
                          0.6,
                          "#e6f5d0"
                        ],
                        [
                          0.7,
                          "#b8e186"
                        ],
                        [
                          0.8,
                          "#7fbc41"
                        ],
                        [
                          0.9,
                          "#4d9221"
                        ],
                        [
                          1,
                          "#276419"
                        ]
                      ],
                      "sequential": [
                        [
                          0,
                          "#0d0887"
                        ],
                        [
                          0.1111111111111111,
                          "#46039f"
                        ],
                        [
                          0.2222222222222222,
                          "#7201a8"
                        ],
                        [
                          0.3333333333333333,
                          "#9c179e"
                        ],
                        [
                          0.4444444444444444,
                          "#bd3786"
                        ],
                        [
                          0.5555555555555556,
                          "#d8576b"
                        ],
                        [
                          0.6666666666666666,
                          "#ed7953"
                        ],
                        [
                          0.7777777777777778,
                          "#fb9f3a"
                        ],
                        [
                          0.8888888888888888,
                          "#fdca26"
                        ],
                        [
                          1,
                          "#f0f921"
                        ]
                      ],
                      "sequentialminus": [
                        [
                          0,
                          "#0d0887"
                        ],
                        [
                          0.1111111111111111,
                          "#46039f"
                        ],
                        [
                          0.2222222222222222,
                          "#7201a8"
                        ],
                        [
                          0.3333333333333333,
                          "#9c179e"
                        ],
                        [
                          0.4444444444444444,
                          "#bd3786"
                        ],
                        [
                          0.5555555555555556,
                          "#d8576b"
                        ],
                        [
                          0.6666666666666666,
                          "#ed7953"
                        ],
                        [
                          0.7777777777777778,
                          "#fb9f3a"
                        ],
                        [
                          0.8888888888888888,
                          "#fdca26"
                        ],
                        [
                          1,
                          "#f0f921"
                        ]
                      ]
                    },
                    "colorway": [
                      "#636efa",
                      "#EF553B",
                      "#00cc96",
                      "#ab63fa",
                      "#FFA15A",
                      "#19d3f3",
                      "#FF6692",
                      "#B6E880",
                      "#FF97FF",
                      "#FECB52"
                    ],
                    "font": {
                      "color": "#2a3f5f"
                    },
                    "geo": {
                      "bgcolor": "white",
                      "lakecolor": "white",
                      "landcolor": "#E5ECF6",
                      "showlakes": true,
                      "showland": true,
                      "subunitcolor": "white"
                    },
                    "hoverlabel": {
                      "align": "left"
                    },
                    "hovermode": "closest",
                    "mapbox": {
                      "style": "light"
                    },
                    "paper_bgcolor": "white",
                    "plot_bgcolor": "#E5ECF6",
                    "polar": {
                      "angularaxis": {
                        "gridcolor": "white",
                        "linecolor": "white",
                        "ticks": ""
                      },
                      "bgcolor": "#E5ECF6",
                      "radialaxis": {
                        "gridcolor": "white",
                        "linecolor": "white",
                        "ticks": ""
                      }
                    },
                    "scene": {
                      "xaxis": {
                        "backgroundcolor": "#E5ECF6",
                        "gridcolor": "white",
                        "gridwidth": 2,
                        "linecolor": "white",
                        "showbackground": true,
                        "ticks": "",
                        "zerolinecolor": "white"
                      },
                      "yaxis": {
                        "backgroundcolor": "#E5ECF6",
                        "gridcolor": "white",
                        "gridwidth": 2,
                        "linecolor": "white",
                        "showbackground": true,
                        "ticks": "",
                        "zerolinecolor": "white"
                      },
                      "zaxis": {
                        "backgroundcolor": "#E5ECF6",
                        "gridcolor": "white",
                        "gridwidth": 2,
                        "linecolor": "white",
                        "showbackground": true,
                        "ticks": "",
                        "zerolinecolor": "white"
                      }
                    },
                    "shapedefaults": {
                      "line": {
                        "color": "#2a3f5f"
                      }
                    },
                    "ternary": {
                      "aaxis": {
                        "gridcolor": "white",
                        "linecolor": "white",
                        "ticks": ""
                      },
                      "baxis": {
                        "gridcolor": "white",
                        "linecolor": "white",
                        "ticks": ""
                      },
                      "bgcolor": "#E5ECF6",
                      "caxis": {
                        "gridcolor": "white",
                        "linecolor": "white",
                        "ticks": ""
                      }
                    },
                    "title": {
                      "x": 0.05
                    },
                    "xaxis": {
                      "automargin": true,
                      "gridcolor": "white",
                      "linecolor": "white",
                      "ticks": "",
                      "title": {
                        "standoff": 15
                      },
                      "zerolinecolor": "white",
                      "zerolinewidth": 2
                    },
                    "yaxis": {
                      "automargin": true,
                      "gridcolor": "white",
                      "linecolor": "white",
                      "ticks": "",
                      "title": {
                        "standoff": 15
                      },
                      "zerolinecolor": "white",
                      "zerolinewidth": 2
                    }
                  }
                },
                "title": {
                  "text": "Mapa de correlação"
                },
                "xaxis": {
                  "anchor": "y",
                  "constrain": "domain",
                  "domain": [
                    0,
                    1
                  ],
                  "scaleanchor": "y"
                },
                "yaxis": {
                  "anchor": "x",
                  "autorange": "reversed",
                  "constrain": "domain",
                  "domain": [
                    0,
                    1
                  ]
                }
              }
            }
          },
          "metadata": {},
          "output_type": "display_data"
        }
      ],
      "source": [
        "px.imshow(correlacao.corr(), title='Mapa de correlação')"
      ]
    },
    {
      "cell_type": "markdown",
      "metadata": {
        "id": "RrBHNnB_2Bmm"
      },
      "source": [
        "### Questão 2"
      ]
    },
    {
      "cell_type": "markdown",
      "metadata": {
        "id": "sVHHacPC1yHy"
      },
      "source": [
        "**Simulação de Monte Carlo**: Implemente uma simulação de Monte Carlo para avaliar os possíveis efeitos de um novo redesign na plataforma. Analise como diferentes variáveis podem impactar os resultados e discuta os cenários que esta simulação pode prever, ajudando a empresa a tomar decisões mais informadas sobre o redesign."
      ]
    },
    {
      "cell_type": "code",
      "execution_count": 50,
      "metadata": {},
      "outputs": [],
      "source": [
        "# Passando data para index\n",
        "df.set_index('Data', inplace=True)"
      ]
    },
    {
      "cell_type": "code",
      "execution_count": 51,
      "metadata": {},
      "outputs": [
        {
          "data": {
            "text/plain": [
              "Index(['Visitantes Únicos', 'Sessões', 'Taxa de Rejeição (%)',\n",
              "       'Páginas por Sessão', 'Principais Origens do Tráfego', 'Dispositivos',\n",
              "       'Eventos', 'Taxa de Conversão (%)', 'Tempo Médio de Sessão (minutos)'],\n",
              "      dtype='object')"
            ]
          },
          "execution_count": 51,
          "metadata": {},
          "output_type": "execute_result"
        }
      ],
      "source": [
        "df.columns"
      ]
    },
    {
      "cell_type": "code",
      "execution_count": 96,
      "metadata": {},
      "outputs": [],
      "source": [
        "X = df[['Visitantes Únicos', 'Páginas por Sessão', 'Sessões', 'Eventos', 'Tempo Médio de Sessão (minutos)']]\n",
        "y = df['Taxa de Conversão (%)']"
      ]
    },
    {
      "cell_type": "code",
      "execution_count": 99,
      "metadata": {},
      "outputs": [],
      "source": [
        "from sklearn.linear_model import LinearRegression\n",
        "from sklearn.model_selection import train_test_split\n",
        "import numpy as np"
      ]
    },
    {
      "cell_type": "code",
      "execution_count": 78,
      "metadata": {
        "id": "pdb_J-0O2i1a"
      },
      "outputs": [
        {
          "data": {
            "text/plain": [
              "4.522513784649724"
            ]
          },
          "execution_count": 78,
          "metadata": {},
          "output_type": "execute_result"
        }
      ],
      "source": [
        "# Escreva sua resposta nesta seção (Você pode criar quantas células de texto e de código forem necessárias)\n",
        "n_simulacoes = 1000\n",
        "conversoes_previstas = []\n",
        "for _ in range(n_simulacoes):\n",
        "    # Modelo de regressão linear\n",
        "    X_train, X_test, y_train, y_test = train_test_split(X, y, test_size=0.2)\n",
        "    model = LinearRegression()\n",
        "    model.fit(X_train, y_train)\n",
        "    # Previsão\n",
        "    y_pred = model.predict(X_test)\n",
        "    conversoes_previstas.append(y_pred)\n",
        "conversoes_previstas = np.array(conversoes_previstas)\n",
        "conversoes_previstas.mean()\n",
        "\n",
        "        \n",
        "    "
      ]
    },
    {
      "cell_type": "code",
      "execution_count": 79,
      "metadata": {},
      "outputs": [
        {
          "name": "stdout",
          "output_type": "stream",
          "text": [
            "A média de conversões previstas é de 4.522513784649724\n",
            "A média de conversões reais é de 4.499631657295852\n"
          ]
        }
      ],
      "source": [
        "print(f'A média de conversões previstas é de {conversoes_previstas.mean()}')\n",
        "print(f'A média de conversões reais é de {y.mean()}')"
      ]
    },
    {
      "cell_type": "code",
      "execution_count": 80,
      "metadata": {},
      "outputs": [
        {
          "name": "stdout",
          "output_type": "stream",
          "text": [
            "O desvio padrão das conversões previstas é de 1.4653416650806654\n",
            "O desvio padrão das conversões reais é de 1.4867182834038823\n"
          ]
        }
      ],
      "source": [
        "print(f'O desvio padrão das conversões previstas é de {conversoes_previstas.std()}')\n",
        "print(f'O desvio padrão das conversões reais é de {y.std()}')"
      ]
    },
    {
      "cell_type": "code",
      "execution_count": 81,
      "metadata": {},
      "outputs": [
        {
          "data": {
            "application/vnd.plotly.v1+json": {
              "config": {
                "plotlyServerURL": "https://plot.ly"
              },
              "data": [
                {
                  "alignmentgroup": "True",
                  "bingroup": "x",
                  "hovertemplate": "x=%{x}<br>count=%{y}<extra></extra>",
                  "legendgroup": "",
                  "marker": {
                    "color": "#636efa",
                    "pattern": {
                      "shape": ""
                    }
                  },
                  "name": "",
                  "offsetgroup": "",
                  "orientation": "v",
                  "showlegend": false,
                  "type": "histogram",
                  "x": [
                    4.918412204052471,
                    4.468280882356479,
                    4.760279723679315,
                    4.157943231127747,
                    4.382480102878255,
                    4.477776432300929,
                    4.856221630874157,
                    4.284693914917665,
                    4.175779400178622,
                    4.331838126338347,
                    4.608450063552249,
                    4.69960557028146,
                    4.603658098037584,
                    4.481105676053552,
                    4.042162509666457,
                    4.679751647605403,
                    4.262372595003423,
                    4.1664167119332856,
                    4.625310629573206,
                    4.301919669443752,
                    3.984629004930298,
                    4.124415246143681,
                    4.460544964093811,
                    3.9934161644874613,
                    4.130411577527109,
                    5.017824183272569,
                    4.975953543523271,
                    4.150299817711654,
                    4.364490314526467,
                    4.587351501111816,
                    5.41909907593029,
                    4.19669387727565,
                    4.736439902063558,
                    5.009916407576193,
                    4.9424848330470885,
                    4.878819812558225,
                    4.2908016273709775,
                    4.640442261204346,
                    4.473525409756695,
                    5.10616179765031,
                    4.468695690051968,
                    4.721120019466265,
                    3.8513845118869745,
                    4.656347768345599,
                    4.761806603622725,
                    4.046910842334725,
                    4.457380971358538,
                    4.5740532456196545,
                    4.4907182297684844,
                    4.722223492571385,
                    4.806427357635972,
                    4.332638825222753,
                    4.608243143944043,
                    4.953254590791334,
                    4.55540590138469,
                    4.700010801953637,
                    4.643425949794994,
                    4.714442166943857,
                    4.23317676302756,
                    5.035586786646755,
                    4.791311910463638,
                    4.982137445901846,
                    4.413478310314876,
                    4.677086546191134,
                    4.881198404740939,
                    4.190111800627357,
                    4.438135124209732,
                    4.803664243568447,
                    4.557350783578959,
                    4.942899886752664,
                    4.675121641782428,
                    4.91689756171404,
                    4.519971280967293,
                    4.32491614748759,
                    4.409916266396735,
                    5.051632763197801,
                    4.233954738082426,
                    4.737271681134577,
                    5.105799874209327,
                    4.671274501307875,
                    4.435454149689238,
                    4.7486786669040555,
                    5.136094248729352,
                    4.909548165721648,
                    4.081807414192439,
                    4.834031874165107,
                    5.439103190562117,
                    4.233292155997855,
                    4.459533438143714,
                    3.998478435272789,
                    4.844334668469418,
                    4.866268912926755,
                    5.0091260014306345,
                    4.018695111387671,
                    4.792975701890735,
                    4.253473590969919,
                    4.148593745258942,
                    4.996259428687528,
                    4.487921170519734,
                    4.2664604877493995,
                    5.1074216840789,
                    4.298943490288921,
                    4.63732267685356,
                    3.777747293494185,
                    4.747068089712598,
                    4.314380940634073,
                    3.8395714586303256,
                    4.417916438409187,
                    4.9449553711216,
                    4.650257794425316,
                    4.38799744779457,
                    4.9225915808874,
                    3.633617104710679,
                    4.002775284257866,
                    4.45620795970629,
                    4.120057337225336,
                    4.963062399436683,
                    4.795844982790405,
                    4.697525016725916,
                    4.49396432205753,
                    5.069549891943309,
                    4.429899497216606,
                    4.317111292227147,
                    4.562146851240185,
                    4.479157760683695,
                    4.319348633941374,
                    4.101274297387867,
                    4.014080506095081,
                    4.987978813914617,
                    4.576995021405406,
                    4.27672999814155,
                    4.657607651924837,
                    3.9971236545948035,
                    4.7366880902993795,
                    5.027362567497879,
                    4.298872922073993,
                    4.321955219252087,
                    4.6541442259110175,
                    5.0482927975868845,
                    4.4938156982192545,
                    5.551318859894303,
                    4.430609412938894,
                    5.003569890494887,
                    4.571652256944499,
                    5.260774773958857,
                    5.082431146742,
                    5.283252573705932,
                    4.404810455776116,
                    4.6386424719430694,
                    4.238059243213156,
                    4.756907270005002,
                    5.032185078274492,
                    4.216043741501783,
                    4.434648506396865,
                    4.580726053835981,
                    4.084091630894718,
                    4.33194688443871,
                    4.683645716081091,
                    4.811244110200245,
                    4.402249985208872,
                    4.266566080949629,
                    4.673099638009414,
                    4.958941404539511,
                    4.065907130827637,
                    5.1883921058845175,
                    4.9931810502251235,
                    4.83850662393796,
                    4.099407406679217,
                    4.571492285945519,
                    4.5066938490480455,
                    4.42307280836663,
                    3.9688020963543256,
                    4.8576333922461465,
                    4.443165018523029,
                    4.44046857092516,
                    4.38064446878089,
                    5.380777780066379,
                    4.801003825768866,
                    4.131712445487138,
                    4.0966151034410885,
                    4.954203140832255,
                    4.622073587307873,
                    4.290827873925996,
                    4.501321646792637,
                    4.119293559186692,
                    4.671407378298231,
                    5.293486419008312,
                    4.432667250613377,
                    4.807108113731468,
                    4.4408516850145325,
                    4.374906275470868,
                    4.3925841179416905,
                    4.510412402599374,
                    4.274429686389598,
                    4.467683112985701,
                    4.757731798366977,
                    4.267078562717375,
                    4.229567673348539,
                    4.894645729179657,
                    4.924529573869178,
                    3.955533877717857,
                    3.7208679818899744,
                    4.041754277749351,
                    4.7521150592089025,
                    4.492874719157071,
                    4.421100263004951,
                    4.134362517647981,
                    4.507224517508759,
                    3.9984904421391847,
                    4.74937291426718,
                    5.091590996393729,
                    4.352308166464311,
                    4.8513469186843245,
                    5.045190669439717,
                    4.25619355222321,
                    4.094812032725016,
                    3.9882020923210546,
                    4.373337674095243,
                    4.278300718467713,
                    4.303640107452158,
                    4.6686207514288744,
                    5.1993386325439515,
                    5.021507253479194,
                    4.2791255246296656,
                    4.707040172320108,
                    4.392137017187735,
                    5.280064155011822,
                    4.269859879384064,
                    4.685387091678582,
                    4.724717947851215,
                    4.871352450272706,
                    4.436667574349035,
                    4.191629987949747,
                    4.510961758411356,
                    4.522220068822677,
                    4.940402305238138,
                    4.742151829048152,
                    4.11169039858524,
                    4.4786857079311515,
                    4.074116276432334,
                    4.906541371451638,
                    4.799662751725672,
                    4.932301945587497,
                    5.066185027823053,
                    4.830652106177802,
                    5.350136497595568,
                    4.895356189460344,
                    4.639475787736697,
                    4.047238487394368,
                    3.813052622012043,
                    3.783207299926486,
                    4.622631481806484,
                    4.238421677208596,
                    4.684975607133716,
                    4.539212060754784,
                    4.55752170308224,
                    4.62160776912521,
                    4.670910261885903,
                    4.384117143826912,
                    4.7360452836514,
                    5.187125959848797,
                    4.619171961167162,
                    4.977218123823808,
                    4.545321392833525,
                    5.066940551375132,
                    4.07883160168958,
                    4.468593488606721,
                    4.601844326729537,
                    3.7492030638380345,
                    4.481258619644151,
                    4.399427763669183,
                    4.393752394124866,
                    4.870531152380046,
                    4.33545120965692,
                    4.537862089027195,
                    5.304731180386634,
                    3.726780328215627,
                    4.216805185860889,
                    3.929944056060171,
                    4.658681222080444,
                    4.15555393815288,
                    5.0577249053201685,
                    4.377442958291443,
                    4.4661738980970975,
                    5.001546003491506,
                    4.3849818750657965,
                    4.876598896770031,
                    4.2196495574774975,
                    4.430458313613343,
                    5.061462536805789,
                    4.234574798498672,
                    4.546654369424109,
                    4.55367072305997,
                    4.358921241429418,
                    4.7177334780908735,
                    4.724943135633782,
                    4.550690051374521,
                    4.753052279968167,
                    4.676918869244202,
                    3.9958342131313924,
                    4.6528936561099865,
                    4.645570986341356,
                    4.052408936618285,
                    3.71086244193879,
                    3.871051190433296,
                    3.9569640719328945,
                    4.467300351015113,
                    5.074045817385785,
                    4.880683688405845,
                    4.332575348990368,
                    5.218714733869311,
                    4.259826097149819,
                    5.108278514685869,
                    5.159675566699055,
                    4.192780529019946,
                    4.076279475624242,
                    4.508343616354258,
                    4.250025451231736,
                    4.567487777475823,
                    4.940472444406712,
                    4.357546212115728,
                    4.819028293347978,
                    4.614029597204291,
                    4.426394896613647,
                    4.83242450086626,
                    4.194057397253498,
                    4.029377711353598,
                    4.527928771575465,
                    4.298820174447065,
                    3.9275216583236072,
                    4.375067923055165,
                    4.613663560928391,
                    4.0374386164531515,
                    4.699084837835494,
                    4.490879956597471,
                    4.726113911812632,
                    5.305114930701524,
                    4.6015846497491415,
                    4.475185779167494,
                    4.977709025053129,
                    5.271530553259012,
                    4.773961604071721,
                    4.924355629406061,
                    4.949295020192531,
                    4.905015619660445,
                    5.022972213418863,
                    3.61780302541297,
                    4.562212158062977,
                    4.197919628148607,
                    4.485366987713926,
                    3.7134660302311313,
                    3.473400002413921,
                    4.912545532604827,
                    3.7184718248459316,
                    4.195522849137899,
                    4.504553086265257,
                    4.702632781393031,
                    4.661571261573472,
                    4.496373452920673,
                    4.397300301805786,
                    4.4591933230032135,
                    4.586104626230007,
                    4.566501417794785,
                    3.809787225540159,
                    4.788531510577203,
                    4.639740747709068,
                    4.5719027470497515,
                    4.311510158240958,
                    5.054638968441804,
                    4.306044299327742,
                    4.246554135634731,
                    4.146400596779647,
                    4.543147618941453,
                    4.643457466674801,
                    4.404724942741418,
                    4.745157966069162,
                    5.596580206785934,
                    4.535325332768138,
                    4.049172812464888,
                    4.141529061922051,
                    4.746025186837199,
                    4.564408278718608,
                    5.436734741146128,
                    5.502326533166915,
                    4.87104866044245,
                    4.952171719589372,
                    5.0555628548399065,
                    4.448302314895179,
                    4.223610292909174,
                    5.050986000146698,
                    4.073449420141036,
                    4.844226677797987,
                    4.391301086759311,
                    4.867279422582034,
                    4.5134430369302985,
                    4.0653105215541006,
                    4.48272864985819,
                    4.468890442585702,
                    5.129191541699831,
                    4.609311224880889,
                    4.8357413806836265,
                    4.5931333759125215,
                    4.526995558009447,
                    4.773418464209038,
                    5.126063628313116,
                    4.7204715289514585,
                    4.322685709364078,
                    4.536515539278716,
                    4.674795034721221,
                    4.2516636518061475,
                    5.121318849814057,
                    5.285890547528667,
                    4.196436538657001,
                    4.364748586618561,
                    4.723883476898337,
                    4.546513018040712,
                    4.018284526863508,
                    3.9844792884072358,
                    4.344320971191835,
                    4.378845648491035,
                    4.3738161830999625,
                    4.820948003355393,
                    4.375398843822936,
                    4.531621278517735,
                    4.409156938779368,
                    4.479696940046843,
                    4.828878056421584,
                    4.21721812682005,
                    4.071936186644778,
                    4.311975228602683,
                    4.346509350186589,
                    4.211152047321078,
                    5.447543581024781,
                    4.43871588541417,
                    4.598100154749232,
                    4.5589696164163716,
                    4.168645116176321,
                    4.228691223912435,
                    3.7998309328024007,
                    4.305119916656971,
                    4.434652582903827,
                    4.363893180912345,
                    4.2810588520231985,
                    4.567388843798169,
                    5.299878390529569,
                    4.053689822893305,
                    4.767777620435098,
                    4.492845048033487,
                    5.060468378297879,
                    4.173757782072696,
                    4.4548896384297985,
                    4.358936939587962,
                    4.820553913981125,
                    4.067768444669254,
                    4.838926034443417,
                    4.17556984012256,
                    4.235232807702557,
                    5.268641414320712,
                    5.040259911980178,
                    4.112676355612534,
                    4.085216350114375,
                    3.8787604690586264,
                    4.414525749367018,
                    4.381976295239774,
                    5.477387561161635,
                    4.203616851235831,
                    4.194821425816517,
                    4.165424876661377,
                    4.4782446456423886,
                    4.229832781352085,
                    4.424062661349674,
                    4.381466205503732,
                    4.814799598894732,
                    4.625525842681979,
                    4.401150961365362,
                    4.913981759844108,
                    3.807494465477674,
                    3.717065211406951,
                    5.173180755890621,
                    4.342090384410235,
                    4.344110864810973,
                    5.033596031523307,
                    4.254791820930818,
                    4.189733124197585,
                    3.4300795631554717,
                    4.580655636666096,
                    4.276742112644082,
                    4.277391418556267,
                    5.085078514241073,
                    4.359776378406288,
                    4.856896098834938,
                    4.607820262719246,
                    4.453832952548674,
                    4.477730970465056,
                    4.7896182448030995,
                    4.414415224991731,
                    4.37468255150581,
                    3.9459671600727853,
                    4.251173978535156,
                    5.175703153430027,
                    3.8459930086643728,
                    4.482564075018938,
                    4.634718532425005,
                    4.759421063611951,
                    4.856593479785643,
                    5.17422026396882,
                    4.431617504117749,
                    4.989050150375896,
                    4.375429731660376,
                    4.069265138718282,
                    5.351805664993137,
                    5.490812551106828,
                    4.550185418911373,
                    4.527357352692644,
                    4.174951818774708,
                    4.406846359411795,
                    4.40529005763175,
                    3.924495321460833,
                    4.350911178998385,
                    4.16797437760738,
                    4.628126498231672,
                    5.367266280055923,
                    4.670601336998229,
                    4.8987214625789814,
                    5.072942174891229,
                    4.5564736556125816,
                    3.9168443984894115,
                    4.739965381995719,
                    5.090268954427324,
                    4.070656581399361,
                    4.3894388614204685,
                    4.960824027083571,
                    4.093317371839998,
                    4.619940490309495,
                    4.374583581981543,
                    4.96703863559964,
                    5.12215868809328,
                    4.269596776057733,
                    4.793277571523017,
                    4.628015843763059,
                    4.550056391823936,
                    4.4092352640875365,
                    3.3608352399653523,
                    4.976036381153711,
                    4.330727989583609,
                    4.649967184301802,
                    4.764538429977297,
                    4.806043278259714,
                    4.603247151760066,
                    4.7643354983465835,
                    4.6183730702216,
                    4.683115112421377,
                    4.33626080504781,
                    3.850128777307461,
                    5.0890800269203895,
                    4.736236032787935,
                    4.450623984273263,
                    4.467734077909024,
                    4.336268527903891,
                    4.218782480213641,
                    4.3038333905239865,
                    4.651167546669391,
                    4.113522669532339,
                    4.929856499339731,
                    4.957549894194813,
                    4.833947363131565,
                    4.498094643351734,
                    4.666821489723727,
                    5.027007557430205,
                    4.429231472341544,
                    3.9012994845890923,
                    4.145648793962865,
                    4.406007340714901,
                    4.4329220435919945,
                    4.59704781183044,
                    4.515366945726103,
                    4.360937228138746,
                    4.548377050616157,
                    4.40337887370293,
                    4.42938700310359,
                    4.8732597006201495,
                    4.564582601719788,
                    4.543976267307398,
                    4.601250307449127,
                    4.622958940151192,
                    4.812538596334869,
                    3.433022079517629,
                    4.286134798608515,
                    4.630513713934927,
                    4.737595294471388,
                    4.310355583574991,
                    4.503348711023592,
                    4.2011048621216,
                    4.108858566331641,
                    5.287427538119746,
                    4.864080705369933,
                    5.674455313459842,
                    4.350356953210235,
                    4.283763366877525,
                    4.786930272268894,
                    4.40508718651838,
                    4.769677111255554,
                    4.620213250524398,
                    4.394231619484817,
                    4.448130480227265,
                    5.085662365350899,
                    4.6298710207637965,
                    4.318887049420823,
                    4.014112725018539,
                    4.300148439761495,
                    4.536490206373328,
                    5.025617548199835,
                    4.986882844250069,
                    4.869980334430076,
                    4.771409417999876,
                    4.35352310095037,
                    4.448066875040495,
                    5.00698263573245,
                    5.011912370735225,
                    4.654436172850608,
                    4.356720648098915,
                    4.580210179313439,
                    4.535522951221442,
                    4.502244073823575,
                    4.289731459693798,
                    4.7202079126318495,
                    5.24794062171081,
                    4.3454630305506186,
                    4.293434279486054,
                    4.413354921978753,
                    4.40547254717366,
                    4.345074074406576,
                    4.248580576273052,
                    4.920665557141727,
                    4.751143141244274,
                    4.205886120079225,
                    4.38904139063425,
                    3.6958091034039473,
                    4.1357753438106535,
                    5.290867339266901,
                    4.66714030392179,
                    4.080112443808076,
                    4.909089033423961,
                    3.708029972978592,
                    3.8534431098100694,
                    4.357789298693306,
                    4.699859616533047,
                    4.978163528526239,
                    4.139188259714234,
                    4.809478367807317,
                    3.838972108371961,
                    4.372668815978291,
                    4.256091492717533,
                    4.699889039905924,
                    5.205186311822216,
                    3.8953839493716185,
                    4.63824198596193,
                    5.179595800154441,
                    4.463247722209731,
                    4.3393430334020335,
                    4.394327171047384,
                    4.766028250719905,
                    4.7987232289609105,
                    4.762508760441,
                    4.613510438037622,
                    4.609157667207506,
                    4.082030942150768,
                    5.166924758011009,
                    4.7644127604322675,
                    4.345515181895332,
                    4.422549233265037,
                    4.136619728382892,
                    4.6890794682159775,
                    3.9791930114395395,
                    4.31659209971945,
                    5.068767478221438,
                    4.019968634827525,
                    4.398395059625255,
                    4.6801486835035115,
                    4.597013130398171,
                    4.7272010873145005,
                    5.233727974293412,
                    3.936440543841437,
                    4.571510926582419,
                    4.841764050767747,
                    4.329650474469473,
                    4.88781711288096,
                    4.822161053079897,
                    4.170399126497374,
                    4.0653509895043705,
                    4.520313877334251,
                    4.448983808764514,
                    5.017507074396398,
                    4.729523715921269,
                    3.644598764780044,
                    4.075789730363531,
                    5.000255008504827,
                    4.960773263651832,
                    3.5795886816156997,
                    4.287154067698203,
                    4.042140978838319,
                    3.994474063841885,
                    4.7314690167336435,
                    4.517700873715363,
                    3.8572175511914675,
                    4.8078281739612505,
                    3.984012429912269,
                    4.577410292728971,
                    4.095956741403057,
                    3.8518560361520247,
                    4.367956942328618,
                    4.283468422161758,
                    4.893937940561618,
                    4.904348749888844,
                    4.699406591537917,
                    4.721376697295675,
                    4.666856422741568,
                    3.6339357711483977,
                    3.6483684971999835,
                    4.008284597585784,
                    4.3949107455534095,
                    3.9817512684547314,
                    4.691769298125336,
                    4.588492013519136,
                    5.141783980383743,
                    4.839810590818101,
                    4.478686293152396,
                    4.832138956095323,
                    5.097679371926925,
                    4.832186675158729,
                    4.674124985274066,
                    3.9048301451090843,
                    4.462147661562859,
                    4.067172766695127,
                    4.659694707383076,
                    4.386019142093454,
                    4.609767876586081,
                    4.251974161686101,
                    5.074587001967598,
                    3.3662456618648657,
                    3.920664739146879,
                    4.165347678796146,
                    4.297617450794417,
                    5.603619994783301,
                    4.546943127246976,
                    4.562130549779401,
                    3.8376991083829584,
                    4.197189475433753,
                    4.1554197032819795,
                    4.121651523220244,
                    4.069655678424497,
                    4.657162085955615,
                    4.362407955026158,
                    4.330925713434087,
                    4.015546856098125,
                    4.583673896275253,
                    4.470318810071952,
                    3.9704621969353884,
                    4.796483096907579,
                    4.8330297847291215,
                    4.7701782978324365,
                    5.3025171101243265,
                    4.566919138674364,
                    4.43530788571947,
                    4.5797490508046,
                    4.811188615069481,
                    4.191152494792683,
                    4.257734100124838,
                    5.167611427611548,
                    4.136093164900155,
                    4.067261463099736,
                    4.034540915681029,
                    4.041760185775521,
                    5.568518934921862,
                    4.50286937700589,
                    4.769504277980477,
                    4.3572403242028885,
                    4.869527648303515,
                    4.509864471276054,
                    4.180240873286676,
                    4.848257294183658,
                    5.256018591184283,
                    4.430691794271492,
                    4.076915302483022,
                    4.236293449174785,
                    3.8679966683669966,
                    4.80657580983041,
                    3.5143229460443295,
                    4.988673043764872,
                    4.385434889928244,
                    4.415166082470582,
                    4.17286660432388,
                    5.043816938568196,
                    4.659288150152666,
                    4.6797232016114885,
                    4.762609394587795,
                    4.09932002462664,
                    5.022063679689639,
                    4.675569448645297,
                    4.2316683548631415,
                    4.677479474253487,
                    4.357694999873439,
                    4.8257527278258365,
                    3.622717511982963,
                    4.861591596065474,
                    4.166778048112213,
                    4.795172098483904,
                    4.371263234651155,
                    3.9631224513017873,
                    4.26406125781779,
                    3.9395752424396644,
                    4.624387884918257,
                    4.172047254533374,
                    4.322623350296184,
                    4.67108855377962,
                    3.945236907298792,
                    4.878687661486141,
                    5.131955663943928,
                    3.990741380611517,
                    5.135899753523616,
                    4.419072440193348,
                    4.329485775713009,
                    4.320696665835852,
                    4.512156335881071,
                    4.762693897800113,
                    3.8493035016013475,
                    4.194781726526322,
                    4.184819680120666,
                    4.374064943928432,
                    4.4788048732364745,
                    4.398936304681743,
                    3.9932411420721503,
                    4.283898540426097,
                    4.556723929358937,
                    4.715646822857987,
                    5.145151634773571,
                    4.274341850781722,
                    5.095452338702052,
                    4.744355245770114,
                    4.822790082170918,
                    3.9985730976651372,
                    4.471161639132855,
                    4.890317930275167,
                    4.044259478673422,
                    4.804429526526541,
                    4.492493726595726,
                    4.712237592258009,
                    4.35826119781446,
                    4.391109479251541,
                    4.128227461947848,
                    4.308532714844463,
                    5.139744361412348,
                    4.115914111269223,
                    4.381601227431678,
                    4.855677608263049,
                    4.170986884986255,
                    4.066495618483572,
                    4.732553901447206,
                    4.400581654770935,
                    4.593095293445795,
                    4.633002584764916,
                    4.162777457603917,
                    4.563275015385187,
                    3.9935853101757277,
                    3.5358776318549467,
                    4.277071852433088,
                    4.65741596281235,
                    4.864976871392488,
                    4.6490305875762,
                    4.306596925769812,
                    4.802352143162206,
                    4.2665561111588195,
                    4.6934580096785865,
                    4.936820501933373,
                    3.8396327464401954,
                    4.396466491494672,
                    4.387133384602788,
                    3.6643616027458457,
                    4.777495926236473,
                    3.7623997788501584,
                    4.787547370922401,
                    4.198856611572596,
                    4.561051109987187,
                    4.766342769992683,
                    4.9221777533893265,
                    4.360221684366908,
                    4.999266717537458,
                    4.190037090089631,
                    4.5910851507687225,
                    4.248227636035346,
                    4.588502824879124,
                    3.8364394095400254,
                    4.585204980754961,
                    5.126041679369281,
                    4.902440627682315,
                    4.497272920202237,
                    5.067292931057433,
                    4.635421954212396,
                    3.9803824499714953,
                    4.890069705722382,
                    4.3975880801668845,
                    4.651095893880818,
                    4.711242665899572,
                    4.601853795883728,
                    4.440677137717372,
                    4.984167830394198,
                    3.965788263503228,
                    5.435009541929257,
                    4.5523309319203,
                    4.37180312150215,
                    5.024838735000733,
                    4.20840305471197,
                    4.973964221499338,
                    4.226860355227018,
                    4.152924501643609,
                    4.418481407930565,
                    3.9603189542778043,
                    4.813889262271142,
                    4.827783798523462,
                    4.640125787098692,
                    4.613220719420455,
                    4.678351463645922,
                    5.062058159829595,
                    4.44245227854972,
                    5.277433894107601,
                    4.406832608157793,
                    3.9830395970862695,
                    4.77841852811414,
                    4.750581172630433,
                    4.909646432582239,
                    4.58712080982325,
                    4.403530255498913,
                    4.512055634238539,
                    4.066799198033547,
                    4.854790013263479,
                    4.799309398350404,
                    4.224805772320871,
                    4.508320450301933,
                    5.153681875389384,
                    4.771499112240142,
                    4.593812187144976,
                    5.087694413479848,
                    4.929332573383493,
                    4.543756154946144,
                    5.41857507057528,
                    4.75244856711574,
                    4.791853568213129,
                    4.24252124965908,
                    4.574732015585686,
                    4.119772718002076,
                    3.740572178540211,
                    4.768746493890855,
                    4.338879011008639,
                    4.909458549398287,
                    3.762070797593871,
                    4.778650139847637,
                    4.730279876917835,
                    4.342429656911848,
                    4.428074083398374,
                    4.149045553438721,
                    5.065088042429056,
                    5.105574616867037,
                    4.051245605801381,
                    5.29534814726,
                    4.4120642028731085,
                    4.432711926221457,
                    4.635843002153472,
                    3.777352490960128,
                    4.190642149414837,
                    4.411480540354305,
                    4.682597155733494,
                    4.204393478661909,
                    4.403926124804554,
                    4.330933544890541,
                    4.156388566408583,
                    3.8135338572441433,
                    4.388634403735923,
                    4.476195726797445,
                    4.622692810396009,
                    4.2202138258176145,
                    4.58098928203881,
                    4.458200503565943,
                    5.187040826497484,
                    4.180325898878806,
                    5.002631445639729,
                    4.6861198826484545,
                    4.58070873539902,
                    3.6569298265846357,
                    4.634849384834273,
                    4.21726908196924,
                    4.422055483698963,
                    4.426374668762197,
                    4.642797815737894,
                    5.101436483633047,
                    4.47854574666072,
                    3.7153281837904566,
                    4.808488820470564,
                    5.0308507853768605,
                    5.168265353487809,
                    4.256365060165527
                  ],
                  "xaxis": "x",
                  "yaxis": "y"
                }
              ],
              "layout": {
                "barmode": "relative",
                "legend": {
                  "tracegroupgap": 0
                },
                "template": {
                  "data": {
                    "bar": [
                      {
                        "error_x": {
                          "color": "#2a3f5f"
                        },
                        "error_y": {
                          "color": "#2a3f5f"
                        },
                        "marker": {
                          "line": {
                            "color": "#E5ECF6",
                            "width": 0.5
                          },
                          "pattern": {
                            "fillmode": "overlay",
                            "size": 10,
                            "solidity": 0.2
                          }
                        },
                        "type": "bar"
                      }
                    ],
                    "barpolar": [
                      {
                        "marker": {
                          "line": {
                            "color": "#E5ECF6",
                            "width": 0.5
                          },
                          "pattern": {
                            "fillmode": "overlay",
                            "size": 10,
                            "solidity": 0.2
                          }
                        },
                        "type": "barpolar"
                      }
                    ],
                    "carpet": [
                      {
                        "aaxis": {
                          "endlinecolor": "#2a3f5f",
                          "gridcolor": "white",
                          "linecolor": "white",
                          "minorgridcolor": "white",
                          "startlinecolor": "#2a3f5f"
                        },
                        "baxis": {
                          "endlinecolor": "#2a3f5f",
                          "gridcolor": "white",
                          "linecolor": "white",
                          "minorgridcolor": "white",
                          "startlinecolor": "#2a3f5f"
                        },
                        "type": "carpet"
                      }
                    ],
                    "choropleth": [
                      {
                        "colorbar": {
                          "outlinewidth": 0,
                          "ticks": ""
                        },
                        "type": "choropleth"
                      }
                    ],
                    "contour": [
                      {
                        "colorbar": {
                          "outlinewidth": 0,
                          "ticks": ""
                        },
                        "colorscale": [
                          [
                            0,
                            "#0d0887"
                          ],
                          [
                            0.1111111111111111,
                            "#46039f"
                          ],
                          [
                            0.2222222222222222,
                            "#7201a8"
                          ],
                          [
                            0.3333333333333333,
                            "#9c179e"
                          ],
                          [
                            0.4444444444444444,
                            "#bd3786"
                          ],
                          [
                            0.5555555555555556,
                            "#d8576b"
                          ],
                          [
                            0.6666666666666666,
                            "#ed7953"
                          ],
                          [
                            0.7777777777777778,
                            "#fb9f3a"
                          ],
                          [
                            0.8888888888888888,
                            "#fdca26"
                          ],
                          [
                            1,
                            "#f0f921"
                          ]
                        ],
                        "type": "contour"
                      }
                    ],
                    "contourcarpet": [
                      {
                        "colorbar": {
                          "outlinewidth": 0,
                          "ticks": ""
                        },
                        "type": "contourcarpet"
                      }
                    ],
                    "heatmap": [
                      {
                        "colorbar": {
                          "outlinewidth": 0,
                          "ticks": ""
                        },
                        "colorscale": [
                          [
                            0,
                            "#0d0887"
                          ],
                          [
                            0.1111111111111111,
                            "#46039f"
                          ],
                          [
                            0.2222222222222222,
                            "#7201a8"
                          ],
                          [
                            0.3333333333333333,
                            "#9c179e"
                          ],
                          [
                            0.4444444444444444,
                            "#bd3786"
                          ],
                          [
                            0.5555555555555556,
                            "#d8576b"
                          ],
                          [
                            0.6666666666666666,
                            "#ed7953"
                          ],
                          [
                            0.7777777777777778,
                            "#fb9f3a"
                          ],
                          [
                            0.8888888888888888,
                            "#fdca26"
                          ],
                          [
                            1,
                            "#f0f921"
                          ]
                        ],
                        "type": "heatmap"
                      }
                    ],
                    "heatmapgl": [
                      {
                        "colorbar": {
                          "outlinewidth": 0,
                          "ticks": ""
                        },
                        "colorscale": [
                          [
                            0,
                            "#0d0887"
                          ],
                          [
                            0.1111111111111111,
                            "#46039f"
                          ],
                          [
                            0.2222222222222222,
                            "#7201a8"
                          ],
                          [
                            0.3333333333333333,
                            "#9c179e"
                          ],
                          [
                            0.4444444444444444,
                            "#bd3786"
                          ],
                          [
                            0.5555555555555556,
                            "#d8576b"
                          ],
                          [
                            0.6666666666666666,
                            "#ed7953"
                          ],
                          [
                            0.7777777777777778,
                            "#fb9f3a"
                          ],
                          [
                            0.8888888888888888,
                            "#fdca26"
                          ],
                          [
                            1,
                            "#f0f921"
                          ]
                        ],
                        "type": "heatmapgl"
                      }
                    ],
                    "histogram": [
                      {
                        "marker": {
                          "pattern": {
                            "fillmode": "overlay",
                            "size": 10,
                            "solidity": 0.2
                          }
                        },
                        "type": "histogram"
                      }
                    ],
                    "histogram2d": [
                      {
                        "colorbar": {
                          "outlinewidth": 0,
                          "ticks": ""
                        },
                        "colorscale": [
                          [
                            0,
                            "#0d0887"
                          ],
                          [
                            0.1111111111111111,
                            "#46039f"
                          ],
                          [
                            0.2222222222222222,
                            "#7201a8"
                          ],
                          [
                            0.3333333333333333,
                            "#9c179e"
                          ],
                          [
                            0.4444444444444444,
                            "#bd3786"
                          ],
                          [
                            0.5555555555555556,
                            "#d8576b"
                          ],
                          [
                            0.6666666666666666,
                            "#ed7953"
                          ],
                          [
                            0.7777777777777778,
                            "#fb9f3a"
                          ],
                          [
                            0.8888888888888888,
                            "#fdca26"
                          ],
                          [
                            1,
                            "#f0f921"
                          ]
                        ],
                        "type": "histogram2d"
                      }
                    ],
                    "histogram2dcontour": [
                      {
                        "colorbar": {
                          "outlinewidth": 0,
                          "ticks": ""
                        },
                        "colorscale": [
                          [
                            0,
                            "#0d0887"
                          ],
                          [
                            0.1111111111111111,
                            "#46039f"
                          ],
                          [
                            0.2222222222222222,
                            "#7201a8"
                          ],
                          [
                            0.3333333333333333,
                            "#9c179e"
                          ],
                          [
                            0.4444444444444444,
                            "#bd3786"
                          ],
                          [
                            0.5555555555555556,
                            "#d8576b"
                          ],
                          [
                            0.6666666666666666,
                            "#ed7953"
                          ],
                          [
                            0.7777777777777778,
                            "#fb9f3a"
                          ],
                          [
                            0.8888888888888888,
                            "#fdca26"
                          ],
                          [
                            1,
                            "#f0f921"
                          ]
                        ],
                        "type": "histogram2dcontour"
                      }
                    ],
                    "mesh3d": [
                      {
                        "colorbar": {
                          "outlinewidth": 0,
                          "ticks": ""
                        },
                        "type": "mesh3d"
                      }
                    ],
                    "parcoords": [
                      {
                        "line": {
                          "colorbar": {
                            "outlinewidth": 0,
                            "ticks": ""
                          }
                        },
                        "type": "parcoords"
                      }
                    ],
                    "pie": [
                      {
                        "automargin": true,
                        "type": "pie"
                      }
                    ],
                    "scatter": [
                      {
                        "fillpattern": {
                          "fillmode": "overlay",
                          "size": 10,
                          "solidity": 0.2
                        },
                        "type": "scatter"
                      }
                    ],
                    "scatter3d": [
                      {
                        "line": {
                          "colorbar": {
                            "outlinewidth": 0,
                            "ticks": ""
                          }
                        },
                        "marker": {
                          "colorbar": {
                            "outlinewidth": 0,
                            "ticks": ""
                          }
                        },
                        "type": "scatter3d"
                      }
                    ],
                    "scattercarpet": [
                      {
                        "marker": {
                          "colorbar": {
                            "outlinewidth": 0,
                            "ticks": ""
                          }
                        },
                        "type": "scattercarpet"
                      }
                    ],
                    "scattergeo": [
                      {
                        "marker": {
                          "colorbar": {
                            "outlinewidth": 0,
                            "ticks": ""
                          }
                        },
                        "type": "scattergeo"
                      }
                    ],
                    "scattergl": [
                      {
                        "marker": {
                          "colorbar": {
                            "outlinewidth": 0,
                            "ticks": ""
                          }
                        },
                        "type": "scattergl"
                      }
                    ],
                    "scattermapbox": [
                      {
                        "marker": {
                          "colorbar": {
                            "outlinewidth": 0,
                            "ticks": ""
                          }
                        },
                        "type": "scattermapbox"
                      }
                    ],
                    "scatterpolar": [
                      {
                        "marker": {
                          "colorbar": {
                            "outlinewidth": 0,
                            "ticks": ""
                          }
                        },
                        "type": "scatterpolar"
                      }
                    ],
                    "scatterpolargl": [
                      {
                        "marker": {
                          "colorbar": {
                            "outlinewidth": 0,
                            "ticks": ""
                          }
                        },
                        "type": "scatterpolargl"
                      }
                    ],
                    "scatterternary": [
                      {
                        "marker": {
                          "colorbar": {
                            "outlinewidth": 0,
                            "ticks": ""
                          }
                        },
                        "type": "scatterternary"
                      }
                    ],
                    "surface": [
                      {
                        "colorbar": {
                          "outlinewidth": 0,
                          "ticks": ""
                        },
                        "colorscale": [
                          [
                            0,
                            "#0d0887"
                          ],
                          [
                            0.1111111111111111,
                            "#46039f"
                          ],
                          [
                            0.2222222222222222,
                            "#7201a8"
                          ],
                          [
                            0.3333333333333333,
                            "#9c179e"
                          ],
                          [
                            0.4444444444444444,
                            "#bd3786"
                          ],
                          [
                            0.5555555555555556,
                            "#d8576b"
                          ],
                          [
                            0.6666666666666666,
                            "#ed7953"
                          ],
                          [
                            0.7777777777777778,
                            "#fb9f3a"
                          ],
                          [
                            0.8888888888888888,
                            "#fdca26"
                          ],
                          [
                            1,
                            "#f0f921"
                          ]
                        ],
                        "type": "surface"
                      }
                    ],
                    "table": [
                      {
                        "cells": {
                          "fill": {
                            "color": "#EBF0F8"
                          },
                          "line": {
                            "color": "white"
                          }
                        },
                        "header": {
                          "fill": {
                            "color": "#C8D4E3"
                          },
                          "line": {
                            "color": "white"
                          }
                        },
                        "type": "table"
                      }
                    ]
                  },
                  "layout": {
                    "annotationdefaults": {
                      "arrowcolor": "#2a3f5f",
                      "arrowhead": 0,
                      "arrowwidth": 1
                    },
                    "autotypenumbers": "strict",
                    "coloraxis": {
                      "colorbar": {
                        "outlinewidth": 0,
                        "ticks": ""
                      }
                    },
                    "colorscale": {
                      "diverging": [
                        [
                          0,
                          "#8e0152"
                        ],
                        [
                          0.1,
                          "#c51b7d"
                        ],
                        [
                          0.2,
                          "#de77ae"
                        ],
                        [
                          0.3,
                          "#f1b6da"
                        ],
                        [
                          0.4,
                          "#fde0ef"
                        ],
                        [
                          0.5,
                          "#f7f7f7"
                        ],
                        [
                          0.6,
                          "#e6f5d0"
                        ],
                        [
                          0.7,
                          "#b8e186"
                        ],
                        [
                          0.8,
                          "#7fbc41"
                        ],
                        [
                          0.9,
                          "#4d9221"
                        ],
                        [
                          1,
                          "#276419"
                        ]
                      ],
                      "sequential": [
                        [
                          0,
                          "#0d0887"
                        ],
                        [
                          0.1111111111111111,
                          "#46039f"
                        ],
                        [
                          0.2222222222222222,
                          "#7201a8"
                        ],
                        [
                          0.3333333333333333,
                          "#9c179e"
                        ],
                        [
                          0.4444444444444444,
                          "#bd3786"
                        ],
                        [
                          0.5555555555555556,
                          "#d8576b"
                        ],
                        [
                          0.6666666666666666,
                          "#ed7953"
                        ],
                        [
                          0.7777777777777778,
                          "#fb9f3a"
                        ],
                        [
                          0.8888888888888888,
                          "#fdca26"
                        ],
                        [
                          1,
                          "#f0f921"
                        ]
                      ],
                      "sequentialminus": [
                        [
                          0,
                          "#0d0887"
                        ],
                        [
                          0.1111111111111111,
                          "#46039f"
                        ],
                        [
                          0.2222222222222222,
                          "#7201a8"
                        ],
                        [
                          0.3333333333333333,
                          "#9c179e"
                        ],
                        [
                          0.4444444444444444,
                          "#bd3786"
                        ],
                        [
                          0.5555555555555556,
                          "#d8576b"
                        ],
                        [
                          0.6666666666666666,
                          "#ed7953"
                        ],
                        [
                          0.7777777777777778,
                          "#fb9f3a"
                        ],
                        [
                          0.8888888888888888,
                          "#fdca26"
                        ],
                        [
                          1,
                          "#f0f921"
                        ]
                      ]
                    },
                    "colorway": [
                      "#636efa",
                      "#EF553B",
                      "#00cc96",
                      "#ab63fa",
                      "#FFA15A",
                      "#19d3f3",
                      "#FF6692",
                      "#B6E880",
                      "#FF97FF",
                      "#FECB52"
                    ],
                    "font": {
                      "color": "#2a3f5f"
                    },
                    "geo": {
                      "bgcolor": "white",
                      "lakecolor": "white",
                      "landcolor": "#E5ECF6",
                      "showlakes": true,
                      "showland": true,
                      "subunitcolor": "white"
                    },
                    "hoverlabel": {
                      "align": "left"
                    },
                    "hovermode": "closest",
                    "mapbox": {
                      "style": "light"
                    },
                    "paper_bgcolor": "white",
                    "plot_bgcolor": "#E5ECF6",
                    "polar": {
                      "angularaxis": {
                        "gridcolor": "white",
                        "linecolor": "white",
                        "ticks": ""
                      },
                      "bgcolor": "#E5ECF6",
                      "radialaxis": {
                        "gridcolor": "white",
                        "linecolor": "white",
                        "ticks": ""
                      }
                    },
                    "scene": {
                      "xaxis": {
                        "backgroundcolor": "#E5ECF6",
                        "gridcolor": "white",
                        "gridwidth": 2,
                        "linecolor": "white",
                        "showbackground": true,
                        "ticks": "",
                        "zerolinecolor": "white"
                      },
                      "yaxis": {
                        "backgroundcolor": "#E5ECF6",
                        "gridcolor": "white",
                        "gridwidth": 2,
                        "linecolor": "white",
                        "showbackground": true,
                        "ticks": "",
                        "zerolinecolor": "white"
                      },
                      "zaxis": {
                        "backgroundcolor": "#E5ECF6",
                        "gridcolor": "white",
                        "gridwidth": 2,
                        "linecolor": "white",
                        "showbackground": true,
                        "ticks": "",
                        "zerolinecolor": "white"
                      }
                    },
                    "shapedefaults": {
                      "line": {
                        "color": "#2a3f5f"
                      }
                    },
                    "ternary": {
                      "aaxis": {
                        "gridcolor": "white",
                        "linecolor": "white",
                        "ticks": ""
                      },
                      "baxis": {
                        "gridcolor": "white",
                        "linecolor": "white",
                        "ticks": ""
                      },
                      "bgcolor": "#E5ECF6",
                      "caxis": {
                        "gridcolor": "white",
                        "linecolor": "white",
                        "ticks": ""
                      }
                    },
                    "title": {
                      "x": 0.05
                    },
                    "xaxis": {
                      "automargin": true,
                      "gridcolor": "white",
                      "linecolor": "white",
                      "ticks": "",
                      "title": {
                        "standoff": 15
                      },
                      "zerolinecolor": "white",
                      "zerolinewidth": 2
                    },
                    "yaxis": {
                      "automargin": true,
                      "gridcolor": "white",
                      "linecolor": "white",
                      "ticks": "",
                      "title": {
                        "standoff": 15
                      },
                      "zerolinecolor": "white",
                      "zerolinewidth": 2
                    }
                  }
                },
                "title": {
                  "text": "Histograma das previsões de conversão"
                },
                "xaxis": {
                  "anchor": "y",
                  "domain": [
                    0,
                    1
                  ],
                  "title": {
                    "text": "x"
                  }
                },
                "yaxis": {
                  "anchor": "x",
                  "domain": [
                    0,
                    1
                  ],
                  "title": {
                    "text": "count"
                  }
                }
              }
            }
          },
          "metadata": {},
          "output_type": "display_data"
        }
      ],
      "source": [
        "# Histograma dos previsões, considerando 1000 simulações e todas as features\n",
        "px.histogram(x=conversoes_previstas.mean(axis=1), title='Histograma das previsões de conversão')\n"
      ]
    },
    {
      "cell_type": "code",
      "execution_count": 82,
      "metadata": {},
      "outputs": [
        {
          "name": "stdout",
          "output_type": "stream",
          "text": [
            "Feature: Visitantes Únicos, Score: 0.003210986543820833\n",
            "Feature: Páginas por Sessão, Score: 0.5646595705890353\n",
            "Feature: Sessões, Score: 0.0009156507277026503\n",
            "Feature: Eventos, Score: -0.008543765225540298\n",
            "Feature: Tempo Médio de Sessão (minutos), Score: 0.08187661024004966\n"
          ]
        }
      ],
      "source": [
        "# Importância das features no modelo\n",
        "importancia = model.coef_\n",
        "for i, v in enumerate(importancia):\n",
        "    print(f'Feature: {X.columns[i]}, Score: {v}')"
      ]
    },
    {
      "cell_type": "code",
      "execution_count": null,
      "metadata": {},
      "outputs": [],
      "source": [
        "# Páginas por Sessão é a feature mais importante para o modelo"
      ]
    },
    {
      "cell_type": "markdown",
      "metadata": {
        "id": "FoJuZPC22IyH"
      },
      "source": [
        "### Questão 3"
      ]
    },
    {
      "cell_type": "markdown",
      "metadata": {
        "id": "SHpxU3Vs1kYY"
      },
      "source": [
        "**Análise de Sensibilidade**: Realize uma análise de sensibilidade para examinar como alterações em diferentes variáveis de entrada afetam as previsões da taxa de conversão."
      ]
    },
    {
      "cell_type": "code",
      "execution_count": 86,
      "metadata": {
        "id": "9--wz6QK2kII"
      },
      "outputs": [
        {
          "name": "stderr",
          "output_type": "stream",
          "text": [
            "C:\\Users\\Rodrigo\\AppData\\Local\\Temp\\ipykernel_20404\\2859441210.py:4: SettingWithCopyWarning:\n",
            "\n",
            "\n",
            "A value is trying to be set on a copy of a slice from a DataFrame.\n",
            "Try using .loc[row_indexer,col_indexer] = value instead\n",
            "\n",
            "See the caveats in the documentation: https://pandas.pydata.org/pandas-docs/stable/user_guide/indexing.html#returning-a-view-versus-a-copy\n",
            "\n"
          ]
        },
        {
          "data": {
            "text/plain": [
              "4.48765567581533"
            ]
          },
          "execution_count": 86,
          "metadata": {},
          "output_type": "execute_result"
        }
      ],
      "source": [
        "# Escreva sua resposta nesta seção (Você pode criar quantas células de texto e de código forem necessárias)\n",
        "# Análise de Sensibilidade considerando que Páginas por Sessão é a feature mais importante\n",
        "#Reduzindo a média de Páginas por Sessão pela metade\n",
        "X['Páginas por Sessão'] = X['Páginas por Sessão'] * 0.5\n",
        "n_simulacoes = 1000\n",
        "conversoes_previstas = []\n",
        "for _ in range(n_simulacoes):\n",
        "    # Modelo de regressão linear\n",
        "    X_train, X_test, y_train, y_test = train_test_split(X, y, test_size=0.2)\n",
        "    model = LinearRegression()\n",
        "    model.fit(X_train, y_train)\n",
        "    # Previsão\n",
        "    y_pred = model.predict(X_test)\n",
        "    conversoes_previstas.append(y_pred)\n",
        "conversoes_previstas = np.array(conversoes_previstas)\n",
        "conversoes_previstas.mean()"
      ]
    },
    {
      "cell_type": "code",
      "execution_count": 88,
      "metadata": {},
      "outputs": [
        {
          "name": "stdout",
          "output_type": "stream",
          "text": [
            "A média de conversões previstas é de 4.48765567581533\n",
            "A média de conversões reais é de 4.499631657295852\n",
            "O desvio padrão das conversões previstas é de 1.4609516602401516\n",
            "O desvio padrão das conversões reais é de 1.4867182834038823\n"
          ]
        }
      ],
      "source": [
        "print(f'A média de conversões previstas é de {conversoes_previstas.mean()}')\n",
        "print(f'A média de conversões reais é de {y.mean()}')\n",
        "print(f'O desvio padrão das conversões previstas é de {conversoes_previstas.std()}')\n",
        "print(f'O desvio padrão das conversões reais é de {y.std()}')"
      ]
    },
    {
      "cell_type": "code",
      "execution_count": 87,
      "metadata": {},
      "outputs": [
        {
          "data": {
            "application/vnd.plotly.v1+json": {
              "config": {
                "plotlyServerURL": "https://plot.ly"
              },
              "data": [
                {
                  "alignmentgroup": "True",
                  "bingroup": "x",
                  "hovertemplate": "x=%{x}<br>count=%{y}<extra></extra>",
                  "legendgroup": "",
                  "marker": {
                    "color": "#636efa",
                    "pattern": {
                      "shape": ""
                    }
                  },
                  "name": "",
                  "offsetgroup": "",
                  "orientation": "v",
                  "showlegend": false,
                  "type": "histogram",
                  "x": [
                    4.64055463946394,
                    4.903074955695635,
                    4.059620554275049,
                    4.994485147640845,
                    4.842434514180185,
                    4.1127506250229855,
                    4.208165251890956,
                    4.248915756111663,
                    4.220008572994182,
                    4.131269776169252,
                    4.446108284983326,
                    3.71137513853728,
                    3.674841878141825,
                    4.9275634284853735,
                    4.318619183596188,
                    4.826683378184034,
                    4.06202964892599,
                    4.766926674757985,
                    3.765968744738704,
                    5.141617542722542,
                    4.583514314745188,
                    4.975927606575405,
                    4.124823639135735,
                    4.7087131518027165,
                    4.79794361350755,
                    3.8664407110148225,
                    4.395237161543045,
                    4.432385174883038,
                    4.850334556761214,
                    4.785240921204094,
                    4.6054376066706295,
                    4.159235626449731,
                    4.256341271174419,
                    4.722537886718081,
                    4.264156674563286,
                    4.896791302598139,
                    4.9033164921801,
                    4.779230220888372,
                    3.8033183235590493,
                    4.492635176993955,
                    4.5327747686789905,
                    4.384067537829574,
                    4.55792431599538,
                    4.0307133702952385,
                    4.783661971842856,
                    4.4203814238735815,
                    4.230201615878284,
                    4.619010268509016,
                    4.761855152855997,
                    4.7889047468371935,
                    4.194838689528104,
                    4.25994507289657,
                    4.44735637511281,
                    4.268316928103441,
                    4.247080669874222,
                    4.428775331822894,
                    4.678981785092415,
                    3.782477474343422,
                    4.599301993002806,
                    4.796299971545715,
                    4.212619164335561,
                    4.513823825072576,
                    4.511411003344352,
                    4.74476751136008,
                    4.933918281686327,
                    4.832591126508067,
                    5.057108544404354,
                    4.797157754844142,
                    4.353429382771587,
                    4.2183374802279925,
                    5.075381486372576,
                    5.144854488285895,
                    4.937447293429421,
                    4.627796055731766,
                    4.298501675204325,
                    4.56038289490055,
                    4.518326686658064,
                    4.770220528531827,
                    3.794132990360326,
                    4.4963087037320095,
                    3.747545061908498,
                    4.310974139524524,
                    4.141882064201197,
                    4.478765621790104,
                    4.592913998997289,
                    5.108993060324264,
                    3.956991162997866,
                    4.0285088285620825,
                    4.399897428893958,
                    3.854124605531135,
                    4.357494855535175,
                    4.502966713897565,
                    5.081617267370626,
                    4.1702989588203145,
                    4.62995516783053,
                    4.829978673983425,
                    4.420513523375441,
                    5.131507278965988,
                    4.3512656317353136,
                    5.019155447013964,
                    4.406028787640663,
                    4.596181312985569,
                    3.876146958549928,
                    4.7911384450439165,
                    4.628740231158993,
                    3.6165702005476277,
                    4.205445951491035,
                    4.2490375921041705,
                    4.2926517160300355,
                    4.208899127845451,
                    3.799471038656261,
                    4.64720141328818,
                    5.1797726612017065,
                    4.885313163047342,
                    4.246129797296394,
                    5.066172855671972,
                    4.56266636666137,
                    4.501930935372057,
                    4.508874256808636,
                    4.426171065388393,
                    4.340897116200547,
                    4.64049326922461,
                    4.354938716153448,
                    4.165255281130958,
                    3.7682967343172447,
                    4.282571727784461,
                    4.763740631758679,
                    4.637790044499791,
                    4.806662425105693,
                    4.207151563945968,
                    4.7078650186705895,
                    3.945347014543963,
                    4.813608499897864,
                    4.684083726440531,
                    4.2805508257486276,
                    4.23479084908165,
                    4.2300448505849415,
                    4.342006646042939,
                    4.78930444732563,
                    4.2616065832296455,
                    5.069452144118314,
                    3.984433663954396,
                    4.364756443555209,
                    4.618870939332408,
                    4.786950437860689,
                    4.88519039131307,
                    3.9095797342600043,
                    4.086095536785879,
                    4.593500585876085,
                    5.048361736578263,
                    4.524142082889974,
                    4.61625561357249,
                    4.678071712052776,
                    4.782147865266317,
                    4.049602816677065,
                    4.6695684303518865,
                    4.296664652165746,
                    4.2581892113036615,
                    5.112482277652469,
                    4.2152647540850925,
                    4.889156994475923,
                    4.408228743683899,
                    5.216155247771783,
                    4.613838793858252,
                    5.2896723535750825,
                    4.319189279883921,
                    4.5958089824594905,
                    4.278193150451243,
                    4.326181672599957,
                    4.82516410441469,
                    4.289132272972245,
                    3.9063328399199935,
                    4.22845874803654,
                    4.647911415724534,
                    4.347219280949795,
                    4.507350844715095,
                    4.850462421650556,
                    4.481233174992496,
                    4.197691008834988,
                    4.233754507263029,
                    4.686646662304375,
                    4.282131828274234,
                    4.629550743991725,
                    4.904572361463679,
                    4.456909063015777,
                    4.496096908629114,
                    5.185231940584836,
                    4.241910815760606,
                    4.476567876449971,
                    4.71184242029621,
                    3.8323098310606643,
                    4.354576644569613,
                    4.692805617951978,
                    4.675106328220577,
                    4.577631454126968,
                    5.220219650419526,
                    5.074948772317382,
                    3.887800076054061,
                    4.192812239396269,
                    4.697505619853328,
                    4.614652624461976,
                    4.355120262776296,
                    4.318329282812958,
                    3.9219613860331344,
                    3.9639297225970034,
                    4.272572777843758,
                    4.486404647186623,
                    4.213663214440387,
                    4.314887832608263,
                    4.913489968777957,
                    3.8792695707184515,
                    4.151597738675568,
                    5.2360587672824765,
                    3.7064840297870627,
                    4.940853343521214,
                    4.0469338595243105,
                    4.4381252758142065,
                    4.787090268772084,
                    5.03331175972113,
                    4.6739269035961915,
                    4.988806293167955,
                    4.447982050872548,
                    4.35981853374185,
                    5.047169843761131,
                    4.239865255494707,
                    4.57925840156921,
                    4.0400383549845555,
                    4.50199593878638,
                    4.487987047292916,
                    4.1707834833084565,
                    4.403888564084135,
                    4.7808582023487824,
                    4.768084785140818,
                    3.9702735009815484,
                    4.138091378512811,
                    4.060136234213707,
                    4.429801375601586,
                    5.1590003957366255,
                    4.391264355094588,
                    3.9744593926721663,
                    5.024644595651008,
                    4.273988186794555,
                    4.589038678481194,
                    4.248810003578211,
                    4.513238011393763,
                    4.885019748157916,
                    4.621341801410466,
                    4.851344101145652,
                    3.7677148579956996,
                    4.577517073829512,
                    4.563806860770209,
                    3.5309466104845906,
                    4.12099599986138,
                    4.451083425258196,
                    4.74301465712358,
                    4.571560510617465,
                    4.2742030011491545,
                    4.093186348507546,
                    4.692726660112759,
                    3.7855320232181504,
                    4.889438139344857,
                    4.428217616629534,
                    5.46434707727774,
                    3.7428111559836226,
                    4.189957337431976,
                    4.748274901525976,
                    4.076913692391851,
                    4.21971787122978,
                    4.7987028358908,
                    4.606278290423128,
                    5.175357106386441,
                    4.339910083104626,
                    5.149848518749727,
                    4.673026340515786,
                    4.116222512817987,
                    4.913357580198044,
                    4.008107077512929,
                    3.8545730493489927,
                    4.868000965978822,
                    4.6739772828360175,
                    5.262013794195144,
                    4.542271306768215,
                    4.7495774801280275,
                    4.428863654958614,
                    4.721106663590068,
                    4.047020414979204,
                    4.102031982001665,
                    4.724662205510389,
                    4.4525758582744475,
                    4.788613004201922,
                    4.809744185750202,
                    4.570715390600984,
                    4.094367542621463,
                    4.903486219882256,
                    3.951162213893177,
                    4.443157444224123,
                    4.69498038255422,
                    4.242078131440384,
                    4.566244150342954,
                    4.380375862966464,
                    4.556133618959804,
                    4.8205939318120885,
                    4.762439125216449,
                    4.130646658413398,
                    4.525113761552742,
                    4.848108389354332,
                    4.0145085037984956,
                    4.123634798351999,
                    3.7525694935174685,
                    4.6119552892172155,
                    4.2160899398808205,
                    4.728980368471368,
                    4.7503417630639415,
                    4.070983579714937,
                    4.239139181182069,
                    4.630158858735822,
                    4.39709155756551,
                    4.5244507011445805,
                    4.382577593045272,
                    4.0479074560504555,
                    4.249315671437336,
                    3.5076848980927404,
                    4.639277068205147,
                    4.846104508890317,
                    4.959772741070383,
                    4.4949879216875415,
                    4.111369276175654,
                    4.722802361591426,
                    4.776953482812081,
                    4.7295325682509795,
                    4.4692418778686,
                    4.60880264831275,
                    4.451883140715863,
                    3.692429692526678,
                    4.4124724607641665,
                    4.639896338980187,
                    5.008621791508588,
                    4.411095849704549,
                    4.037598832329972,
                    4.015365151999198,
                    4.885776695752557,
                    4.243123565526935,
                    4.777311978411045,
                    4.5158261705700395,
                    4.581656088684561,
                    4.339066392541789,
                    4.412142035748508,
                    5.20868286898629,
                    4.617406866947472,
                    4.523730773405222,
                    4.2899765896881235,
                    4.802642410207895,
                    4.489597785360181,
                    4.080694957846916,
                    5.006680155312098,
                    4.012345107034794,
                    4.291650323754523,
                    3.904479899678767,
                    4.826549253122882,
                    4.89268275726769,
                    4.524834184222723,
                    4.403805322310046,
                    4.7044052739205,
                    4.75895785048932,
                    4.117995250467598,
                    4.458360138266092,
                    4.616329167077813,
                    4.877958632886435,
                    4.220723201879327,
                    4.257822541004507,
                    4.543074421796243,
                    3.9138786338133866,
                    4.683026633642332,
                    3.899280191225337,
                    4.581512813288018,
                    4.715899816883445,
                    4.456821257566167,
                    5.008570382163181,
                    4.8168736867969555,
                    3.745420726879885,
                    4.844582008421263,
                    4.614421765989534,
                    4.940733832002064,
                    4.89109399814489,
                    4.719799490561104,
                    3.992741648004175,
                    4.389642703055316,
                    3.9996343248654647,
                    3.8377168066039165,
                    4.1127190932133635,
                    4.079352410264341,
                    4.021480695270344,
                    4.040169838338602,
                    4.645309374186147,
                    4.431264026130106,
                    3.9652802301289576,
                    4.305999241255986,
                    4.404429440196176,
                    4.707012487357983,
                    5.004362271953245,
                    4.436453510428137,
                    4.2781160958258875,
                    4.110271507346037,
                    4.7044627938619765,
                    4.3113037295599215,
                    4.733520019724055,
                    4.709404591101045,
                    4.53849806304435,
                    5.531652974312337,
                    4.794881323600017,
                    4.448560184277842,
                    4.243017577970927,
                    4.399629476799626,
                    4.992593717661374,
                    4.365033449015045,
                    5.288584285699896,
                    4.8675139790800435,
                    4.1808692227825945,
                    4.520641687367954,
                    4.346217061786639,
                    4.581309043224428,
                    4.105751322096564,
                    3.9858165143574507,
                    4.853184509142763,
                    4.093998405536,
                    4.325100282152808,
                    4.489504555989097,
                    5.067113255972665,
                    4.745410532468028,
                    4.253656645219782,
                    4.815483660409334,
                    4.233341245050302,
                    4.146153049264142,
                    3.844028365876458,
                    4.378959303228747,
                    3.6883378743342417,
                    5.128450783340304,
                    4.879115682489053,
                    4.76561149950366,
                    4.443120011854382,
                    4.18889634752082,
                    5.195014715245045,
                    4.335654772219179,
                    4.649923207809486,
                    4.674426113663545,
                    3.949783696172768,
                    4.773863300198419,
                    4.811336872906836,
                    3.797024835126979,
                    4.714198114093724,
                    4.664726310977468,
                    4.158750089834386,
                    4.1669747401659425,
                    4.362855325945792,
                    4.087144214390006,
                    4.015499720398709,
                    4.9498386749613195,
                    4.025677579970841,
                    4.2211004808953,
                    4.81283205108562,
                    4.814486333118968,
                    4.436401982898224,
                    3.7898024194076996,
                    4.969747183867127,
                    4.627858381327501,
                    4.043570957668518,
                    5.089516111616162,
                    4.758432835270132,
                    4.9912782715245,
                    4.726865690982536,
                    4.592264569537757,
                    4.717710028673698,
                    4.3357704135812485,
                    4.12141639541382,
                    4.489704253972675,
                    3.9039027161390507,
                    4.267853727530752,
                    4.614475794328896,
                    4.226112003403998,
                    4.339447459220772,
                    4.881591965560397,
                    4.71672286655212,
                    4.310055335955039,
                    4.42329159222906,
                    3.400766749586466,
                    4.075673548035437,
                    4.283266411056448,
                    4.697348347784886,
                    4.4630385911387735,
                    4.0574082395484465,
                    4.485453686829575,
                    4.727219091377635,
                    4.506721109581619,
                    4.889742278838569,
                    4.251671929676253,
                    5.008445763754766,
                    4.4775652691284895,
                    4.434530177326196,
                    4.258174940839077,
                    4.413943697092865,
                    4.953931343415094,
                    4.53555414890839,
                    4.5405310603182585,
                    4.627287625801016,
                    4.564299891573673,
                    4.7082275466168815,
                    4.773305993801522,
                    4.458452593964009,
                    4.947389011740557,
                    3.8945964263932376,
                    4.318203236011462,
                    4.382928985223752,
                    4.526455385256044,
                    4.204649773983756,
                    4.242906892149569,
                    4.6483953517691665,
                    4.5824477650244715,
                    4.50901823234999,
                    5.434648917857976,
                    4.662111246413799,
                    4.472124709193739,
                    4.4565723972605396,
                    4.750912983692662,
                    4.481998077601474,
                    4.6236561655242765,
                    4.592111252519596,
                    4.301712550739816,
                    4.549757820096573,
                    3.9860296712531302,
                    4.2208017425954045,
                    5.24812348030681,
                    4.262324417022234,
                    4.927103118247698,
                    4.84754657509304,
                    4.489506290224625,
                    4.710460247768555,
                    3.9875609745727854,
                    4.794332165271526,
                    4.110409101519615,
                    4.2706738305938785,
                    5.298743590471899,
                    4.333279308101253,
                    5.7562887066111506,
                    3.980954225980051,
                    4.21275001593138,
                    4.161119537821755,
                    4.93300842564858,
                    4.15755883529417,
                    4.87350307760297,
                    3.9713037051957745,
                    3.981439822392835,
                    4.487308880673427,
                    4.290297810296059,
                    4.444007363092417,
                    4.085843456668623,
                    5.103715217574619,
                    5.177006401762538,
                    4.596477150007352,
                    4.422892412345141,
                    4.831215593729111,
                    4.033625204983681,
                    5.1224477663680075,
                    4.643009792469353,
                    4.308586008370975,
                    4.623927930108883,
                    4.497980617674018,
                    4.716808216818097,
                    4.053078351726008,
                    3.5974649359304482,
                    4.336974618211913,
                    4.334213272831952,
                    5.049006372220009,
                    4.611718840478395,
                    4.869548995812023,
                    4.317995552439635,
                    4.242614173414459,
                    4.528908144295559,
                    4.219995194233676,
                    4.526756394187483,
                    4.40606520075372,
                    4.68998869107072,
                    4.093778103109918,
                    4.5982587779493445,
                    4.706940844448112,
                    4.733102625730331,
                    3.7467284767869757,
                    4.915552171614814,
                    4.61508806754238,
                    4.232839666102933,
                    4.499252397731709,
                    4.4057115759501695,
                    5.209521971104082,
                    4.156237548380635,
                    4.196030227600371,
                    4.541800790094501,
                    4.188662625477499,
                    4.8550798167276605,
                    4.755614306349147,
                    4.335659751151774,
                    4.671209430240891,
                    4.628232164091407,
                    4.7130060734724415,
                    3.963911308015582,
                    4.571089139808612,
                    3.614460180337137,
                    4.596407010017038,
                    4.396427976339658,
                    4.644366494142015,
                    4.077004539030833,
                    4.252860785970112,
                    4.5180658068004815,
                    4.690278987123051,
                    4.503623555521036,
                    4.926712361031705,
                    5.090259586484556,
                    4.648468156945607,
                    4.338450157571019,
                    4.677595884636209,
                    4.340040262855225,
                    4.492446441204299,
                    4.4047842544544435,
                    4.293099826551857,
                    4.365786644508103,
                    4.330707050697974,
                    5.084636607891274,
                    4.926783149478301,
                    4.314198287512947,
                    4.7957652859352065,
                    4.092496969148469,
                    4.5532924186777946,
                    4.625099277077914,
                    3.971255377494615,
                    4.582000431803238,
                    4.144245165481218,
                    4.505167987735436,
                    3.4949033126289515,
                    4.2214866677939815,
                    4.7557381916117025,
                    4.71700784663246,
                    4.460630069305533,
                    4.739357623784628,
                    5.154950459735427,
                    4.292846165591826,
                    4.244662988105632,
                    4.68590374109339,
                    4.643467329307673,
                    4.8665364270677305,
                    3.6968906441407916,
                    4.144718376817768,
                    5.1212759098455605,
                    4.953999646167641,
                    4.45803845037008,
                    4.660058180565989,
                    4.469428433033308,
                    4.864883090833462,
                    4.5656606594607005,
                    3.9775308402045115,
                    4.377214149907675,
                    4.54835746254186,
                    4.410582066204004,
                    4.526915206115151,
                    4.024655800311509,
                    4.030122790311448,
                    4.736162313879435,
                    4.269802392081002,
                    5.282002701343436,
                    4.353275401780716,
                    4.744143709532033,
                    4.517627132262956,
                    5.039167055944282,
                    4.206056730060356,
                    4.981698031537277,
                    4.100994978338652,
                    3.469271506882489,
                    4.689104355223623,
                    4.327601550133008,
                    4.011378430212285,
                    4.183688448410726,
                    4.3056333543016265,
                    4.931292836818564,
                    4.263714771019903,
                    4.185776866951091,
                    4.337345253654701,
                    4.960689397413601,
                    4.176759056906479,
                    4.920302480331977,
                    4.391578177343191,
                    4.258796401065633,
                    4.203573836374568,
                    5.006206573871428,
                    3.7118600057427913,
                    4.766631251575491,
                    4.793317097681203,
                    4.564900370404158,
                    3.7395596670045457,
                    4.635702928378957,
                    4.146320577637141,
                    4.540075183289653,
                    4.040505261624001,
                    3.949904537204756,
                    4.748710769665843,
                    5.10632028440144,
                    4.08279966905471,
                    4.535734340025,
                    5.025274663255264,
                    4.787224366272322,
                    4.567391755085834,
                    4.045207803971341,
                    4.37122687335136,
                    4.4587449728533075,
                    4.4144299684071076,
                    4.518542519534943,
                    4.429993687145483,
                    4.797717748157115,
                    4.835603415673308,
                    4.545687110407415,
                    4.1853001050780705,
                    3.889494744774121,
                    4.300974850039782,
                    4.256738694505114,
                    4.711237041550734,
                    4.676095976445542,
                    4.423698467271334,
                    4.770294450769532,
                    4.143994930968046,
                    5.052594508088744,
                    4.815964601529101,
                    5.329204512059247,
                    4.6870483552677955,
                    4.563930961472085,
                    4.531619505926229,
                    4.305961959371397,
                    3.9438554561538393,
                    4.141319713657633,
                    4.424607976731595,
                    4.883748385998455,
                    4.253173966948219,
                    4.887368070919991,
                    4.424754234240509,
                    4.663529479033019,
                    4.586423558985154,
                    5.200032236707861,
                    5.130899516179373,
                    4.82506806210498,
                    5.222601628993705,
                    4.17073217699566,
                    4.104860568426683,
                    4.160430262968952,
                    3.969803709604282,
                    4.777150501259606,
                    5.038961340270268,
                    5.085399003916385,
                    4.682438243857944,
                    5.02067500266633,
                    4.431011993199074,
                    4.578938649854386,
                    3.3731403926428407,
                    4.30623744571342,
                    3.4357709922971584,
                    4.558967926281711,
                    3.9701771109657753,
                    4.0887949311869916,
                    3.4539507594009797,
                    4.98074169315313,
                    4.29355565897204,
                    4.606249426727203,
                    4.660271395477221,
                    4.575572188337548,
                    4.519658017046489,
                    4.718761701443767,
                    3.8158960744051704,
                    4.555469616237251,
                    4.550870795004996,
                    3.8310469313335815,
                    4.375468971694644,
                    4.064710527249078,
                    4.065117709840794,
                    4.717873616427628,
                    3.8852096003897443,
                    4.946087764288708,
                    4.678732095478334,
                    4.883369477071704,
                    4.317335579972494,
                    4.4505567243352795,
                    4.434286252520476,
                    4.771167923045202,
                    4.445344124082422,
                    4.099302573280935,
                    3.8619129005889534,
                    4.499334396765794,
                    4.485536427418103,
                    4.437129127142395,
                    3.657457998833719,
                    4.483059090472466,
                    4.560744153536134,
                    4.390544930101781,
                    4.568260819211626,
                    5.041445802003245,
                    5.28096257654659,
                    4.260865884532262,
                    4.459274642801698,
                    4.460258796529181,
                    4.589125170992182,
                    4.410182898098124,
                    4.384520697946647,
                    5.164684504212889,
                    4.343282458508086,
                    4.423507901006086,
                    4.156252341605575,
                    4.844075855574523,
                    4.416961543072127,
                    4.780053796792765,
                    4.559283930870932,
                    4.2545153195666865,
                    4.021525044419959,
                    4.943966210624935,
                    4.346992454130711,
                    4.101421792924895,
                    4.475168798236438,
                    4.940868329195353,
                    3.935030023376148,
                    4.286954172981175,
                    4.065676411270576,
                    4.028787251298532,
                    4.386067688157638,
                    4.927998619185588,
                    4.424066870650188,
                    4.049761012809516,
                    4.7827487929473635,
                    4.716270536992944,
                    4.560783126410717,
                    4.3698624286196655,
                    4.613782035045625,
                    4.373872502397894,
                    4.355301920917035,
                    4.108684555292453,
                    4.753088098958208,
                    5.1964607696425595,
                    4.49243348477504,
                    4.481971468471186,
                    5.055744400031291,
                    4.97094050002119,
                    4.679280329114087,
                    4.359944800276806,
                    4.945654217136674,
                    4.533600874901055,
                    4.536981842856577,
                    4.77692100079587,
                    4.458818900895168,
                    4.260594752073112,
                    3.9090199821056597,
                    5.0141733594364615,
                    4.362243844216586,
                    4.636331008069628,
                    4.419246330119148,
                    4.733464848749953,
                    4.685068480041839,
                    5.2504985606105965,
                    4.661177686204886,
                    4.301499772294826,
                    4.461892779290525,
                    5.103112199373925,
                    4.4647947543818445,
                    4.66537964387458,
                    4.13049866650057,
                    4.306531973077495,
                    3.5792391862577033,
                    3.9451480416656275,
                    4.490322431392598,
                    4.613307243294741,
                    3.758098075814478,
                    4.460036861178489,
                    4.950208252966946,
                    5.37264211780798,
                    4.529929767373269,
                    5.001170957955328,
                    4.480685806334884,
                    5.113871498923118,
                    3.9826547715673777,
                    4.423885050886311,
                    4.56400180177939,
                    4.072689392045527,
                    4.05137755453577,
                    3.776883988478172,
                    4.71499047256351,
                    4.9762277999619835,
                    4.207846872052523,
                    3.833264384191935,
                    4.23267645753645,
                    4.772560350624559,
                    3.9127686575063527,
                    4.761673334620718,
                    4.8805327753888745,
                    4.358898735157988,
                    4.15275296775837,
                    4.509890848704692,
                    4.273261666521283,
                    4.060669120162594,
                    4.652063345893809,
                    4.183825672166278,
                    3.8235969349194714,
                    5.065535627223249,
                    4.153921487769486,
                    4.770583591561422,
                    4.652707026964004,
                    4.448020998411169,
                    4.040176610972014,
                    4.769418670618938,
                    4.008736335170913,
                    3.588701138917647,
                    4.378231818407719,
                    4.071509603778652,
                    4.354962627736241,
                    4.419132544662955,
                    5.607908229725807,
                    5.156961154049557,
                    4.728697747918528,
                    4.569308294446286,
                    4.358539506269293,
                    4.656008666862091,
                    4.586269980730946,
                    4.717200252436829,
                    4.644863701733151,
                    5.01775461579289,
                    4.357177262262118,
                    4.973945917662385,
                    4.741478007207715,
                    4.879372075820366,
                    4.629730285877124,
                    5.2358749432847445,
                    4.304462328331579,
                    4.151118012692051,
                    5.05558496231364,
                    4.352924231747116,
                    4.664533232378543,
                    5.287350419520554,
                    5.074296172885654,
                    4.414696200163102,
                    4.139047435676081,
                    3.7655988628778005,
                    4.619968098563539,
                    4.797162369943984,
                    4.664976582140402,
                    4.6355778303925,
                    4.247483291927892,
                    4.859744194880714,
                    4.156211472730182,
                    5.343384536324546,
                    3.7342541103946565,
                    3.9595569479758184,
                    4.5458477390858905,
                    4.505310825305677,
                    5.584797780579527,
                    4.583991467043965,
                    4.738151473459749,
                    4.862573447987562,
                    4.534024527646607,
                    4.755002795398539,
                    4.726312557562847,
                    4.276387387502785,
                    4.939292140055132,
                    4.803270677787405,
                    4.051946506374588,
                    5.204554868807784,
                    4.9074847845636995,
                    5.17125570217154,
                    4.768266651678357,
                    4.111733365541637,
                    3.846761103725608,
                    4.983260882797304,
                    4.49639425244618,
                    4.176363834711171,
                    5.028605053196096,
                    3.6340281792092637,
                    4.9596550413365526,
                    4.934951149086817,
                    5.15349327138638,
                    4.7522555561443065,
                    4.562836593932253,
                    4.763052499314686,
                    4.929851583550115,
                    4.354043274468932,
                    3.9964807889993277,
                    4.382535157414188,
                    4.387768031229558,
                    4.680668727989332,
                    4.396634076848679,
                    4.3149202121666725,
                    3.5257923386849512,
                    4.778653481060002,
                    3.886466427624443,
                    5.000655239244861,
                    4.924345789653672,
                    3.449296801883779,
                    4.078297339976059,
                    4.876563769052365,
                    4.695673181835811,
                    4.797308071582261,
                    4.251780043274349,
                    4.308329128729026
                  ],
                  "xaxis": "x",
                  "yaxis": "y"
                }
              ],
              "layout": {
                "barmode": "relative",
                "legend": {
                  "tracegroupgap": 0
                },
                "template": {
                  "data": {
                    "bar": [
                      {
                        "error_x": {
                          "color": "#2a3f5f"
                        },
                        "error_y": {
                          "color": "#2a3f5f"
                        },
                        "marker": {
                          "line": {
                            "color": "#E5ECF6",
                            "width": 0.5
                          },
                          "pattern": {
                            "fillmode": "overlay",
                            "size": 10,
                            "solidity": 0.2
                          }
                        },
                        "type": "bar"
                      }
                    ],
                    "barpolar": [
                      {
                        "marker": {
                          "line": {
                            "color": "#E5ECF6",
                            "width": 0.5
                          },
                          "pattern": {
                            "fillmode": "overlay",
                            "size": 10,
                            "solidity": 0.2
                          }
                        },
                        "type": "barpolar"
                      }
                    ],
                    "carpet": [
                      {
                        "aaxis": {
                          "endlinecolor": "#2a3f5f",
                          "gridcolor": "white",
                          "linecolor": "white",
                          "minorgridcolor": "white",
                          "startlinecolor": "#2a3f5f"
                        },
                        "baxis": {
                          "endlinecolor": "#2a3f5f",
                          "gridcolor": "white",
                          "linecolor": "white",
                          "minorgridcolor": "white",
                          "startlinecolor": "#2a3f5f"
                        },
                        "type": "carpet"
                      }
                    ],
                    "choropleth": [
                      {
                        "colorbar": {
                          "outlinewidth": 0,
                          "ticks": ""
                        },
                        "type": "choropleth"
                      }
                    ],
                    "contour": [
                      {
                        "colorbar": {
                          "outlinewidth": 0,
                          "ticks": ""
                        },
                        "colorscale": [
                          [
                            0,
                            "#0d0887"
                          ],
                          [
                            0.1111111111111111,
                            "#46039f"
                          ],
                          [
                            0.2222222222222222,
                            "#7201a8"
                          ],
                          [
                            0.3333333333333333,
                            "#9c179e"
                          ],
                          [
                            0.4444444444444444,
                            "#bd3786"
                          ],
                          [
                            0.5555555555555556,
                            "#d8576b"
                          ],
                          [
                            0.6666666666666666,
                            "#ed7953"
                          ],
                          [
                            0.7777777777777778,
                            "#fb9f3a"
                          ],
                          [
                            0.8888888888888888,
                            "#fdca26"
                          ],
                          [
                            1,
                            "#f0f921"
                          ]
                        ],
                        "type": "contour"
                      }
                    ],
                    "contourcarpet": [
                      {
                        "colorbar": {
                          "outlinewidth": 0,
                          "ticks": ""
                        },
                        "type": "contourcarpet"
                      }
                    ],
                    "heatmap": [
                      {
                        "colorbar": {
                          "outlinewidth": 0,
                          "ticks": ""
                        },
                        "colorscale": [
                          [
                            0,
                            "#0d0887"
                          ],
                          [
                            0.1111111111111111,
                            "#46039f"
                          ],
                          [
                            0.2222222222222222,
                            "#7201a8"
                          ],
                          [
                            0.3333333333333333,
                            "#9c179e"
                          ],
                          [
                            0.4444444444444444,
                            "#bd3786"
                          ],
                          [
                            0.5555555555555556,
                            "#d8576b"
                          ],
                          [
                            0.6666666666666666,
                            "#ed7953"
                          ],
                          [
                            0.7777777777777778,
                            "#fb9f3a"
                          ],
                          [
                            0.8888888888888888,
                            "#fdca26"
                          ],
                          [
                            1,
                            "#f0f921"
                          ]
                        ],
                        "type": "heatmap"
                      }
                    ],
                    "heatmapgl": [
                      {
                        "colorbar": {
                          "outlinewidth": 0,
                          "ticks": ""
                        },
                        "colorscale": [
                          [
                            0,
                            "#0d0887"
                          ],
                          [
                            0.1111111111111111,
                            "#46039f"
                          ],
                          [
                            0.2222222222222222,
                            "#7201a8"
                          ],
                          [
                            0.3333333333333333,
                            "#9c179e"
                          ],
                          [
                            0.4444444444444444,
                            "#bd3786"
                          ],
                          [
                            0.5555555555555556,
                            "#d8576b"
                          ],
                          [
                            0.6666666666666666,
                            "#ed7953"
                          ],
                          [
                            0.7777777777777778,
                            "#fb9f3a"
                          ],
                          [
                            0.8888888888888888,
                            "#fdca26"
                          ],
                          [
                            1,
                            "#f0f921"
                          ]
                        ],
                        "type": "heatmapgl"
                      }
                    ],
                    "histogram": [
                      {
                        "marker": {
                          "pattern": {
                            "fillmode": "overlay",
                            "size": 10,
                            "solidity": 0.2
                          }
                        },
                        "type": "histogram"
                      }
                    ],
                    "histogram2d": [
                      {
                        "colorbar": {
                          "outlinewidth": 0,
                          "ticks": ""
                        },
                        "colorscale": [
                          [
                            0,
                            "#0d0887"
                          ],
                          [
                            0.1111111111111111,
                            "#46039f"
                          ],
                          [
                            0.2222222222222222,
                            "#7201a8"
                          ],
                          [
                            0.3333333333333333,
                            "#9c179e"
                          ],
                          [
                            0.4444444444444444,
                            "#bd3786"
                          ],
                          [
                            0.5555555555555556,
                            "#d8576b"
                          ],
                          [
                            0.6666666666666666,
                            "#ed7953"
                          ],
                          [
                            0.7777777777777778,
                            "#fb9f3a"
                          ],
                          [
                            0.8888888888888888,
                            "#fdca26"
                          ],
                          [
                            1,
                            "#f0f921"
                          ]
                        ],
                        "type": "histogram2d"
                      }
                    ],
                    "histogram2dcontour": [
                      {
                        "colorbar": {
                          "outlinewidth": 0,
                          "ticks": ""
                        },
                        "colorscale": [
                          [
                            0,
                            "#0d0887"
                          ],
                          [
                            0.1111111111111111,
                            "#46039f"
                          ],
                          [
                            0.2222222222222222,
                            "#7201a8"
                          ],
                          [
                            0.3333333333333333,
                            "#9c179e"
                          ],
                          [
                            0.4444444444444444,
                            "#bd3786"
                          ],
                          [
                            0.5555555555555556,
                            "#d8576b"
                          ],
                          [
                            0.6666666666666666,
                            "#ed7953"
                          ],
                          [
                            0.7777777777777778,
                            "#fb9f3a"
                          ],
                          [
                            0.8888888888888888,
                            "#fdca26"
                          ],
                          [
                            1,
                            "#f0f921"
                          ]
                        ],
                        "type": "histogram2dcontour"
                      }
                    ],
                    "mesh3d": [
                      {
                        "colorbar": {
                          "outlinewidth": 0,
                          "ticks": ""
                        },
                        "type": "mesh3d"
                      }
                    ],
                    "parcoords": [
                      {
                        "line": {
                          "colorbar": {
                            "outlinewidth": 0,
                            "ticks": ""
                          }
                        },
                        "type": "parcoords"
                      }
                    ],
                    "pie": [
                      {
                        "automargin": true,
                        "type": "pie"
                      }
                    ],
                    "scatter": [
                      {
                        "fillpattern": {
                          "fillmode": "overlay",
                          "size": 10,
                          "solidity": 0.2
                        },
                        "type": "scatter"
                      }
                    ],
                    "scatter3d": [
                      {
                        "line": {
                          "colorbar": {
                            "outlinewidth": 0,
                            "ticks": ""
                          }
                        },
                        "marker": {
                          "colorbar": {
                            "outlinewidth": 0,
                            "ticks": ""
                          }
                        },
                        "type": "scatter3d"
                      }
                    ],
                    "scattercarpet": [
                      {
                        "marker": {
                          "colorbar": {
                            "outlinewidth": 0,
                            "ticks": ""
                          }
                        },
                        "type": "scattercarpet"
                      }
                    ],
                    "scattergeo": [
                      {
                        "marker": {
                          "colorbar": {
                            "outlinewidth": 0,
                            "ticks": ""
                          }
                        },
                        "type": "scattergeo"
                      }
                    ],
                    "scattergl": [
                      {
                        "marker": {
                          "colorbar": {
                            "outlinewidth": 0,
                            "ticks": ""
                          }
                        },
                        "type": "scattergl"
                      }
                    ],
                    "scattermapbox": [
                      {
                        "marker": {
                          "colorbar": {
                            "outlinewidth": 0,
                            "ticks": ""
                          }
                        },
                        "type": "scattermapbox"
                      }
                    ],
                    "scatterpolar": [
                      {
                        "marker": {
                          "colorbar": {
                            "outlinewidth": 0,
                            "ticks": ""
                          }
                        },
                        "type": "scatterpolar"
                      }
                    ],
                    "scatterpolargl": [
                      {
                        "marker": {
                          "colorbar": {
                            "outlinewidth": 0,
                            "ticks": ""
                          }
                        },
                        "type": "scatterpolargl"
                      }
                    ],
                    "scatterternary": [
                      {
                        "marker": {
                          "colorbar": {
                            "outlinewidth": 0,
                            "ticks": ""
                          }
                        },
                        "type": "scatterternary"
                      }
                    ],
                    "surface": [
                      {
                        "colorbar": {
                          "outlinewidth": 0,
                          "ticks": ""
                        },
                        "colorscale": [
                          [
                            0,
                            "#0d0887"
                          ],
                          [
                            0.1111111111111111,
                            "#46039f"
                          ],
                          [
                            0.2222222222222222,
                            "#7201a8"
                          ],
                          [
                            0.3333333333333333,
                            "#9c179e"
                          ],
                          [
                            0.4444444444444444,
                            "#bd3786"
                          ],
                          [
                            0.5555555555555556,
                            "#d8576b"
                          ],
                          [
                            0.6666666666666666,
                            "#ed7953"
                          ],
                          [
                            0.7777777777777778,
                            "#fb9f3a"
                          ],
                          [
                            0.8888888888888888,
                            "#fdca26"
                          ],
                          [
                            1,
                            "#f0f921"
                          ]
                        ],
                        "type": "surface"
                      }
                    ],
                    "table": [
                      {
                        "cells": {
                          "fill": {
                            "color": "#EBF0F8"
                          },
                          "line": {
                            "color": "white"
                          }
                        },
                        "header": {
                          "fill": {
                            "color": "#C8D4E3"
                          },
                          "line": {
                            "color": "white"
                          }
                        },
                        "type": "table"
                      }
                    ]
                  },
                  "layout": {
                    "annotationdefaults": {
                      "arrowcolor": "#2a3f5f",
                      "arrowhead": 0,
                      "arrowwidth": 1
                    },
                    "autotypenumbers": "strict",
                    "coloraxis": {
                      "colorbar": {
                        "outlinewidth": 0,
                        "ticks": ""
                      }
                    },
                    "colorscale": {
                      "diverging": [
                        [
                          0,
                          "#8e0152"
                        ],
                        [
                          0.1,
                          "#c51b7d"
                        ],
                        [
                          0.2,
                          "#de77ae"
                        ],
                        [
                          0.3,
                          "#f1b6da"
                        ],
                        [
                          0.4,
                          "#fde0ef"
                        ],
                        [
                          0.5,
                          "#f7f7f7"
                        ],
                        [
                          0.6,
                          "#e6f5d0"
                        ],
                        [
                          0.7,
                          "#b8e186"
                        ],
                        [
                          0.8,
                          "#7fbc41"
                        ],
                        [
                          0.9,
                          "#4d9221"
                        ],
                        [
                          1,
                          "#276419"
                        ]
                      ],
                      "sequential": [
                        [
                          0,
                          "#0d0887"
                        ],
                        [
                          0.1111111111111111,
                          "#46039f"
                        ],
                        [
                          0.2222222222222222,
                          "#7201a8"
                        ],
                        [
                          0.3333333333333333,
                          "#9c179e"
                        ],
                        [
                          0.4444444444444444,
                          "#bd3786"
                        ],
                        [
                          0.5555555555555556,
                          "#d8576b"
                        ],
                        [
                          0.6666666666666666,
                          "#ed7953"
                        ],
                        [
                          0.7777777777777778,
                          "#fb9f3a"
                        ],
                        [
                          0.8888888888888888,
                          "#fdca26"
                        ],
                        [
                          1,
                          "#f0f921"
                        ]
                      ],
                      "sequentialminus": [
                        [
                          0,
                          "#0d0887"
                        ],
                        [
                          0.1111111111111111,
                          "#46039f"
                        ],
                        [
                          0.2222222222222222,
                          "#7201a8"
                        ],
                        [
                          0.3333333333333333,
                          "#9c179e"
                        ],
                        [
                          0.4444444444444444,
                          "#bd3786"
                        ],
                        [
                          0.5555555555555556,
                          "#d8576b"
                        ],
                        [
                          0.6666666666666666,
                          "#ed7953"
                        ],
                        [
                          0.7777777777777778,
                          "#fb9f3a"
                        ],
                        [
                          0.8888888888888888,
                          "#fdca26"
                        ],
                        [
                          1,
                          "#f0f921"
                        ]
                      ]
                    },
                    "colorway": [
                      "#636efa",
                      "#EF553B",
                      "#00cc96",
                      "#ab63fa",
                      "#FFA15A",
                      "#19d3f3",
                      "#FF6692",
                      "#B6E880",
                      "#FF97FF",
                      "#FECB52"
                    ],
                    "font": {
                      "color": "#2a3f5f"
                    },
                    "geo": {
                      "bgcolor": "white",
                      "lakecolor": "white",
                      "landcolor": "#E5ECF6",
                      "showlakes": true,
                      "showland": true,
                      "subunitcolor": "white"
                    },
                    "hoverlabel": {
                      "align": "left"
                    },
                    "hovermode": "closest",
                    "mapbox": {
                      "style": "light"
                    },
                    "paper_bgcolor": "white",
                    "plot_bgcolor": "#E5ECF6",
                    "polar": {
                      "angularaxis": {
                        "gridcolor": "white",
                        "linecolor": "white",
                        "ticks": ""
                      },
                      "bgcolor": "#E5ECF6",
                      "radialaxis": {
                        "gridcolor": "white",
                        "linecolor": "white",
                        "ticks": ""
                      }
                    },
                    "scene": {
                      "xaxis": {
                        "backgroundcolor": "#E5ECF6",
                        "gridcolor": "white",
                        "gridwidth": 2,
                        "linecolor": "white",
                        "showbackground": true,
                        "ticks": "",
                        "zerolinecolor": "white"
                      },
                      "yaxis": {
                        "backgroundcolor": "#E5ECF6",
                        "gridcolor": "white",
                        "gridwidth": 2,
                        "linecolor": "white",
                        "showbackground": true,
                        "ticks": "",
                        "zerolinecolor": "white"
                      },
                      "zaxis": {
                        "backgroundcolor": "#E5ECF6",
                        "gridcolor": "white",
                        "gridwidth": 2,
                        "linecolor": "white",
                        "showbackground": true,
                        "ticks": "",
                        "zerolinecolor": "white"
                      }
                    },
                    "shapedefaults": {
                      "line": {
                        "color": "#2a3f5f"
                      }
                    },
                    "ternary": {
                      "aaxis": {
                        "gridcolor": "white",
                        "linecolor": "white",
                        "ticks": ""
                      },
                      "baxis": {
                        "gridcolor": "white",
                        "linecolor": "white",
                        "ticks": ""
                      },
                      "bgcolor": "#E5ECF6",
                      "caxis": {
                        "gridcolor": "white",
                        "linecolor": "white",
                        "ticks": ""
                      }
                    },
                    "title": {
                      "x": 0.05
                    },
                    "xaxis": {
                      "automargin": true,
                      "gridcolor": "white",
                      "linecolor": "white",
                      "ticks": "",
                      "title": {
                        "standoff": 15
                      },
                      "zerolinecolor": "white",
                      "zerolinewidth": 2
                    },
                    "yaxis": {
                      "automargin": true,
                      "gridcolor": "white",
                      "linecolor": "white",
                      "ticks": "",
                      "title": {
                        "standoff": 15
                      },
                      "zerolinecolor": "white",
                      "zerolinewidth": 2
                    }
                  }
                },
                "title": {
                  "text": "Histograma das previsões de conversão com Páginas por Sessão reduzida"
                },
                "xaxis": {
                  "anchor": "y",
                  "domain": [
                    0,
                    1
                  ],
                  "title": {
                    "text": "x"
                  }
                },
                "yaxis": {
                  "anchor": "x",
                  "domain": [
                    0,
                    1
                  ],
                  "title": {
                    "text": "count"
                  }
                }
              }
            }
          },
          "metadata": {},
          "output_type": "display_data"
        }
      ],
      "source": [
        "px.histogram(x=conversoes_previstas.mean(axis=1), title='Histograma das previsões de conversão com Páginas por Sessão reduzida')"
      ]
    },
    {
      "cell_type": "code",
      "execution_count": 98,
      "metadata": {},
      "outputs": [
        {
          "name": "stderr",
          "output_type": "stream",
          "text": [
            "C:\\Users\\Rodrigo\\AppData\\Local\\Temp\\ipykernel_20404\\879264010.py:3: SettingWithCopyWarning:\n",
            "\n",
            "\n",
            "A value is trying to be set on a copy of a slice from a DataFrame.\n",
            "Try using .loc[row_indexer,col_indexer] = value instead\n",
            "\n",
            "See the caveats in the documentation: https://pandas.pydata.org/pandas-docs/stable/user_guide/indexing.html#returning-a-view-versus-a-copy\n",
            "\n"
          ]
        },
        {
          "data": {
            "text/plain": [
              "4.508223271073409"
            ]
          },
          "execution_count": 98,
          "metadata": {},
          "output_type": "execute_result"
        }
      ],
      "source": [
        "# Aumentando o número de simulações e visitantes únicos\n",
        "n_simulacoes = 10000\n",
        "X['Visitantes Únicos'] = X['Visitantes Únicos'] * 2\n",
        "conversoes_previstas = []\n",
        "for _ in range(n_simulacoes):\n",
        "    # Modelo de regressão linear\n",
        "    X_train, X_test, y_train, y_test = train_test_split(X, y, test_size=0.2)\n",
        "    model = LinearRegression()\n",
        "    model.fit(X_train, y_train)\n",
        "    # Previsão\n",
        "    y_pred = model.predict(X_test)\n",
        "    conversoes_previstas.append(y_pred)\n",
        "conversoes_previstas = np.array(conversoes_previstas)\n",
        "conversoes_previstas.mean()"
      ]
    },
    {
      "cell_type": "code",
      "execution_count": 90,
      "metadata": {},
      "outputs": [
        {
          "name": "stderr",
          "output_type": "stream",
          "text": [
            "C:\\Users\\Rodrigo\\AppData\\Local\\Temp\\ipykernel_20404\\2822674286.py:2: SettingWithCopyWarning:\n",
            "\n",
            "\n",
            "A value is trying to be set on a copy of a slice from a DataFrame.\n",
            "Try using .loc[row_indexer,col_indexer] = value instead\n",
            "\n",
            "See the caveats in the documentation: https://pandas.pydata.org/pandas-docs/stable/user_guide/indexing.html#returning-a-view-versus-a-copy\n",
            "\n"
          ]
        },
        {
          "data": {
            "text/plain": [
              "4.5070389406647"
            ]
          },
          "execution_count": 90,
          "metadata": {},
          "output_type": "execute_result"
        }
      ],
      "source": [
        "# Aumentando o número de média de Páginas por Sessão em 50 %\t\n",
        "X['Páginas por Sessão'] = X['Páginas por Sessão'] * 1.5\n",
        "n_simulacoes = 1000\n",
        "conversoes_previstas = []\n",
        "for _ in range(n_simulacoes):\n",
        "    # Modelo de regressão linear\n",
        "    X_train, X_test, y_train, y_test = train_test_split(X, y, test_size=0.2)\n",
        "    model = LinearRegression()\n",
        "    model.fit(X_train, y_train)\n",
        "    # Previsão\n",
        "    y_pred = model.predict(X_test)\n",
        "    conversoes_previstas.append(y_pred)\n",
        "conversoes_previstas = np.array(conversoes_previstas)\n",
        "conversoes_previstas.mean()"
      ]
    },
    {
      "cell_type": "code",
      "execution_count": 91,
      "metadata": {},
      "outputs": [
        {
          "name": "stdout",
          "output_type": "stream",
          "text": [
            "A média de conversões previstas é de 4.5070389406647\n",
            "A média de conversões reais é de 4.499631657295852\n",
            "O desvio padrão das conversões previstas é de 1.4755559540263998\n",
            "O desvio padrão das conversões reais é de 1.4867182834038823\n"
          ]
        }
      ],
      "source": [
        "print(f'A média de conversões previstas é de {conversoes_previstas.mean()}')\n",
        "print(f'A média de conversões reais é de {y.mean()}')\n",
        "print(f'O desvio padrão das conversões previstas é de {conversoes_previstas.std()}')\n",
        "print(f'O desvio padrão das conversões reais é de {y.std()}')"
      ]
    },
    {
      "cell_type": "code",
      "execution_count": 92,
      "metadata": {},
      "outputs": [
        {
          "name": "stdout",
          "output_type": "stream",
          "text": [
            "Feature: Visitantes Únicos, Score: 0.00378421698349783\n",
            "Feature: Páginas por Sessão, Score: 4.1626166467041505\n",
            "Feature: Sessões, Score: 0.0014967472590685304\n",
            "Feature: Eventos, Score: -0.003278366165672076\n",
            "Feature: Tempo Médio de Sessão (minutos), Score: 0.08203326174994874\n"
          ]
        }
      ],
      "source": [
        "# Importância das features no modelo\n",
        "importancia = model.coef_\n",
        "for i, v in enumerate(importancia):\n",
        "    print(f'Feature: {X.columns[i]}, Score: {v}')"
      ]
    },
    {
      "cell_type": "code",
      "execution_count": 93,
      "metadata": {},
      "outputs": [
        {
          "name": "stderr",
          "output_type": "stream",
          "text": [
            "C:\\Users\\Rodrigo\\AppData\\Local\\Temp\\ipykernel_20404\\1030637003.py:2: SettingWithCopyWarning:\n",
            "\n",
            "\n",
            "A value is trying to be set on a copy of a slice from a DataFrame.\n",
            "Try using .loc[row_indexer,col_indexer] = value instead\n",
            "\n",
            "See the caveats in the documentation: https://pandas.pydata.org/pandas-docs/stable/user_guide/indexing.html#returning-a-view-versus-a-copy\n",
            "\n",
            "C:\\Users\\Rodrigo\\AppData\\Local\\Temp\\ipykernel_20404\\1030637003.py:3: SettingWithCopyWarning:\n",
            "\n",
            "\n",
            "A value is trying to be set on a copy of a slice from a DataFrame.\n",
            "Try using .loc[row_indexer,col_indexer] = value instead\n",
            "\n",
            "See the caveats in the documentation: https://pandas.pydata.org/pandas-docs/stable/user_guide/indexing.html#returning-a-view-versus-a-copy\n",
            "\n"
          ]
        },
        {
          "data": {
            "text/plain": [
              "4.482828059481534"
            ]
          },
          "execution_count": 93,
          "metadata": {},
          "output_type": "execute_result"
        }
      ],
      "source": [
        "# Aumentando o tempo médio de sessão e o número de eventos\n",
        "X['Tempo Médio de Sessão (minutos)'] = X['Tempo Médio de Sessão (minutos)'] * 1.5\n",
        "X['Eventos'] = X['Eventos'] * 1.5\n",
        "n_simulacoes = 1000\n",
        "conversoes_previstas = []\n",
        "for _ in range(n_simulacoes):\n",
        "    # Modelo de regressão linear\n",
        "    X_train, X_test, y_train, y_test = train_test_split(X, y, test_size=0.2)\n",
        "    model = LinearRegression()\n",
        "    model.fit(X_train, y_train)\n",
        "    # Previsão\n",
        "    y_pred = model.predict(X_test)\n",
        "    conversoes_previstas.append(y_pred)\n",
        "conversoes_previstas = np.array(conversoes_previstas)\n",
        "conversoes_previstas.mean()"
      ]
    },
    {
      "cell_type": "code",
      "execution_count": 94,
      "metadata": {},
      "outputs": [
        {
          "name": "stdout",
          "output_type": "stream",
          "text": [
            "A média de conversões previstas é de 4.482828059481534\n",
            "A média de conversões reais é de 4.499631657295852\n",
            "O desvio padrão das conversões previstas é de 1.4582102009051745\n",
            "O desvio padrão das conversões reais é de 1.4867182834038823\n"
          ]
        }
      ],
      "source": [
        "print(f'A média de conversões previstas é de {conversoes_previstas.mean()}')\n",
        "print(f'A média de conversões reais é de {y.mean()}')\n",
        "print(f'O desvio padrão das conversões previstas é de {conversoes_previstas.std()}')\n",
        "print(f'O desvio padrão das conversões reais é de {y.std()}')"
      ]
    },
    {
      "cell_type": "code",
      "execution_count": 95,
      "metadata": {},
      "outputs": [
        {
          "name": "stdout",
          "output_type": "stream",
          "text": [
            "Feature: Visitantes Únicos, Score: 0.0026421771132536546\n",
            "Feature: Páginas por Sessão, Score: 5.5993852600612755\n",
            "Feature: Sessões, Score: 0.0009937312959248227\n",
            "Feature: Eventos, Score: -0.00028826893311494057\n",
            "Feature: Tempo Médio de Sessão (minutos), Score: 0.06803348187092921\n"
          ]
        }
      ],
      "source": [
        "importancia = model.coef_\n",
        "for i, v in enumerate(importancia):\n",
        "    print(f'Feature: {X.columns[i]}, Score: {v}')\n"
      ]
    },
    {
      "cell_type": "markdown",
      "metadata": {},
      "source": [
        "#### Conclusões\n",
        "Aumentar o número de páginas por sessões aparenta impactar positivamente durante as conversões, pois hipotéticamente possa deixar o usuário mais engajado"
      ]
    },
    {
      "cell_type": "markdown",
      "metadata": {
        "id": "Wsm10r4z2pr_"
      },
      "source": [
        "## Entrega"
      ]
    },
    {
      "cell_type": "markdown",
      "metadata": {
        "id": "xVOV_CWxMBX_"
      },
      "source": [
        "Siga esses passos para entregar sua prova.\n",
        "\n",
        "1. Crie um repositório no GitHub para essa entrega.\n",
        "\n",
        "2. Submeta seu desenvolvimento neste repositório.\n",
        "\n",
        "3. Garanta que o repositório é publicamente acessível (eliminatório).\n",
        "\n",
        "4. No Google forms da prova, submeta a URL do repositório."
      ]
    }
  ],
  "metadata": {
    "colab": {
      "collapsed_sections": [
        "hAI4WVs6E2vi",
        "f_y3dG-wFAy1"
      ],
      "provenance": []
    },
    "kernelspec": {
      "display_name": "Python 3",
      "name": "python3"
    },
    "language_info": {
      "codemirror_mode": {
        "name": "ipython",
        "version": 3
      },
      "file_extension": ".py",
      "mimetype": "text/x-python",
      "name": "python",
      "nbconvert_exporter": "python",
      "pygments_lexer": "ipython3",
      "version": "3.11.5"
    }
  },
  "nbformat": 4,
  "nbformat_minor": 0
}
